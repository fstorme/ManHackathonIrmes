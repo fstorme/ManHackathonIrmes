{
 "cells": [
  {
   "cell_type": "code",
   "execution_count": 28,
   "metadata": {},
   "outputs": [],
   "source": [
    "import pandas as pd\n",
    "import json \n",
    "import os"
   ]
  },
  {
   "attachments": {},
   "cell_type": "markdown",
   "metadata": {},
   "source": [
    "## Phases of play\n",
    "### How to obtain these 4 phases ?\n",
    "\n",
    "![](../assets/images/Phases_of_play.png)\n",
    "\n",
    "Pistes : \n",
    "- https://www.statsperform.com/resource/phases-of-play-an-introduction/ \n"
   ]
  },
  {
   "cell_type": "code",
   "execution_count": 29,
   "metadata": {},
   "outputs": [],
   "source": [
    "data_directory = '../data/StatsBomb'\n",
    "df_events = list()\n",
    "\n",
    "## Concaténation de tous les matchs \n",
    "for file in os.listdir(data_directory) :\n",
    "    # Sélection des données d'évènements\n",
    "    if 'events.json' in file : \n",
    "        match_events_path = os.path.join(data_directory, file)\n",
    "    else :\n",
    "        continue\n",
    "    # Lecture du json\n",
    "    with open(match_events_path) as json_file:\n",
    "        match_events = json.load(json_file)\n",
    "    # Ajout du dataframe obtenu\n",
    "    df_events.append(pd.read_json(match_events_path))\n",
    "    break\n",
    "df_events = pd.concat(df_events)"
   ]
  },
  {
   "cell_type": "code",
   "execution_count": 30,
   "metadata": {},
   "outputs": [
    {
     "data": {
      "text/plain": [
       "Index(['id', 'index', 'period', 'timestamp', 'minute', 'second', 'type',\n",
       "       'possession', 'possession_team', 'play_pattern', 'obv_for_after',\n",
       "       'obv_for_before', 'obv_for_net', 'obv_against_after',\n",
       "       'obv_against_before', 'obv_against_net', 'obv_total_net', 'team',\n",
       "       'duration', 'tactics', 'related_events', 'player', 'position',\n",
       "       'location', 'pass', 'carry', 'ball_receipt', 'shot', 'goalkeeper',\n",
       "       'under_pressure', 'counterpress', 'ball_recovery', 'dribble', 'duel',\n",
       "       'out', 'clearance', 'off_camera', 'interception', 'foul_won',\n",
       "       'foul_committed', 'block', 'substitution', 'miscontrol',\n",
       "       'injury_stoppage'],\n",
       "      dtype='object')"
      ]
     },
     "execution_count": 30,
     "metadata": {},
     "output_type": "execute_result"
    }
   ],
   "source": [
    "df_events.columns"
   ]
  },
  {
   "cell_type": "code",
   "execution_count": 31,
   "metadata": {},
   "outputs": [],
   "source": [
    "df_events.loc[:, 'play_pattern_id'] = df_events.play_pattern.apply(lambda x: x['id'])\n",
    "df_events.loc[:, 'possession_team_id'] = df_events.possession_team.apply(lambda x: x['id'])\n",
    "df_events.loc[:, 'team_id'] = df_events.team.apply(lambda x: x['id'])\n",
    "df_events.loc[:, 'type_id'] = df_events.type.apply(lambda x: x['id'])\n",
    "\n",
    "df_events.loc[~df_events.player.isna(), 'player_id'] = df_events.loc[~df_events.player.isna(), 'player'].apply(lambda x: x['id'])\n",
    "\n",
    "df_events.loc[~df_events.location.isna(), 'x'] = df_events.loc[~df_events.location.isna(), 'location'].apply(lambda x : x[0])\n",
    "df_events.loc[~df_events.location.isna(), 'y'] = df_events.loc[~df_events.location.isna(), 'location'].apply(lambda x : x[1])"
   ]
  },
  {
   "cell_type": "code",
   "execution_count": 32,
   "metadata": {},
   "outputs": [],
   "source": [
    "min_possession_length = 3\n",
    "\n",
    "# On ne considère uniquement les séquences de longueur supérieure à 3 ? \n",
    "# Longueur d'une possession\n",
    "df_events.loc[:, 'possession_length'] = df_events.groupby('possession').id.transform('count')\n",
    "df_events = df_events[df_events.possession_length >= min_possession_length]\n",
    "\n",
    "# Suppression des coups de pieds arrétés et corner\n",
    "df_events = df_events[~df_events.play_pattern_id.isin((2, 3))]\n",
    "\n",
    "# On ne s'intéresse qu'à ManCity ? \n",
    "df_events = df_events[df_events.possession_team_id == 746]"
   ]
  },
  {
   "cell_type": "code",
   "execution_count": 33,
   "metadata": {},
   "outputs": [],
   "source": [
    "# Un besoin de normaliser le sens du terrain avec le fichier FAWSL_22_23"
   ]
  },
  {
   "cell_type": "code",
   "execution_count": 66,
   "metadata": {},
   "outputs": [],
   "source": [
    "play_phase = {\n",
    "    1 : 'Build-up play',\n",
    "    2 : 'Counter-attacking',\n",
    "    3 : 'Final third penetration and finishing'\n",
    "}\n",
    "\n",
    "# Build-up play\n",
    "# Toutes les actions qui débutent dans la moitié de terrain de l'équipe\n",
    "df_events.loc[df_events.x < 70, 'play_phase_id'] = 1\n",
    "\n",
    "# Final third penetration and finishing\n",
    "# Action dans le dernier tiers \n",
    "df_events.loc[df_events.x > 80, 'play_phase_id'] = 3\n",
    "\n",
    "# Counter-attacking\n",
    "# L'id 6 de play_pattern tague directement les contres-attaques\n",
    "df_events.loc[df_events.play_pattern_id == 6, 'play_phase_id'] = 2"
   ]
  },
  {
   "attachments": {},
   "cell_type": "markdown",
   "metadata": {},
   "source": [
    "## Viz"
   ]
  },
  {
   "cell_type": "code",
   "execution_count": 35,
   "metadata": {},
   "outputs": [],
   "source": [
    "import plotly.graph_objects as go\n",
    "import sys\n",
    "\n",
    "sys.path.insert(0, '../')\n",
    "from scripts.viz import create_field"
   ]
  },
  {
   "cell_type": "code",
   "execution_count": 67,
   "metadata": {},
   "outputs": [
    {
     "name": "stderr",
     "output_type": "stream",
     "text": [
      "/var/folders/pd/5qcm5zrx0fn0j7pq93xczxwhsmpxkh/T/ipykernel_49229/2785464161.py:4: UserWarning:\n",
      "\n",
      "Pandas doesn't allow columns to be created via a new attribute name - see https://pandas.pydata.org/pandas-docs/stable/indexing.html#attribute-access\n",
      "\n",
      "/var/folders/pd/5qcm5zrx0fn0j7pq93xczxwhsmpxkh/T/ipykernel_49229/2785464161.py:15: SettingWithCopyWarning:\n",
      "\n",
      "\n",
      "A value is trying to be set on a copy of a slice from a DataFrame.\n",
      "Try using .loc[row_indexer,col_indexer] = value instead\n",
      "\n",
      "See the caveats in the documentation: https://pandas.pydata.org/pandas-docs/stable/user_guide/indexing.html#returning-a-view-versus-a-copy\n",
      "\n"
     ]
    }
   ],
   "source": [
    "df_events_finishing = df_events[df_events.play_phase_id == 1]\n",
    "\n",
    "# Actions à au moins deux passes\n",
    "df_events_finishing.possesion_length = df_events_finishing.groupby('possession').id.transform('count')\n",
    "df_events_finishing = df_events_finishing[df_events_finishing.possesion_length >= 2]\n",
    "\n",
    "# Actions uniquement de Man City\n",
    "df_events_finishing = df_events_finishing[df_events_finishing.team_id == 746]\n",
    "\n",
    "# Position moyenne des joueurs\n",
    "player_position = df_events_finishing.groupby(['player_id'])[['x', 'y']].mean().reset_index()\n",
    "\n",
    "# Passes et valeurs\n",
    "pass_events = df_events_finishing[df_events_finishing.type_id == 30] \n",
    "pass_events.loc[:, 'recept_player_id'] = pass_events['pass'].apply(lambda x : x['recipient']['id'] if 'recipient' in x else None)\n",
    "\n",
    "pass_events = pass_events.merge(player_position, right_on = 'player_id', left_on = 'player_id')\n",
    "pass_events = pass_events.merge(player_position, right_on = 'player_id', left_on = 'recept_player_id')"
   ]
  },
  {
   "cell_type": "code",
   "execution_count": 68,
   "metadata": {},
   "outputs": [
    {
     "data": {
      "application/vnd.plotly.v1+json": {
       "config": {
        "plotlyServerURL": "https://plot.ly"
       },
       "data": [
        {
         "marker": {
          "color": "blue",
          "size": 15
         },
         "mode": "markers",
         "type": "scatter",
         "x": [
          10.335,
          23.648000000000003,
          24.566666666666666,
          49.72295081967213,
          40.598214285714285,
          40.250314465408806,
          57.86,
          56.768,
          55.492592592592594,
          53.71818181818182,
          47.863157894736844,
          44.99673913043478,
          41.29,
          48.94615384615384,
          52.777499999999996,
          53.26666666666666
         ],
         "y": [
          39.89666666666667,
          62.312,
          19.333333333333332,
          10.20327868852459,
          52.066071428571426,
          26.367295597484276,
          26.433333333333334,
          67.884,
          21.25185185185185,
          37.836363636363636,
          32.108270676691724,
          63.44239130434782,
          37.67,
          17.184615384615384,
          61.302499999999995,
          51.76666666666667
         ]
        },
        {
         "line": {
          "color": "red",
          "width": 2
         },
         "mode": "lines",
         "type": "scatter",
         "x": [
          44.99673913043478,
          52.777499999999996
         ],
         "y": [
          63.44239130434782,
          61.302499999999995
         ]
        },
        {
         "line": {
          "color": "red",
          "width": 2
         },
         "mode": "lines",
         "type": "scatter",
         "x": [
          44.99673913043478,
          52.777499999999996
         ],
         "y": [
          63.44239130434782,
          61.302499999999995
         ]
        },
        {
         "line": {
          "color": "red",
          "width": 2
         },
         "mode": "lines",
         "type": "scatter",
         "x": [
          44.99673913043478,
          52.777499999999996
         ],
         "y": [
          63.44239130434782,
          61.302499999999995
         ]
        },
        {
         "line": {
          "color": "red",
          "width": 2
         },
         "mode": "lines",
         "type": "scatter",
         "x": [
          47.863157894736844,
          52.777499999999996
         ],
         "y": [
          32.108270676691724,
          61.302499999999995
         ]
        },
        {
         "line": {
          "color": "red",
          "width": 2
         },
         "mode": "lines",
         "type": "scatter",
         "x": [
          47.863157894736844,
          52.777499999999996
         ],
         "y": [
          32.108270676691724,
          61.302499999999995
         ]
        },
        {
         "line": {
          "color": "red",
          "width": 2
         },
         "mode": "lines",
         "type": "scatter",
         "x": [
          47.863157894736844,
          52.777499999999996
         ],
         "y": [
          32.108270676691724,
          61.302499999999995
         ]
        },
        {
         "line": {
          "color": "red",
          "width": 2
         },
         "mode": "lines",
         "type": "scatter",
         "x": [
          47.863157894736844,
          52.777499999999996
         ],
         "y": [
          32.108270676691724,
          61.302499999999995
         ]
        },
        {
         "line": {
          "color": "red",
          "width": 2
         },
         "mode": "lines",
         "type": "scatter",
         "x": [
          49.72295081967213,
          52.777499999999996
         ],
         "y": [
          10.20327868852459,
          61.302499999999995
         ]
        },
        {
         "line": {
          "color": "red",
          "width": 2
         },
         "mode": "lines",
         "type": "scatter",
         "x": [
          55.492592592592594,
          52.777499999999996
         ],
         "y": [
          21.25185185185185,
          61.302499999999995
         ]
        },
        {
         "line": {
          "color": "red",
          "width": 2
         },
         "mode": "lines",
         "type": "scatter",
         "x": [
          40.598214285714285,
          52.777499999999996
         ],
         "y": [
          52.066071428571426,
          61.302499999999995
         ]
        },
        {
         "line": {
          "color": "red",
          "width": 2
         },
         "mode": "lines",
         "type": "scatter",
         "x": [
          40.598214285714285,
          52.777499999999996
         ],
         "y": [
          52.066071428571426,
          61.302499999999995
         ]
        },
        {
         "line": {
          "color": "red",
          "width": 2
         },
         "mode": "lines",
         "type": "scatter",
         "x": [
          40.598214285714285,
          52.777499999999996
         ],
         "y": [
          52.066071428571426,
          61.302499999999995
         ]
        },
        {
         "line": {
          "color": "red",
          "width": 2
         },
         "mode": "lines",
         "type": "scatter",
         "x": [
          40.598214285714285,
          52.777499999999996
         ],
         "y": [
          52.066071428571426,
          61.302499999999995
         ]
        },
        {
         "line": {
          "color": "red",
          "width": 2
         },
         "mode": "lines",
         "type": "scatter",
         "x": [
          40.598214285714285,
          52.777499999999996
         ],
         "y": [
          52.066071428571426,
          61.302499999999995
         ]
        },
        {
         "line": {
          "color": "red",
          "width": 2
         },
         "mode": "lines",
         "type": "scatter",
         "x": [
          40.598214285714285,
          52.777499999999996
         ],
         "y": [
          52.066071428571426,
          61.302499999999995
         ]
        },
        {
         "line": {
          "color": "red",
          "width": 2
         },
         "mode": "lines",
         "type": "scatter",
         "x": [
          40.598214285714285,
          52.777499999999996
         ],
         "y": [
          52.066071428571426,
          61.302499999999995
         ]
        },
        {
         "line": {
          "color": "red",
          "width": 2
         },
         "mode": "lines",
         "type": "scatter",
         "x": [
          40.598214285714285,
          52.777499999999996
         ],
         "y": [
          52.066071428571426,
          61.302499999999995
         ]
        },
        {
         "line": {
          "color": "red",
          "width": 2
         },
         "mode": "lines",
         "type": "scatter",
         "x": [
          40.250314465408806,
          52.777499999999996
         ],
         "y": [
          26.367295597484276,
          61.302499999999995
         ]
        },
        {
         "line": {
          "color": "red",
          "width": 2
         },
         "mode": "lines",
         "type": "scatter",
         "x": [
          56.768,
          52.777499999999996
         ],
         "y": [
          67.884,
          61.302499999999995
         ]
        },
        {
         "line": {
          "color": "red",
          "width": 2
         },
         "mode": "lines",
         "type": "scatter",
         "x": [
          56.768,
          52.777499999999996
         ],
         "y": [
          67.884,
          61.302499999999995
         ]
        },
        {
         "line": {
          "color": "red",
          "width": 2
         },
         "mode": "lines",
         "type": "scatter",
         "x": [
          56.768,
          52.777499999999996
         ],
         "y": [
          67.884,
          61.302499999999995
         ]
        },
        {
         "line": {
          "color": "red",
          "width": 2
         },
         "mode": "lines",
         "type": "scatter",
         "x": [
          56.768,
          52.777499999999996
         ],
         "y": [
          67.884,
          61.302499999999995
         ]
        },
        {
         "line": {
          "color": "red",
          "width": 2
         },
         "mode": "lines",
         "type": "scatter",
         "x": [
          56.768,
          52.777499999999996
         ],
         "y": [
          67.884,
          61.302499999999995
         ]
        },
        {
         "line": {
          "color": "red",
          "width": 2
         },
         "mode": "lines",
         "type": "scatter",
         "x": [
          53.71818181818182,
          52.777499999999996
         ],
         "y": [
          37.836363636363636,
          61.302499999999995
         ]
        },
        {
         "line": {
          "color": "red",
          "width": 2
         },
         "mode": "lines",
         "type": "scatter",
         "x": [
          53.26666666666666,
          52.777499999999996
         ],
         "y": [
          51.76666666666667,
          61.302499999999995
         ]
        },
        {
         "line": {
          "color": "red",
          "width": 2
         },
         "mode": "lines",
         "type": "scatter",
         "x": [
          53.26666666666666,
          52.777499999999996
         ],
         "y": [
          51.76666666666667,
          61.302499999999995
         ]
        },
        {
         "line": {
          "color": "red",
          "width": 2
         },
         "mode": "lines",
         "type": "scatter",
         "x": [
          44.99673913043478,
          49.72295081967213
         ],
         "y": [
          63.44239130434782,
          10.20327868852459
         ]
        },
        {
         "line": {
          "color": "red",
          "width": 2
         },
         "mode": "lines",
         "type": "scatter",
         "x": [
          47.863157894736844,
          49.72295081967213
         ],
         "y": [
          32.108270676691724,
          10.20327868852459
         ]
        },
        {
         "line": {
          "color": "red",
          "width": 2
         },
         "mode": "lines",
         "type": "scatter",
         "x": [
          47.863157894736844,
          49.72295081967213
         ],
         "y": [
          32.108270676691724,
          10.20327868852459
         ]
        },
        {
         "line": {
          "color": "red",
          "width": 2
         },
         "mode": "lines",
         "type": "scatter",
         "x": [
          47.863157894736844,
          49.72295081967213
         ],
         "y": [
          32.108270676691724,
          10.20327868852459
         ]
        },
        {
         "line": {
          "color": "red",
          "width": 2
         },
         "mode": "lines",
         "type": "scatter",
         "x": [
          47.863157894736844,
          49.72295081967213
         ],
         "y": [
          32.108270676691724,
          10.20327868852459
         ]
        },
        {
         "line": {
          "color": "red",
          "width": 2
         },
         "mode": "lines",
         "type": "scatter",
         "x": [
          47.863157894736844,
          49.72295081967213
         ],
         "y": [
          32.108270676691724,
          10.20327868852459
         ]
        },
        {
         "line": {
          "color": "red",
          "width": 2
         },
         "mode": "lines",
         "type": "scatter",
         "x": [
          55.492592592592594,
          49.72295081967213
         ],
         "y": [
          21.25185185185185,
          10.20327868852459
         ]
        },
        {
         "line": {
          "color": "red",
          "width": 2
         },
         "mode": "lines",
         "type": "scatter",
         "x": [
          55.492592592592594,
          49.72295081967213
         ],
         "y": [
          21.25185185185185,
          10.20327868852459
         ]
        },
        {
         "line": {
          "color": "red",
          "width": 2
         },
         "mode": "lines",
         "type": "scatter",
         "x": [
          40.598214285714285,
          49.72295081967213
         ],
         "y": [
          52.066071428571426,
          10.20327868852459
         ]
        },
        {
         "line": {
          "color": "red",
          "width": 2
         },
         "mode": "lines",
         "type": "scatter",
         "x": [
          40.250314465408806,
          49.72295081967213
         ],
         "y": [
          26.367295597484276,
          10.20327868852459
         ]
        },
        {
         "line": {
          "color": "red",
          "width": 2
         },
         "mode": "lines",
         "type": "scatter",
         "x": [
          40.250314465408806,
          49.72295081967213
         ],
         "y": [
          26.367295597484276,
          10.20327868852459
         ]
        },
        {
         "line": {
          "color": "red",
          "width": 2
         },
         "mode": "lines",
         "type": "scatter",
         "x": [
          40.250314465408806,
          49.72295081967213
         ],
         "y": [
          26.367295597484276,
          10.20327868852459
         ]
        },
        {
         "line": {
          "color": "red",
          "width": 2
         },
         "mode": "lines",
         "type": "scatter",
         "x": [
          40.250314465408806,
          49.72295081967213
         ],
         "y": [
          26.367295597484276,
          10.20327868852459
         ]
        },
        {
         "line": {
          "color": "red",
          "width": 2
         },
         "mode": "lines",
         "type": "scatter",
         "x": [
          40.250314465408806,
          49.72295081967213
         ],
         "y": [
          26.367295597484276,
          10.20327868852459
         ]
        },
        {
         "line": {
          "color": "red",
          "width": 2
         },
         "mode": "lines",
         "type": "scatter",
         "x": [
          44.99673913043478,
          47.863157894736844
         ],
         "y": [
          63.44239130434782,
          32.108270676691724
         ]
        },
        {
         "line": {
          "color": "red",
          "width": 2
         },
         "mode": "lines",
         "type": "scatter",
         "x": [
          44.99673913043478,
          47.863157894736844
         ],
         "y": [
          63.44239130434782,
          32.108270676691724
         ]
        },
        {
         "line": {
          "color": "red",
          "width": 2
         },
         "mode": "lines",
         "type": "scatter",
         "x": [
          49.72295081967213,
          47.863157894736844
         ],
         "y": [
          10.20327868852459,
          32.108270676691724
         ]
        },
        {
         "line": {
          "color": "red",
          "width": 2
         },
         "mode": "lines",
         "type": "scatter",
         "x": [
          49.72295081967213,
          47.863157894736844
         ],
         "y": [
          10.20327868852459,
          32.108270676691724
         ]
        },
        {
         "line": {
          "color": "red",
          "width": 2
         },
         "mode": "lines",
         "type": "scatter",
         "x": [
          49.72295081967213,
          47.863157894736844
         ],
         "y": [
          10.20327868852459,
          32.108270676691724
         ]
        },
        {
         "line": {
          "color": "red",
          "width": 2
         },
         "mode": "lines",
         "type": "scatter",
         "x": [
          49.72295081967213,
          47.863157894736844
         ],
         "y": [
          10.20327868852459,
          32.108270676691724
         ]
        },
        {
         "line": {
          "color": "red",
          "width": 2
         },
         "mode": "lines",
         "type": "scatter",
         "x": [
          55.492592592592594,
          47.863157894736844
         ],
         "y": [
          21.25185185185185,
          32.108270676691724
         ]
        },
        {
         "line": {
          "color": "red",
          "width": 2
         },
         "mode": "lines",
         "type": "scatter",
         "x": [
          55.492592592592594,
          47.863157894736844
         ],
         "y": [
          21.25185185185185,
          32.108270676691724
         ]
        },
        {
         "line": {
          "color": "red",
          "width": 2
         },
         "mode": "lines",
         "type": "scatter",
         "x": [
          55.492592592592594,
          47.863157894736844
         ],
         "y": [
          21.25185185185185,
          32.108270676691724
         ]
        },
        {
         "line": {
          "color": "red",
          "width": 2
         },
         "mode": "lines",
         "type": "scatter",
         "x": [
          40.598214285714285,
          47.863157894736844
         ],
         "y": [
          52.066071428571426,
          32.108270676691724
         ]
        },
        {
         "line": {
          "color": "red",
          "width": 2
         },
         "mode": "lines",
         "type": "scatter",
         "x": [
          40.598214285714285,
          47.863157894736844
         ],
         "y": [
          52.066071428571426,
          32.108270676691724
         ]
        },
        {
         "line": {
          "color": "red",
          "width": 2
         },
         "mode": "lines",
         "type": "scatter",
         "x": [
          40.598214285714285,
          47.863157894736844
         ],
         "y": [
          52.066071428571426,
          32.108270676691724
         ]
        },
        {
         "line": {
          "color": "red",
          "width": 2
         },
         "mode": "lines",
         "type": "scatter",
         "x": [
          40.598214285714285,
          47.863157894736844
         ],
         "y": [
          52.066071428571426,
          32.108270676691724
         ]
        },
        {
         "line": {
          "color": "red",
          "width": 2
         },
         "mode": "lines",
         "type": "scatter",
         "x": [
          40.598214285714285,
          47.863157894736844
         ],
         "y": [
          52.066071428571426,
          32.108270676691724
         ]
        },
        {
         "line": {
          "color": "red",
          "width": 2
         },
         "mode": "lines",
         "type": "scatter",
         "x": [
          40.250314465408806,
          47.863157894736844
         ],
         "y": [
          26.367295597484276,
          32.108270676691724
         ]
        },
        {
         "line": {
          "color": "red",
          "width": 2
         },
         "mode": "lines",
         "type": "scatter",
         "x": [
          40.250314465408806,
          47.863157894736844
         ],
         "y": [
          26.367295597484276,
          32.108270676691724
         ]
        },
        {
         "line": {
          "color": "red",
          "width": 2
         },
         "mode": "lines",
         "type": "scatter",
         "x": [
          40.250314465408806,
          47.863157894736844
         ],
         "y": [
          26.367295597484276,
          32.108270676691724
         ]
        },
        {
         "line": {
          "color": "red",
          "width": 2
         },
         "mode": "lines",
         "type": "scatter",
         "x": [
          40.250314465408806,
          47.863157894736844
         ],
         "y": [
          26.367295597484276,
          32.108270676691724
         ]
        },
        {
         "line": {
          "color": "red",
          "width": 2
         },
         "mode": "lines",
         "type": "scatter",
         "x": [
          40.250314465408806,
          47.863157894736844
         ],
         "y": [
          26.367295597484276,
          32.108270676691724
         ]
        },
        {
         "line": {
          "color": "red",
          "width": 2
         },
         "mode": "lines",
         "type": "scatter",
         "x": [
          40.250314465408806,
          47.863157894736844
         ],
         "y": [
          26.367295597484276,
          32.108270676691724
         ]
        },
        {
         "line": {
          "color": "red",
          "width": 2
         },
         "mode": "lines",
         "type": "scatter",
         "x": [
          40.250314465408806,
          47.863157894736844
         ],
         "y": [
          26.367295597484276,
          32.108270676691724
         ]
        },
        {
         "line": {
          "color": "red",
          "width": 2
         },
         "mode": "lines",
         "type": "scatter",
         "x": [
          40.250314465408806,
          47.863157894736844
         ],
         "y": [
          26.367295597484276,
          32.108270676691724
         ]
        },
        {
         "line": {
          "color": "red",
          "width": 2
         },
         "mode": "lines",
         "type": "scatter",
         "x": [
          40.250314465408806,
          47.863157894736844
         ],
         "y": [
          26.367295597484276,
          32.108270676691724
         ]
        },
        {
         "line": {
          "color": "red",
          "width": 2
         },
         "mode": "lines",
         "type": "scatter",
         "x": [
          40.250314465408806,
          47.863157894736844
         ],
         "y": [
          26.367295597484276,
          32.108270676691724
         ]
        },
        {
         "line": {
          "color": "red",
          "width": 2
         },
         "mode": "lines",
         "type": "scatter",
         "x": [
          40.250314465408806,
          47.863157894736844
         ],
         "y": [
          26.367295597484276,
          32.108270676691724
         ]
        },
        {
         "line": {
          "color": "red",
          "width": 2
         },
         "mode": "lines",
         "type": "scatter",
         "x": [
          40.250314465408806,
          47.863157894736844
         ],
         "y": [
          26.367295597484276,
          32.108270676691724
         ]
        },
        {
         "line": {
          "color": "red",
          "width": 2
         },
         "mode": "lines",
         "type": "scatter",
         "x": [
          40.250314465408806,
          47.863157894736844
         ],
         "y": [
          26.367295597484276,
          32.108270676691724
         ]
        },
        {
         "line": {
          "color": "red",
          "width": 2
         },
         "mode": "lines",
         "type": "scatter",
         "x": [
          40.250314465408806,
          47.863157894736844
         ],
         "y": [
          26.367295597484276,
          32.108270676691724
         ]
        },
        {
         "line": {
          "color": "red",
          "width": 2
         },
         "mode": "lines",
         "type": "scatter",
         "x": [
          40.250314465408806,
          47.863157894736844
         ],
         "y": [
          26.367295597484276,
          32.108270676691724
         ]
        },
        {
         "line": {
          "color": "red",
          "width": 2
         },
         "mode": "lines",
         "type": "scatter",
         "x": [
          40.250314465408806,
          47.863157894736844
         ],
         "y": [
          26.367295597484276,
          32.108270676691724
         ]
        },
        {
         "line": {
          "color": "red",
          "width": 2
         },
         "mode": "lines",
         "type": "scatter",
         "x": [
          53.71818181818182,
          47.863157894736844
         ],
         "y": [
          37.836363636363636,
          32.108270676691724
         ]
        },
        {
         "line": {
          "color": "red",
          "width": 2
         },
         "mode": "lines",
         "type": "scatter",
         "x": [
          53.71818181818182,
          47.863157894736844
         ],
         "y": [
          37.836363636363636,
          32.108270676691724
         ]
        },
        {
         "line": {
          "color": "red",
          "width": 2
         },
         "mode": "lines",
         "type": "scatter",
         "x": [
          52.777499999999996,
          47.863157894736844
         ],
         "y": [
          61.302499999999995,
          32.108270676691724
         ]
        },
        {
         "line": {
          "color": "red",
          "width": 2
         },
         "mode": "lines",
         "type": "scatter",
         "x": [
          57.86,
          47.863157894736844
         ],
         "y": [
          26.433333333333334,
          32.108270676691724
         ]
        },
        {
         "line": {
          "color": "red",
          "width": 2
         },
         "mode": "lines",
         "type": "scatter",
         "x": [
          48.94615384615384,
          47.863157894736844
         ],
         "y": [
          17.184615384615384,
          32.108270676691724
         ]
        },
        {
         "line": {
          "color": "red",
          "width": 2
         },
         "mode": "lines",
         "type": "scatter",
         "x": [
          48.94615384615384,
          47.863157894736844
         ],
         "y": [
          17.184615384615384,
          32.108270676691724
         ]
        },
        {
         "line": {
          "color": "red",
          "width": 2
         },
         "mode": "lines",
         "type": "scatter",
         "x": [
          23.648000000000003,
          47.863157894736844
         ],
         "y": [
          62.312,
          32.108270676691724
         ]
        },
        {
         "line": {
          "color": "red",
          "width": 2
         },
         "mode": "lines",
         "type": "scatter",
         "x": [
          23.648000000000003,
          47.863157894736844
         ],
         "y": [
          62.312,
          32.108270676691724
         ]
        },
        {
         "line": {
          "color": "red",
          "width": 2
         },
         "mode": "lines",
         "type": "scatter",
         "x": [
          44.99673913043478,
          40.250314465408806
         ],
         "y": [
          63.44239130434782,
          26.367295597484276
         ]
        },
        {
         "line": {
          "color": "red",
          "width": 2
         },
         "mode": "lines",
         "type": "scatter",
         "x": [
          44.99673913043478,
          40.250314465408806
         ],
         "y": [
          63.44239130434782,
          26.367295597484276
         ]
        },
        {
         "line": {
          "color": "red",
          "width": 2
         },
         "mode": "lines",
         "type": "scatter",
         "x": [
          44.99673913043478,
          40.250314465408806
         ],
         "y": [
          63.44239130434782,
          26.367295597484276
         ]
        },
        {
         "line": {
          "color": "red",
          "width": 2
         },
         "mode": "lines",
         "type": "scatter",
         "x": [
          44.99673913043478,
          40.250314465408806
         ],
         "y": [
          63.44239130434782,
          26.367295597484276
         ]
        },
        {
         "line": {
          "color": "red",
          "width": 2
         },
         "mode": "lines",
         "type": "scatter",
         "x": [
          44.99673913043478,
          40.250314465408806
         ],
         "y": [
          63.44239130434782,
          26.367295597484276
         ]
        },
        {
         "line": {
          "color": "red",
          "width": 2
         },
         "mode": "lines",
         "type": "scatter",
         "x": [
          44.99673913043478,
          40.250314465408806
         ],
         "y": [
          63.44239130434782,
          26.367295597484276
         ]
        },
        {
         "line": {
          "color": "red",
          "width": 2
         },
         "mode": "lines",
         "type": "scatter",
         "x": [
          47.863157894736844,
          40.250314465408806
         ],
         "y": [
          32.108270676691724,
          26.367295597484276
         ]
        },
        {
         "line": {
          "color": "red",
          "width": 2
         },
         "mode": "lines",
         "type": "scatter",
         "x": [
          47.863157894736844,
          40.250314465408806
         ],
         "y": [
          32.108270676691724,
          26.367295597484276
         ]
        },
        {
         "line": {
          "color": "red",
          "width": 2
         },
         "mode": "lines",
         "type": "scatter",
         "x": [
          47.863157894736844,
          40.250314465408806
         ],
         "y": [
          32.108270676691724,
          26.367295597484276
         ]
        },
        {
         "line": {
          "color": "red",
          "width": 2
         },
         "mode": "lines",
         "type": "scatter",
         "x": [
          47.863157894736844,
          40.250314465408806
         ],
         "y": [
          32.108270676691724,
          26.367295597484276
         ]
        },
        {
         "line": {
          "color": "red",
          "width": 2
         },
         "mode": "lines",
         "type": "scatter",
         "x": [
          47.863157894736844,
          40.250314465408806
         ],
         "y": [
          32.108270676691724,
          26.367295597484276
         ]
        },
        {
         "line": {
          "color": "red",
          "width": 2
         },
         "mode": "lines",
         "type": "scatter",
         "x": [
          47.863157894736844,
          40.250314465408806
         ],
         "y": [
          32.108270676691724,
          26.367295597484276
         ]
        },
        {
         "line": {
          "color": "red",
          "width": 2
         },
         "mode": "lines",
         "type": "scatter",
         "x": [
          47.863157894736844,
          40.250314465408806
         ],
         "y": [
          32.108270676691724,
          26.367295597484276
         ]
        },
        {
         "line": {
          "color": "red",
          "width": 2
         },
         "mode": "lines",
         "type": "scatter",
         "x": [
          47.863157894736844,
          40.250314465408806
         ],
         "y": [
          32.108270676691724,
          26.367295597484276
         ]
        },
        {
         "line": {
          "color": "red",
          "width": 2
         },
         "mode": "lines",
         "type": "scatter",
         "x": [
          47.863157894736844,
          40.250314465408806
         ],
         "y": [
          32.108270676691724,
          26.367295597484276
         ]
        },
        {
         "line": {
          "color": "red",
          "width": 2
         },
         "mode": "lines",
         "type": "scatter",
         "x": [
          49.72295081967213,
          40.250314465408806
         ],
         "y": [
          10.20327868852459,
          26.367295597484276
         ]
        },
        {
         "line": {
          "color": "red",
          "width": 2
         },
         "mode": "lines",
         "type": "scatter",
         "x": [
          49.72295081967213,
          40.250314465408806
         ],
         "y": [
          10.20327868852459,
          26.367295597484276
         ]
        },
        {
         "line": {
          "color": "red",
          "width": 2
         },
         "mode": "lines",
         "type": "scatter",
         "x": [
          49.72295081967213,
          40.250314465408806
         ],
         "y": [
          10.20327868852459,
          26.367295597484276
         ]
        },
        {
         "line": {
          "color": "red",
          "width": 2
         },
         "mode": "lines",
         "type": "scatter",
         "x": [
          49.72295081967213,
          40.250314465408806
         ],
         "y": [
          10.20327868852459,
          26.367295597484276
         ]
        },
        {
         "line": {
          "color": "red",
          "width": 2
         },
         "mode": "lines",
         "type": "scatter",
         "x": [
          49.72295081967213,
          40.250314465408806
         ],
         "y": [
          10.20327868852459,
          26.367295597484276
         ]
        },
        {
         "line": {
          "color": "red",
          "width": 2
         },
         "mode": "lines",
         "type": "scatter",
         "x": [
          49.72295081967213,
          40.250314465408806
         ],
         "y": [
          10.20327868852459,
          26.367295597484276
         ]
        },
        {
         "line": {
          "color": "red",
          "width": 2
         },
         "mode": "lines",
         "type": "scatter",
         "x": [
          55.492592592592594,
          40.250314465408806
         ],
         "y": [
          21.25185185185185,
          26.367295597484276
         ]
        },
        {
         "line": {
          "color": "red",
          "width": 2
         },
         "mode": "lines",
         "type": "scatter",
         "x": [
          40.598214285714285,
          40.250314465408806
         ],
         "y": [
          52.066071428571426,
          26.367295597484276
         ]
        },
        {
         "line": {
          "color": "red",
          "width": 2
         },
         "mode": "lines",
         "type": "scatter",
         "x": [
          40.598214285714285,
          40.250314465408806
         ],
         "y": [
          52.066071428571426,
          26.367295597484276
         ]
        },
        {
         "line": {
          "color": "red",
          "width": 2
         },
         "mode": "lines",
         "type": "scatter",
         "x": [
          40.598214285714285,
          40.250314465408806
         ],
         "y": [
          52.066071428571426,
          26.367295597484276
         ]
        },
        {
         "line": {
          "color": "red",
          "width": 2
         },
         "mode": "lines",
         "type": "scatter",
         "x": [
          40.598214285714285,
          40.250314465408806
         ],
         "y": [
          52.066071428571426,
          26.367295597484276
         ]
        },
        {
         "line": {
          "color": "red",
          "width": 2
         },
         "mode": "lines",
         "type": "scatter",
         "x": [
          40.598214285714285,
          40.250314465408806
         ],
         "y": [
          52.066071428571426,
          26.367295597484276
         ]
        },
        {
         "line": {
          "color": "red",
          "width": 2
         },
         "mode": "lines",
         "type": "scatter",
         "x": [
          40.598214285714285,
          40.250314465408806
         ],
         "y": [
          52.066071428571426,
          26.367295597484276
         ]
        },
        {
         "line": {
          "color": "red",
          "width": 2
         },
         "mode": "lines",
         "type": "scatter",
         "x": [
          40.598214285714285,
          40.250314465408806
         ],
         "y": [
          52.066071428571426,
          26.367295597484276
         ]
        },
        {
         "line": {
          "color": "red",
          "width": 2
         },
         "mode": "lines",
         "type": "scatter",
         "x": [
          40.598214285714285,
          40.250314465408806
         ],
         "y": [
          52.066071428571426,
          26.367295597484276
         ]
        },
        {
         "line": {
          "color": "red",
          "width": 2
         },
         "mode": "lines",
         "type": "scatter",
         "x": [
          10.335,
          40.250314465408806
         ],
         "y": [
          39.89666666666667,
          26.367295597484276
         ]
        },
        {
         "line": {
          "color": "red",
          "width": 2
         },
         "mode": "lines",
         "type": "scatter",
         "x": [
          10.335,
          40.250314465408806
         ],
         "y": [
          39.89666666666667,
          26.367295597484276
         ]
        },
        {
         "line": {
          "color": "red",
          "width": 2
         },
         "mode": "lines",
         "type": "scatter",
         "x": [
          10.335,
          40.250314465408806
         ],
         "y": [
          39.89666666666667,
          26.367295597484276
         ]
        },
        {
         "line": {
          "color": "red",
          "width": 2
         },
         "mode": "lines",
         "type": "scatter",
         "x": [
          10.335,
          40.250314465408806
         ],
         "y": [
          39.89666666666667,
          26.367295597484276
         ]
        },
        {
         "line": {
          "color": "red",
          "width": 2
         },
         "mode": "lines",
         "type": "scatter",
         "x": [
          10.335,
          40.250314465408806
         ],
         "y": [
          39.89666666666667,
          26.367295597484276
         ]
        },
        {
         "line": {
          "color": "red",
          "width": 2
         },
         "mode": "lines",
         "type": "scatter",
         "x": [
          10.335,
          40.250314465408806
         ],
         "y": [
          39.89666666666667,
          26.367295597484276
         ]
        },
        {
         "line": {
          "color": "red",
          "width": 2
         },
         "mode": "lines",
         "type": "scatter",
         "x": [
          10.335,
          40.250314465408806
         ],
         "y": [
          39.89666666666667,
          26.367295597484276
         ]
        },
        {
         "line": {
          "color": "red",
          "width": 2
         },
         "mode": "lines",
         "type": "scatter",
         "x": [
          10.335,
          40.250314465408806
         ],
         "y": [
          39.89666666666667,
          26.367295597484276
         ]
        },
        {
         "line": {
          "color": "red",
          "width": 2
         },
         "mode": "lines",
         "type": "scatter",
         "x": [
          52.777499999999996,
          40.250314465408806
         ],
         "y": [
          61.302499999999995,
          26.367295597484276
         ]
        },
        {
         "line": {
          "color": "red",
          "width": 2
         },
         "mode": "lines",
         "type": "scatter",
         "x": [
          48.94615384615384,
          40.250314465408806
         ],
         "y": [
          17.184615384615384,
          26.367295597484276
         ]
        },
        {
         "line": {
          "color": "red",
          "width": 2
         },
         "mode": "lines",
         "type": "scatter",
         "x": [
          23.648000000000003,
          40.250314465408806
         ],
         "y": [
          62.312,
          26.367295597484276
         ]
        },
        {
         "line": {
          "color": "red",
          "width": 2
         },
         "mode": "lines",
         "type": "scatter",
         "x": [
          23.648000000000003,
          40.250314465408806
         ],
         "y": [
          62.312,
          26.367295597484276
         ]
        },
        {
         "line": {
          "color": "red",
          "width": 2
         },
         "mode": "lines",
         "type": "scatter",
         "x": [
          24.566666666666666,
          40.250314465408806
         ],
         "y": [
          19.333333333333332,
          26.367295597484276
         ]
        },
        {
         "line": {
          "color": "red",
          "width": 2
         },
         "mode": "lines",
         "type": "scatter",
         "x": [
          44.99673913043478,
          10.335
         ],
         "y": [
          63.44239130434782,
          39.89666666666667
         ]
        },
        {
         "line": {
          "color": "red",
          "width": 2
         },
         "mode": "lines",
         "type": "scatter",
         "x": [
          44.99673913043478,
          10.335
         ],
         "y": [
          63.44239130434782,
          39.89666666666667
         ]
        },
        {
         "line": {
          "color": "red",
          "width": 2
         },
         "mode": "lines",
         "type": "scatter",
         "x": [
          47.863157894736844,
          10.335
         ],
         "y": [
          32.108270676691724,
          39.89666666666667
         ]
        },
        {
         "line": {
          "color": "red",
          "width": 2
         },
         "mode": "lines",
         "type": "scatter",
         "x": [
          49.72295081967213,
          10.335
         ],
         "y": [
          10.20327868852459,
          39.89666666666667
         ]
        },
        {
         "line": {
          "color": "red",
          "width": 2
         },
         "mode": "lines",
         "type": "scatter",
         "x": [
          49.72295081967213,
          10.335
         ],
         "y": [
          10.20327868852459,
          39.89666666666667
         ]
        },
        {
         "line": {
          "color": "red",
          "width": 2
         },
         "mode": "lines",
         "type": "scatter",
         "x": [
          55.492592592592594,
          10.335
         ],
         "y": [
          21.25185185185185,
          39.89666666666667
         ]
        },
        {
         "line": {
          "color": "red",
          "width": 2
         },
         "mode": "lines",
         "type": "scatter",
         "x": [
          40.598214285714285,
          10.335
         ],
         "y": [
          52.066071428571426,
          39.89666666666667
         ]
        },
        {
         "line": {
          "color": "red",
          "width": 2
         },
         "mode": "lines",
         "type": "scatter",
         "x": [
          40.598214285714285,
          10.335
         ],
         "y": [
          52.066071428571426,
          39.89666666666667
         ]
        },
        {
         "line": {
          "color": "red",
          "width": 2
         },
         "mode": "lines",
         "type": "scatter",
         "x": [
          40.250314465408806,
          10.335
         ],
         "y": [
          26.367295597484276,
          39.89666666666667
         ]
        },
        {
         "line": {
          "color": "red",
          "width": 2
         },
         "mode": "lines",
         "type": "scatter",
         "x": [
          40.250314465408806,
          10.335
         ],
         "y": [
          26.367295597484276,
          39.89666666666667
         ]
        },
        {
         "line": {
          "color": "red",
          "width": 2
         },
         "mode": "lines",
         "type": "scatter",
         "x": [
          40.250314465408806,
          10.335
         ],
         "y": [
          26.367295597484276,
          39.89666666666667
         ]
        },
        {
         "line": {
          "color": "red",
          "width": 2
         },
         "mode": "lines",
         "type": "scatter",
         "x": [
          40.250314465408806,
          10.335
         ],
         "y": [
          26.367295597484276,
          39.89666666666667
         ]
        },
        {
         "line": {
          "color": "red",
          "width": 2
         },
         "mode": "lines",
         "type": "scatter",
         "x": [
          40.250314465408806,
          10.335
         ],
         "y": [
          26.367295597484276,
          39.89666666666667
         ]
        },
        {
         "line": {
          "color": "red",
          "width": 2
         },
         "mode": "lines",
         "type": "scatter",
         "x": [
          40.250314465408806,
          10.335
         ],
         "y": [
          26.367295597484276,
          39.89666666666667
         ]
        },
        {
         "line": {
          "color": "red",
          "width": 2
         },
         "mode": "lines",
         "type": "scatter",
         "x": [
          23.648000000000003,
          10.335
         ],
         "y": [
          62.312,
          39.89666666666667
         ]
        },
        {
         "line": {
          "color": "red",
          "width": 2
         },
         "mode": "lines",
         "type": "scatter",
         "x": [
          44.99673913043478,
          56.768
         ],
         "y": [
          63.44239130434782,
          67.884
         ]
        },
        {
         "line": {
          "color": "red",
          "width": 2
         },
         "mode": "lines",
         "type": "scatter",
         "x": [
          44.99673913043478,
          56.768
         ],
         "y": [
          63.44239130434782,
          67.884
         ]
        },
        {
         "line": {
          "color": "red",
          "width": 2
         },
         "mode": "lines",
         "type": "scatter",
         "x": [
          44.99673913043478,
          56.768
         ],
         "y": [
          63.44239130434782,
          67.884
         ]
        },
        {
         "line": {
          "color": "red",
          "width": 2
         },
         "mode": "lines",
         "type": "scatter",
         "x": [
          44.99673913043478,
          56.768
         ],
         "y": [
          63.44239130434782,
          67.884
         ]
        },
        {
         "line": {
          "color": "red",
          "width": 2
         },
         "mode": "lines",
         "type": "scatter",
         "x": [
          44.99673913043478,
          56.768
         ],
         "y": [
          63.44239130434782,
          67.884
         ]
        },
        {
         "line": {
          "color": "red",
          "width": 2
         },
         "mode": "lines",
         "type": "scatter",
         "x": [
          44.99673913043478,
          56.768
         ],
         "y": [
          63.44239130434782,
          67.884
         ]
        },
        {
         "line": {
          "color": "red",
          "width": 2
         },
         "mode": "lines",
         "type": "scatter",
         "x": [
          55.492592592592594,
          56.768
         ],
         "y": [
          21.25185185185185,
          67.884
         ]
        },
        {
         "line": {
          "color": "red",
          "width": 2
         },
         "mode": "lines",
         "type": "scatter",
         "x": [
          55.492592592592594,
          56.768
         ],
         "y": [
          21.25185185185185,
          67.884
         ]
        },
        {
         "line": {
          "color": "red",
          "width": 2
         },
         "mode": "lines",
         "type": "scatter",
         "x": [
          40.598214285714285,
          56.768
         ],
         "y": [
          52.066071428571426,
          67.884
         ]
        },
        {
         "line": {
          "color": "red",
          "width": 2
         },
         "mode": "lines",
         "type": "scatter",
         "x": [
          40.598214285714285,
          56.768
         ],
         "y": [
          52.066071428571426,
          67.884
         ]
        },
        {
         "line": {
          "color": "red",
          "width": 2
         },
         "mode": "lines",
         "type": "scatter",
         "x": [
          40.598214285714285,
          56.768
         ],
         "y": [
          52.066071428571426,
          67.884
         ]
        },
        {
         "line": {
          "color": "red",
          "width": 2
         },
         "mode": "lines",
         "type": "scatter",
         "x": [
          40.598214285714285,
          56.768
         ],
         "y": [
          52.066071428571426,
          67.884
         ]
        },
        {
         "line": {
          "color": "red",
          "width": 2
         },
         "mode": "lines",
         "type": "scatter",
         "x": [
          40.250314465408806,
          56.768
         ],
         "y": [
          26.367295597484276,
          67.884
         ]
        },
        {
         "line": {
          "color": "red",
          "width": 2
         },
         "mode": "lines",
         "type": "scatter",
         "x": [
          52.777499999999996,
          56.768
         ],
         "y": [
          61.302499999999995,
          67.884
         ]
        },
        {
         "line": {
          "color": "red",
          "width": 2
         },
         "mode": "lines",
         "type": "scatter",
         "x": [
          52.777499999999996,
          56.768
         ],
         "y": [
          61.302499999999995,
          67.884
         ]
        },
        {
         "line": {
          "color": "red",
          "width": 2
         },
         "mode": "lines",
         "type": "scatter",
         "x": [
          44.99673913043478,
          40.598214285714285
         ],
         "y": [
          63.44239130434782,
          52.066071428571426
         ]
        },
        {
         "line": {
          "color": "red",
          "width": 2
         },
         "mode": "lines",
         "type": "scatter",
         "x": [
          44.99673913043478,
          40.598214285714285
         ],
         "y": [
          63.44239130434782,
          52.066071428571426
         ]
        },
        {
         "line": {
          "color": "red",
          "width": 2
         },
         "mode": "lines",
         "type": "scatter",
         "x": [
          44.99673913043478,
          40.598214285714285
         ],
         "y": [
          63.44239130434782,
          52.066071428571426
         ]
        },
        {
         "line": {
          "color": "red",
          "width": 2
         },
         "mode": "lines",
         "type": "scatter",
         "x": [
          47.863157894736844,
          40.598214285714285
         ],
         "y": [
          32.108270676691724,
          52.066071428571426
         ]
        },
        {
         "line": {
          "color": "red",
          "width": 2
         },
         "mode": "lines",
         "type": "scatter",
         "x": [
          47.863157894736844,
          40.598214285714285
         ],
         "y": [
          32.108270676691724,
          52.066071428571426
         ]
        },
        {
         "line": {
          "color": "red",
          "width": 2
         },
         "mode": "lines",
         "type": "scatter",
         "x": [
          47.863157894736844,
          40.598214285714285
         ],
         "y": [
          32.108270676691724,
          52.066071428571426
         ]
        },
        {
         "line": {
          "color": "red",
          "width": 2
         },
         "mode": "lines",
         "type": "scatter",
         "x": [
          47.863157894736844,
          40.598214285714285
         ],
         "y": [
          32.108270676691724,
          52.066071428571426
         ]
        },
        {
         "line": {
          "color": "red",
          "width": 2
         },
         "mode": "lines",
         "type": "scatter",
         "x": [
          47.863157894736844,
          40.598214285714285
         ],
         "y": [
          32.108270676691724,
          52.066071428571426
         ]
        },
        {
         "line": {
          "color": "red",
          "width": 2
         },
         "mode": "lines",
         "type": "scatter",
         "x": [
          47.863157894736844,
          40.598214285714285
         ],
         "y": [
          32.108270676691724,
          52.066071428571426
         ]
        },
        {
         "line": {
          "color": "red",
          "width": 2
         },
         "mode": "lines",
         "type": "scatter",
         "x": [
          47.863157894736844,
          40.598214285714285
         ],
         "y": [
          32.108270676691724,
          52.066071428571426
         ]
        },
        {
         "line": {
          "color": "red",
          "width": 2
         },
         "mode": "lines",
         "type": "scatter",
         "x": [
          49.72295081967213,
          40.598214285714285
         ],
         "y": [
          10.20327868852459,
          52.066071428571426
         ]
        },
        {
         "line": {
          "color": "red",
          "width": 2
         },
         "mode": "lines",
         "type": "scatter",
         "x": [
          40.250314465408806,
          40.598214285714285
         ],
         "y": [
          26.367295597484276,
          52.066071428571426
         ]
        },
        {
         "line": {
          "color": "red",
          "width": 2
         },
         "mode": "lines",
         "type": "scatter",
         "x": [
          40.250314465408806,
          40.598214285714285
         ],
         "y": [
          26.367295597484276,
          52.066071428571426
         ]
        },
        {
         "line": {
          "color": "red",
          "width": 2
         },
         "mode": "lines",
         "type": "scatter",
         "x": [
          40.250314465408806,
          40.598214285714285
         ],
         "y": [
          26.367295597484276,
          52.066071428571426
         ]
        },
        {
         "line": {
          "color": "red",
          "width": 2
         },
         "mode": "lines",
         "type": "scatter",
         "x": [
          40.250314465408806,
          40.598214285714285
         ],
         "y": [
          26.367295597484276,
          52.066071428571426
         ]
        },
        {
         "line": {
          "color": "red",
          "width": 2
         },
         "mode": "lines",
         "type": "scatter",
         "x": [
          40.250314465408806,
          40.598214285714285
         ],
         "y": [
          26.367295597484276,
          52.066071428571426
         ]
        },
        {
         "line": {
          "color": "red",
          "width": 2
         },
         "mode": "lines",
         "type": "scatter",
         "x": [
          40.250314465408806,
          40.598214285714285
         ],
         "y": [
          26.367295597484276,
          52.066071428571426
         ]
        },
        {
         "line": {
          "color": "red",
          "width": 2
         },
         "mode": "lines",
         "type": "scatter",
         "x": [
          40.250314465408806,
          40.598214285714285
         ],
         "y": [
          26.367295597484276,
          52.066071428571426
         ]
        },
        {
         "line": {
          "color": "red",
          "width": 2
         },
         "mode": "lines",
         "type": "scatter",
         "x": [
          10.335,
          40.598214285714285
         ],
         "y": [
          39.89666666666667,
          52.066071428571426
         ]
        },
        {
         "line": {
          "color": "red",
          "width": 2
         },
         "mode": "lines",
         "type": "scatter",
         "x": [
          10.335,
          40.598214285714285
         ],
         "y": [
          39.89666666666667,
          52.066071428571426
         ]
        },
        {
         "line": {
          "color": "red",
          "width": 2
         },
         "mode": "lines",
         "type": "scatter",
         "x": [
          10.335,
          40.598214285714285
         ],
         "y": [
          39.89666666666667,
          52.066071428571426
         ]
        },
        {
         "line": {
          "color": "red",
          "width": 2
         },
         "mode": "lines",
         "type": "scatter",
         "x": [
          10.335,
          40.598214285714285
         ],
         "y": [
          39.89666666666667,
          52.066071428571426
         ]
        },
        {
         "line": {
          "color": "red",
          "width": 2
         },
         "mode": "lines",
         "type": "scatter",
         "x": [
          10.335,
          40.598214285714285
         ],
         "y": [
          39.89666666666667,
          52.066071428571426
         ]
        },
        {
         "line": {
          "color": "red",
          "width": 2
         },
         "mode": "lines",
         "type": "scatter",
         "x": [
          10.335,
          40.598214285714285
         ],
         "y": [
          39.89666666666667,
          52.066071428571426
         ]
        },
        {
         "line": {
          "color": "red",
          "width": 2
         },
         "mode": "lines",
         "type": "scatter",
         "x": [
          52.777499999999996,
          40.598214285714285
         ],
         "y": [
          61.302499999999995,
          52.066071428571426
         ]
        },
        {
         "line": {
          "color": "red",
          "width": 2
         },
         "mode": "lines",
         "type": "scatter",
         "x": [
          52.777499999999996,
          40.598214285714285
         ],
         "y": [
          61.302499999999995,
          52.066071428571426
         ]
        },
        {
         "line": {
          "color": "red",
          "width": 2
         },
         "mode": "lines",
         "type": "scatter",
         "x": [
          52.777499999999996,
          40.598214285714285
         ],
         "y": [
          61.302499999999995,
          52.066071428571426
         ]
        },
        {
         "line": {
          "color": "red",
          "width": 2
         },
         "mode": "lines",
         "type": "scatter",
         "x": [
          52.777499999999996,
          40.598214285714285
         ],
         "y": [
          61.302499999999995,
          52.066071428571426
         ]
        },
        {
         "line": {
          "color": "red",
          "width": 2
         },
         "mode": "lines",
         "type": "scatter",
         "x": [
          52.777499999999996,
          40.598214285714285
         ],
         "y": [
          61.302499999999995,
          52.066071428571426
         ]
        },
        {
         "line": {
          "color": "red",
          "width": 2
         },
         "mode": "lines",
         "type": "scatter",
         "x": [
          44.99673913043478,
          55.492592592592594
         ],
         "y": [
          63.44239130434782,
          21.25185185185185
         ]
        },
        {
         "line": {
          "color": "red",
          "width": 2
         },
         "mode": "lines",
         "type": "scatter",
         "x": [
          47.863157894736844,
          55.492592592592594
         ],
         "y": [
          32.108270676691724,
          21.25185185185185
         ]
        },
        {
         "line": {
          "color": "red",
          "width": 2
         },
         "mode": "lines",
         "type": "scatter",
         "x": [
          47.863157894736844,
          55.492592592592594
         ],
         "y": [
          32.108270676691724,
          21.25185185185185
         ]
        },
        {
         "line": {
          "color": "red",
          "width": 2
         },
         "mode": "lines",
         "type": "scatter",
         "x": [
          47.863157894736844,
          55.492592592592594
         ],
         "y": [
          32.108270676691724,
          21.25185185185185
         ]
        },
        {
         "line": {
          "color": "red",
          "width": 2
         },
         "mode": "lines",
         "type": "scatter",
         "x": [
          49.72295081967213,
          55.492592592592594
         ],
         "y": [
          10.20327868852459,
          21.25185185185185
         ]
        },
        {
         "line": {
          "color": "red",
          "width": 2
         },
         "mode": "lines",
         "type": "scatter",
         "x": [
          49.72295081967213,
          55.492592592592594
         ],
         "y": [
          10.20327868852459,
          21.25185185185185
         ]
        },
        {
         "line": {
          "color": "red",
          "width": 2
         },
         "mode": "lines",
         "type": "scatter",
         "x": [
          49.72295081967213,
          55.492592592592594
         ],
         "y": [
          10.20327868852459,
          21.25185185185185
         ]
        },
        {
         "line": {
          "color": "red",
          "width": 2
         },
         "mode": "lines",
         "type": "scatter",
         "x": [
          49.72295081967213,
          55.492592592592594
         ],
         "y": [
          10.20327868852459,
          21.25185185185185
         ]
        },
        {
         "line": {
          "color": "red",
          "width": 2
         },
         "mode": "lines",
         "type": "scatter",
         "x": [
          49.72295081967213,
          55.492592592592594
         ],
         "y": [
          10.20327868852459,
          21.25185185185185
         ]
        },
        {
         "line": {
          "color": "red",
          "width": 2
         },
         "mode": "lines",
         "type": "scatter",
         "x": [
          40.598214285714285,
          55.492592592592594
         ],
         "y": [
          52.066071428571426,
          21.25185185185185
         ]
        },
        {
         "line": {
          "color": "red",
          "width": 2
         },
         "mode": "lines",
         "type": "scatter",
         "x": [
          40.598214285714285,
          55.492592592592594
         ],
         "y": [
          52.066071428571426,
          21.25185185185185
         ]
        },
        {
         "line": {
          "color": "red",
          "width": 2
         },
         "mode": "lines",
         "type": "scatter",
         "x": [
          40.250314465408806,
          55.492592592592594
         ],
         "y": [
          26.367295597484276,
          21.25185185185185
         ]
        },
        {
         "line": {
          "color": "red",
          "width": 2
         },
         "mode": "lines",
         "type": "scatter",
         "x": [
          40.250314465408806,
          55.492592592592594
         ],
         "y": [
          26.367295597484276,
          21.25185185185185
         ]
        },
        {
         "line": {
          "color": "red",
          "width": 2
         },
         "mode": "lines",
         "type": "scatter",
         "x": [
          40.250314465408806,
          55.492592592592594
         ],
         "y": [
          26.367295597484276,
          21.25185185185185
         ]
        },
        {
         "line": {
          "color": "red",
          "width": 2
         },
         "mode": "lines",
         "type": "scatter",
         "x": [
          40.250314465408806,
          55.492592592592594
         ],
         "y": [
          26.367295597484276,
          21.25185185185185
         ]
        },
        {
         "line": {
          "color": "red",
          "width": 2
         },
         "mode": "lines",
         "type": "scatter",
         "x": [
          10.335,
          55.492592592592594
         ],
         "y": [
          39.89666666666667,
          21.25185185185185
         ]
        },
        {
         "line": {
          "color": "red",
          "width": 2
         },
         "mode": "lines",
         "type": "scatter",
         "x": [
          53.71818181818182,
          55.492592592592594
         ],
         "y": [
          37.836363636363636,
          21.25185185185185
         ]
        },
        {
         "line": {
          "color": "red",
          "width": 2
         },
         "mode": "lines",
         "type": "scatter",
         "x": [
          52.777499999999996,
          55.492592592592594
         ],
         "y": [
          61.302499999999995,
          21.25185185185185
         ]
        },
        {
         "line": {
          "color": "red",
          "width": 2
         },
         "mode": "lines",
         "type": "scatter",
         "x": [
          57.86,
          55.492592592592594
         ],
         "y": [
          26.433333333333334,
          21.25185185185185
         ]
        },
        {
         "line": {
          "color": "red",
          "width": 2
         },
         "mode": "lines",
         "type": "scatter",
         "x": [
          57.86,
          55.492592592592594
         ],
         "y": [
          26.433333333333334,
          21.25185185185185
         ]
        },
        {
         "line": {
          "color": "red",
          "width": 2
         },
         "mode": "lines",
         "type": "scatter",
         "x": [
          44.99673913043478,
          53.71818181818182
         ],
         "y": [
          63.44239130434782,
          37.836363636363636
         ]
        },
        {
         "line": {
          "color": "red",
          "width": 2
         },
         "mode": "lines",
         "type": "scatter",
         "x": [
          44.99673913043478,
          53.71818181818182
         ],
         "y": [
          63.44239130434782,
          37.836363636363636
         ]
        },
        {
         "line": {
          "color": "red",
          "width": 2
         },
         "mode": "lines",
         "type": "scatter",
         "x": [
          47.863157894736844,
          53.71818181818182
         ],
         "y": [
          32.108270676691724,
          37.836363636363636
         ]
        },
        {
         "line": {
          "color": "red",
          "width": 2
         },
         "mode": "lines",
         "type": "scatter",
         "x": [
          47.863157894736844,
          53.71818181818182
         ],
         "y": [
          32.108270676691724,
          37.836363636363636
         ]
        },
        {
         "line": {
          "color": "red",
          "width": 2
         },
         "mode": "lines",
         "type": "scatter",
         "x": [
          49.72295081967213,
          53.71818181818182
         ],
         "y": [
          10.20327868852459,
          37.836363636363636
         ]
        },
        {
         "line": {
          "color": "red",
          "width": 2
         },
         "mode": "lines",
         "type": "scatter",
         "x": [
          55.492592592592594,
          53.71818181818182
         ],
         "y": [
          21.25185185185185,
          37.836363636363636
         ]
        },
        {
         "line": {
          "color": "red",
          "width": 2
         },
         "mode": "lines",
         "type": "scatter",
         "x": [
          55.492592592592594,
          53.71818181818182
         ],
         "y": [
          21.25185185185185,
          37.836363636363636
         ]
        },
        {
         "line": {
          "color": "red",
          "width": 2
         },
         "mode": "lines",
         "type": "scatter",
         "x": [
          55.492592592592594,
          53.71818181818182
         ],
         "y": [
          21.25185185185185,
          37.836363636363636
         ]
        },
        {
         "line": {
          "color": "red",
          "width": 2
         },
         "mode": "lines",
         "type": "scatter",
         "x": [
          40.598214285714285,
          53.71818181818182
         ],
         "y": [
          52.066071428571426,
          37.836363636363636
         ]
        },
        {
         "line": {
          "color": "red",
          "width": 2
         },
         "mode": "lines",
         "type": "scatter",
         "x": [
          40.598214285714285,
          53.71818181818182
         ],
         "y": [
          52.066071428571426,
          37.836363636363636
         ]
        },
        {
         "line": {
          "color": "red",
          "width": 2
         },
         "mode": "lines",
         "type": "scatter",
         "x": [
          40.250314465408806,
          53.71818181818182
         ],
         "y": [
          26.367295597484276,
          37.836363636363636
         ]
        },
        {
         "line": {
          "color": "red",
          "width": 2
         },
         "mode": "lines",
         "type": "scatter",
         "x": [
          40.250314465408806,
          53.71818181818182
         ],
         "y": [
          26.367295597484276,
          37.836363636363636
         ]
        },
        {
         "line": {
          "color": "red",
          "width": 2
         },
         "mode": "lines",
         "type": "scatter",
         "x": [
          40.250314465408806,
          53.71818181818182
         ],
         "y": [
          26.367295597484276,
          37.836363636363636
         ]
        },
        {
         "line": {
          "color": "red",
          "width": 2
         },
         "mode": "lines",
         "type": "scatter",
         "x": [
          10.335,
          53.71818181818182
         ],
         "y": [
          39.89666666666667,
          37.836363636363636
         ]
        },
        {
         "line": {
          "color": "red",
          "width": 2
         },
         "mode": "lines",
         "type": "scatter",
         "x": [
          44.99673913043478,
          23.648000000000003
         ],
         "y": [
          63.44239130434782,
          62.312
         ]
        },
        {
         "line": {
          "color": "red",
          "width": 2
         },
         "mode": "lines",
         "type": "scatter",
         "x": [
          44.99673913043478,
          23.648000000000003
         ],
         "y": [
          63.44239130434782,
          62.312
         ]
        },
        {
         "line": {
          "color": "red",
          "width": 2
         },
         "mode": "lines",
         "type": "scatter",
         "x": [
          47.863157894736844,
          23.648000000000003
         ],
         "y": [
          32.108270676691724,
          62.312
         ]
        },
        {
         "line": {
          "color": "red",
          "width": 2
         },
         "mode": "lines",
         "type": "scatter",
         "x": [
          47.863157894736844,
          23.648000000000003
         ],
         "y": [
          32.108270676691724,
          62.312
         ]
        },
        {
         "line": {
          "color": "red",
          "width": 2
         },
         "mode": "lines",
         "type": "scatter",
         "x": [
          10.335,
          23.648000000000003
         ],
         "y": [
          39.89666666666667,
          62.312
         ]
        },
        {
         "line": {
          "color": "red",
          "width": 2
         },
         "mode": "lines",
         "type": "scatter",
         "x": [
          10.335,
          23.648000000000003
         ],
         "y": [
          39.89666666666667,
          62.312
         ]
        },
        {
         "line": {
          "color": "red",
          "width": 2
         },
         "mode": "lines",
         "type": "scatter",
         "x": [
          10.335,
          23.648000000000003
         ],
         "y": [
          39.89666666666667,
          62.312
         ]
        },
        {
         "line": {
          "color": "red",
          "width": 2
         },
         "mode": "lines",
         "type": "scatter",
         "x": [
          52.777499999999996,
          23.648000000000003
         ],
         "y": [
          61.302499999999995,
          62.312
         ]
        },
        {
         "line": {
          "color": "red",
          "width": 2
         },
         "mode": "lines",
         "type": "scatter",
         "x": [
          41.29,
          23.648000000000003
         ],
         "y": [
          37.67,
          62.312
         ]
        },
        {
         "line": {
          "color": "red",
          "width": 2
         },
         "mode": "lines",
         "type": "scatter",
         "x": [
          44.99673913043478,
          53.26666666666666
         ],
         "y": [
          63.44239130434782,
          51.76666666666667
         ]
        },
        {
         "line": {
          "color": "red",
          "width": 2
         },
         "mode": "lines",
         "type": "scatter",
         "x": [
          40.250314465408806,
          53.26666666666666
         ],
         "y": [
          26.367295597484276,
          51.76666666666667
         ]
        },
        {
         "line": {
          "color": "red",
          "width": 2
         },
         "mode": "lines",
         "type": "scatter",
         "x": [
          41.29,
          53.26666666666666
         ],
         "y": [
          37.67,
          51.76666666666667
         ]
        },
        {
         "line": {
          "color": "red",
          "width": 2
         },
         "mode": "lines",
         "type": "scatter",
         "x": [
          47.863157894736844,
          44.99673913043478
         ],
         "y": [
          32.108270676691724,
          63.44239130434782
         ]
        },
        {
         "line": {
          "color": "red",
          "width": 2
         },
         "mode": "lines",
         "type": "scatter",
         "x": [
          47.863157894736844,
          44.99673913043478
         ],
         "y": [
          32.108270676691724,
          63.44239130434782
         ]
        },
        {
         "line": {
          "color": "red",
          "width": 2
         },
         "mode": "lines",
         "type": "scatter",
         "x": [
          47.863157894736844,
          44.99673913043478
         ],
         "y": [
          32.108270676691724,
          63.44239130434782
         ]
        },
        {
         "line": {
          "color": "red",
          "width": 2
         },
         "mode": "lines",
         "type": "scatter",
         "x": [
          47.863157894736844,
          44.99673913043478
         ],
         "y": [
          32.108270676691724,
          63.44239130434782
         ]
        },
        {
         "line": {
          "color": "red",
          "width": 2
         },
         "mode": "lines",
         "type": "scatter",
         "x": [
          47.863157894736844,
          44.99673913043478
         ],
         "y": [
          32.108270676691724,
          63.44239130434782
         ]
        },
        {
         "line": {
          "color": "red",
          "width": 2
         },
         "mode": "lines",
         "type": "scatter",
         "x": [
          47.863157894736844,
          44.99673913043478
         ],
         "y": [
          32.108270676691724,
          63.44239130434782
         ]
        },
        {
         "line": {
          "color": "red",
          "width": 2
         },
         "mode": "lines",
         "type": "scatter",
         "x": [
          40.598214285714285,
          44.99673913043478
         ],
         "y": [
          52.066071428571426,
          63.44239130434782
         ]
        },
        {
         "line": {
          "color": "red",
          "width": 2
         },
         "mode": "lines",
         "type": "scatter",
         "x": [
          40.598214285714285,
          44.99673913043478
         ],
         "y": [
          52.066071428571426,
          63.44239130434782
         ]
        },
        {
         "line": {
          "color": "red",
          "width": 2
         },
         "mode": "lines",
         "type": "scatter",
         "x": [
          40.598214285714285,
          44.99673913043478
         ],
         "y": [
          52.066071428571426,
          63.44239130434782
         ]
        },
        {
         "line": {
          "color": "red",
          "width": 2
         },
         "mode": "lines",
         "type": "scatter",
         "x": [
          40.598214285714285,
          44.99673913043478
         ],
         "y": [
          52.066071428571426,
          63.44239130434782
         ]
        },
        {
         "line": {
          "color": "red",
          "width": 2
         },
         "mode": "lines",
         "type": "scatter",
         "x": [
          40.598214285714285,
          44.99673913043478
         ],
         "y": [
          52.066071428571426,
          63.44239130434782
         ]
        },
        {
         "line": {
          "color": "red",
          "width": 2
         },
         "mode": "lines",
         "type": "scatter",
         "x": [
          40.250314465408806,
          44.99673913043478
         ],
         "y": [
          26.367295597484276,
          63.44239130434782
         ]
        },
        {
         "line": {
          "color": "red",
          "width": 2
         },
         "mode": "lines",
         "type": "scatter",
         "x": [
          40.250314465408806,
          44.99673913043478
         ],
         "y": [
          26.367295597484276,
          63.44239130434782
         ]
        },
        {
         "line": {
          "color": "red",
          "width": 2
         },
         "mode": "lines",
         "type": "scatter",
         "x": [
          40.250314465408806,
          44.99673913043478
         ],
         "y": [
          26.367295597484276,
          63.44239130434782
         ]
        },
        {
         "line": {
          "color": "red",
          "width": 2
         },
         "mode": "lines",
         "type": "scatter",
         "x": [
          40.250314465408806,
          44.99673913043478
         ],
         "y": [
          26.367295597484276,
          63.44239130434782
         ]
        },
        {
         "line": {
          "color": "red",
          "width": 2
         },
         "mode": "lines",
         "type": "scatter",
         "x": [
          40.250314465408806,
          44.99673913043478
         ],
         "y": [
          26.367295597484276,
          63.44239130434782
         ]
        },
        {
         "line": {
          "color": "red",
          "width": 2
         },
         "mode": "lines",
         "type": "scatter",
         "x": [
          56.768,
          44.99673913043478
         ],
         "y": [
          67.884,
          63.44239130434782
         ]
        },
        {
         "line": {
          "color": "red",
          "width": 2
         },
         "mode": "lines",
         "type": "scatter",
         "x": [
          56.768,
          44.99673913043478
         ],
         "y": [
          67.884,
          63.44239130434782
         ]
        },
        {
         "line": {
          "color": "red",
          "width": 2
         },
         "mode": "lines",
         "type": "scatter",
         "x": [
          10.335,
          44.99673913043478
         ],
         "y": [
          39.89666666666667,
          63.44239130434782
         ]
        },
        {
         "line": {
          "color": "red",
          "width": 2
         },
         "mode": "lines",
         "type": "scatter",
         "x": [
          10.335,
          44.99673913043478
         ],
         "y": [
          39.89666666666667,
          63.44239130434782
         ]
        },
        {
         "line": {
          "color": "red",
          "width": 2
         },
         "mode": "lines",
         "type": "scatter",
         "x": [
          52.777499999999996,
          44.99673913043478
         ],
         "y": [
          61.302499999999995,
          63.44239130434782
         ]
        },
        {
         "line": {
          "color": "red",
          "width": 2
         },
         "mode": "lines",
         "type": "scatter",
         "x": [
          52.777499999999996,
          44.99673913043478
         ],
         "y": [
          61.302499999999995,
          63.44239130434782
         ]
        },
        {
         "line": {
          "color": "red",
          "width": 2
         },
         "mode": "lines",
         "type": "scatter",
         "x": [
          52.777499999999996,
          44.99673913043478
         ],
         "y": [
          61.302499999999995,
          63.44239130434782
         ]
        },
        {
         "line": {
          "color": "red",
          "width": 2
         },
         "mode": "lines",
         "type": "scatter",
         "x": [
          52.777499999999996,
          44.99673913043478
         ],
         "y": [
          61.302499999999995,
          63.44239130434782
         ]
        },
        {
         "line": {
          "color": "red",
          "width": 2
         },
         "mode": "lines",
         "type": "scatter",
         "x": [
          23.648000000000003,
          44.99673913043478
         ],
         "y": [
          62.312,
          63.44239130434782
         ]
        },
        {
         "line": {
          "color": "red",
          "width": 2
         },
         "mode": "lines",
         "type": "scatter",
         "x": [
          23.648000000000003,
          44.99673913043478
         ],
         "y": [
          62.312,
          63.44239130434782
         ]
        },
        {
         "line": {
          "color": "red",
          "width": 2
         },
         "mode": "lines",
         "type": "scatter",
         "x": [
          23.648000000000003,
          44.99673913043478
         ],
         "y": [
          62.312,
          63.44239130434782
         ]
        },
        {
         "line": {
          "color": "red",
          "width": 2
         },
         "mode": "lines",
         "type": "scatter",
         "x": [
          47.863157894736844,
          57.86
         ],
         "y": [
          32.108270676691724,
          26.433333333333334
         ]
        },
        {
         "line": {
          "color": "red",
          "width": 2
         },
         "mode": "lines",
         "type": "scatter",
         "x": [
          49.72295081967213,
          57.86
         ],
         "y": [
          10.20327868852459,
          26.433333333333334
         ]
        },
        {
         "line": {
          "color": "red",
          "width": 2
         },
         "mode": "lines",
         "type": "scatter",
         "x": [
          49.72295081967213,
          57.86
         ],
         "y": [
          10.20327868852459,
          26.433333333333334
         ]
        },
        {
         "line": {
          "color": "red",
          "width": 2
         },
         "mode": "lines",
         "type": "scatter",
         "x": [
          55.492592592592594,
          57.86
         ],
         "y": [
          21.25185185185185,
          26.433333333333334
         ]
        },
        {
         "line": {
          "color": "red",
          "width": 2
         },
         "mode": "lines",
         "type": "scatter",
         "x": [
          55.492592592592594,
          57.86
         ],
         "y": [
          21.25185185185185,
          26.433333333333334
         ]
        },
        {
         "line": {
          "color": "red",
          "width": 2
         },
         "mode": "lines",
         "type": "scatter",
         "x": [
          55.492592592592594,
          57.86
         ],
         "y": [
          21.25185185185185,
          26.433333333333334
         ]
        },
        {
         "line": {
          "color": "red",
          "width": 2
         },
         "mode": "lines",
         "type": "scatter",
         "x": [
          40.598214285714285,
          57.86
         ],
         "y": [
          52.066071428571426,
          26.433333333333334
         ]
        },
        {
         "line": {
          "color": "red",
          "width": 2
         },
         "mode": "lines",
         "type": "scatter",
         "x": [
          40.250314465408806,
          57.86
         ],
         "y": [
          26.367295597484276,
          26.433333333333334
         ]
        },
        {
         "line": {
          "color": "red",
          "width": 2
         },
         "mode": "lines",
         "type": "scatter",
         "x": [
          40.250314465408806,
          57.86
         ],
         "y": [
          26.367295597484276,
          26.433333333333334
         ]
        },
        {
         "line": {
          "color": "red",
          "width": 2
         },
         "mode": "lines",
         "type": "scatter",
         "x": [
          40.250314465408806,
          57.86
         ],
         "y": [
          26.367295597484276,
          26.433333333333334
         ]
        },
        {
         "line": {
          "color": "red",
          "width": 2
         },
         "mode": "lines",
         "type": "scatter",
         "x": [
          53.71818181818182,
          57.86
         ],
         "y": [
          37.836363636363636,
          26.433333333333334
         ]
        },
        {
         "line": {
          "color": "red",
          "width": 2
         },
         "mode": "lines",
         "type": "scatter",
         "x": [
          52.777499999999996,
          57.86
         ],
         "y": [
          61.302499999999995,
          26.433333333333334
         ]
        },
        {
         "line": {
          "color": "red",
          "width": 2
         },
         "mode": "lines",
         "type": "scatter",
         "x": [
          52.777499999999996,
          57.86
         ],
         "y": [
          61.302499999999995,
          26.433333333333334
         ]
        },
        {
         "line": {
          "color": "red",
          "width": 2
         },
         "mode": "lines",
         "type": "scatter",
         "x": [
          47.863157894736844,
          41.29
         ],
         "y": [
          32.108270676691724,
          37.67
         ]
        },
        {
         "line": {
          "color": "red",
          "width": 2
         },
         "mode": "lines",
         "type": "scatter",
         "x": [
          40.250314465408806,
          41.29
         ],
         "y": [
          26.367295597484276,
          37.67
         ]
        },
        {
         "line": {
          "color": "red",
          "width": 2
         },
         "mode": "lines",
         "type": "scatter",
         "x": [
          10.335,
          41.29
         ],
         "y": [
          39.89666666666667,
          37.67
         ]
        },
        {
         "line": {
          "color": "red",
          "width": 2
         },
         "mode": "lines",
         "type": "scatter",
         "x": [
          47.863157894736844,
          48.94615384615384
         ],
         "y": [
          32.108270676691724,
          17.184615384615384
         ]
        },
        {
         "line": {
          "color": "red",
          "width": 2
         },
         "mode": "lines",
         "type": "scatter",
         "x": [
          49.72295081967213,
          48.94615384615384
         ],
         "y": [
          10.20327868852459,
          17.184615384615384
         ]
        },
        {
         "line": {
          "color": "red",
          "width": 2
         },
         "mode": "lines",
         "type": "scatter",
         "x": [
          40.250314465408806,
          48.94615384615384
         ],
         "y": [
          26.367295597484276,
          17.184615384615384
         ]
        },
        {
         "line": {
          "color": "red",
          "width": 2
         },
         "mode": "lines",
         "type": "scatter",
         "x": [
          24.566666666666666,
          48.94615384615384
         ],
         "y": [
          19.333333333333332,
          17.184615384615384
         ]
        },
        {
         "line": {
          "color": "red",
          "width": 2
         },
         "mode": "lines",
         "type": "scatter",
         "x": [
          41.29,
          48.94615384615384
         ],
         "y": [
          37.67,
          17.184615384615384
         ]
        },
        {
         "line": {
          "color": "red",
          "width": 2
         },
         "mode": "lines",
         "type": "scatter",
         "x": [
          40.250314465408806,
          24.566666666666666
         ],
         "y": [
          26.367295597484276,
          19.333333333333332
         ]
        },
        {
         "line": {
          "color": "red",
          "width": 2
         },
         "mode": "lines",
         "type": "scatter",
         "x": [
          10.335,
          24.566666666666666
         ],
         "y": [
          39.89666666666667,
          19.333333333333332
         ]
        }
       ],
       "layout": {
        "shapes": [
         {
          "fillcolor": "rgba(0, 128, 0, 0.4)",
          "line": {
           "color": "green",
           "width": 2
          },
          "type": "rect",
          "x0": 0,
          "x1": 120,
          "y0": 0,
          "y1": 80
         },
         {
          "fillcolor": "rgba(255, 255, 255, 0.4)",
          "line": {
           "color": "white",
           "width": 2
          },
          "type": "rect",
          "x0": 0,
          "x1": 16.5,
          "y0": 30,
          "y1": 50
         },
         {
          "fillcolor": "rgba(255, 255, 255, 0.4)",
          "line": {
           "color": "white",
           "width": 2
          },
          "type": "rect",
          "x0": 103.5,
          "x1": 120,
          "y0": 30,
          "y1": 50
         },
         {
          "fillcolor": "rgba(255, 255, 255, 0.4)",
          "line": {
           "color": "white",
           "width": 2
          },
          "type": "circle",
          "x0": 50.85,
          "x1": 69.15,
          "y0": 30.85,
          "y1": 49.15
         }
        ],
        "showlegend": false,
        "template": {
         "data": {
          "bar": [
           {
            "error_x": {
             "color": "#2a3f5f"
            },
            "error_y": {
             "color": "#2a3f5f"
            },
            "marker": {
             "line": {
              "color": "#E5ECF6",
              "width": 0.5
             },
             "pattern": {
              "fillmode": "overlay",
              "size": 10,
              "solidity": 0.2
             }
            },
            "type": "bar"
           }
          ],
          "barpolar": [
           {
            "marker": {
             "line": {
              "color": "#E5ECF6",
              "width": 0.5
             },
             "pattern": {
              "fillmode": "overlay",
              "size": 10,
              "solidity": 0.2
             }
            },
            "type": "barpolar"
           }
          ],
          "carpet": [
           {
            "aaxis": {
             "endlinecolor": "#2a3f5f",
             "gridcolor": "white",
             "linecolor": "white",
             "minorgridcolor": "white",
             "startlinecolor": "#2a3f5f"
            },
            "baxis": {
             "endlinecolor": "#2a3f5f",
             "gridcolor": "white",
             "linecolor": "white",
             "minorgridcolor": "white",
             "startlinecolor": "#2a3f5f"
            },
            "type": "carpet"
           }
          ],
          "choropleth": [
           {
            "colorbar": {
             "outlinewidth": 0,
             "ticks": ""
            },
            "type": "choropleth"
           }
          ],
          "contour": [
           {
            "colorbar": {
             "outlinewidth": 0,
             "ticks": ""
            },
            "colorscale": [
             [
              0,
              "#0d0887"
             ],
             [
              0.1111111111111111,
              "#46039f"
             ],
             [
              0.2222222222222222,
              "#7201a8"
             ],
             [
              0.3333333333333333,
              "#9c179e"
             ],
             [
              0.4444444444444444,
              "#bd3786"
             ],
             [
              0.5555555555555556,
              "#d8576b"
             ],
             [
              0.6666666666666666,
              "#ed7953"
             ],
             [
              0.7777777777777778,
              "#fb9f3a"
             ],
             [
              0.8888888888888888,
              "#fdca26"
             ],
             [
              1,
              "#f0f921"
             ]
            ],
            "type": "contour"
           }
          ],
          "contourcarpet": [
           {
            "colorbar": {
             "outlinewidth": 0,
             "ticks": ""
            },
            "type": "contourcarpet"
           }
          ],
          "heatmap": [
           {
            "colorbar": {
             "outlinewidth": 0,
             "ticks": ""
            },
            "colorscale": [
             [
              0,
              "#0d0887"
             ],
             [
              0.1111111111111111,
              "#46039f"
             ],
             [
              0.2222222222222222,
              "#7201a8"
             ],
             [
              0.3333333333333333,
              "#9c179e"
             ],
             [
              0.4444444444444444,
              "#bd3786"
             ],
             [
              0.5555555555555556,
              "#d8576b"
             ],
             [
              0.6666666666666666,
              "#ed7953"
             ],
             [
              0.7777777777777778,
              "#fb9f3a"
             ],
             [
              0.8888888888888888,
              "#fdca26"
             ],
             [
              1,
              "#f0f921"
             ]
            ],
            "type": "heatmap"
           }
          ],
          "heatmapgl": [
           {
            "colorbar": {
             "outlinewidth": 0,
             "ticks": ""
            },
            "colorscale": [
             [
              0,
              "#0d0887"
             ],
             [
              0.1111111111111111,
              "#46039f"
             ],
             [
              0.2222222222222222,
              "#7201a8"
             ],
             [
              0.3333333333333333,
              "#9c179e"
             ],
             [
              0.4444444444444444,
              "#bd3786"
             ],
             [
              0.5555555555555556,
              "#d8576b"
             ],
             [
              0.6666666666666666,
              "#ed7953"
             ],
             [
              0.7777777777777778,
              "#fb9f3a"
             ],
             [
              0.8888888888888888,
              "#fdca26"
             ],
             [
              1,
              "#f0f921"
             ]
            ],
            "type": "heatmapgl"
           }
          ],
          "histogram": [
           {
            "marker": {
             "pattern": {
              "fillmode": "overlay",
              "size": 10,
              "solidity": 0.2
             }
            },
            "type": "histogram"
           }
          ],
          "histogram2d": [
           {
            "colorbar": {
             "outlinewidth": 0,
             "ticks": ""
            },
            "colorscale": [
             [
              0,
              "#0d0887"
             ],
             [
              0.1111111111111111,
              "#46039f"
             ],
             [
              0.2222222222222222,
              "#7201a8"
             ],
             [
              0.3333333333333333,
              "#9c179e"
             ],
             [
              0.4444444444444444,
              "#bd3786"
             ],
             [
              0.5555555555555556,
              "#d8576b"
             ],
             [
              0.6666666666666666,
              "#ed7953"
             ],
             [
              0.7777777777777778,
              "#fb9f3a"
             ],
             [
              0.8888888888888888,
              "#fdca26"
             ],
             [
              1,
              "#f0f921"
             ]
            ],
            "type": "histogram2d"
           }
          ],
          "histogram2dcontour": [
           {
            "colorbar": {
             "outlinewidth": 0,
             "ticks": ""
            },
            "colorscale": [
             [
              0,
              "#0d0887"
             ],
             [
              0.1111111111111111,
              "#46039f"
             ],
             [
              0.2222222222222222,
              "#7201a8"
             ],
             [
              0.3333333333333333,
              "#9c179e"
             ],
             [
              0.4444444444444444,
              "#bd3786"
             ],
             [
              0.5555555555555556,
              "#d8576b"
             ],
             [
              0.6666666666666666,
              "#ed7953"
             ],
             [
              0.7777777777777778,
              "#fb9f3a"
             ],
             [
              0.8888888888888888,
              "#fdca26"
             ],
             [
              1,
              "#f0f921"
             ]
            ],
            "type": "histogram2dcontour"
           }
          ],
          "mesh3d": [
           {
            "colorbar": {
             "outlinewidth": 0,
             "ticks": ""
            },
            "type": "mesh3d"
           }
          ],
          "parcoords": [
           {
            "line": {
             "colorbar": {
              "outlinewidth": 0,
              "ticks": ""
             }
            },
            "type": "parcoords"
           }
          ],
          "pie": [
           {
            "automargin": true,
            "type": "pie"
           }
          ],
          "scatter": [
           {
            "fillpattern": {
             "fillmode": "overlay",
             "size": 10,
             "solidity": 0.2
            },
            "type": "scatter"
           }
          ],
          "scatter3d": [
           {
            "line": {
             "colorbar": {
              "outlinewidth": 0,
              "ticks": ""
             }
            },
            "marker": {
             "colorbar": {
              "outlinewidth": 0,
              "ticks": ""
             }
            },
            "type": "scatter3d"
           }
          ],
          "scattercarpet": [
           {
            "marker": {
             "colorbar": {
              "outlinewidth": 0,
              "ticks": ""
             }
            },
            "type": "scattercarpet"
           }
          ],
          "scattergeo": [
           {
            "marker": {
             "colorbar": {
              "outlinewidth": 0,
              "ticks": ""
             }
            },
            "type": "scattergeo"
           }
          ],
          "scattergl": [
           {
            "marker": {
             "colorbar": {
              "outlinewidth": 0,
              "ticks": ""
             }
            },
            "type": "scattergl"
           }
          ],
          "scattermapbox": [
           {
            "marker": {
             "colorbar": {
              "outlinewidth": 0,
              "ticks": ""
             }
            },
            "type": "scattermapbox"
           }
          ],
          "scatterpolar": [
           {
            "marker": {
             "colorbar": {
              "outlinewidth": 0,
              "ticks": ""
             }
            },
            "type": "scatterpolar"
           }
          ],
          "scatterpolargl": [
           {
            "marker": {
             "colorbar": {
              "outlinewidth": 0,
              "ticks": ""
             }
            },
            "type": "scatterpolargl"
           }
          ],
          "scatterternary": [
           {
            "marker": {
             "colorbar": {
              "outlinewidth": 0,
              "ticks": ""
             }
            },
            "type": "scatterternary"
           }
          ],
          "surface": [
           {
            "colorbar": {
             "outlinewidth": 0,
             "ticks": ""
            },
            "colorscale": [
             [
              0,
              "#0d0887"
             ],
             [
              0.1111111111111111,
              "#46039f"
             ],
             [
              0.2222222222222222,
              "#7201a8"
             ],
             [
              0.3333333333333333,
              "#9c179e"
             ],
             [
              0.4444444444444444,
              "#bd3786"
             ],
             [
              0.5555555555555556,
              "#d8576b"
             ],
             [
              0.6666666666666666,
              "#ed7953"
             ],
             [
              0.7777777777777778,
              "#fb9f3a"
             ],
             [
              0.8888888888888888,
              "#fdca26"
             ],
             [
              1,
              "#f0f921"
             ]
            ],
            "type": "surface"
           }
          ],
          "table": [
           {
            "cells": {
             "fill": {
              "color": "#EBF0F8"
             },
             "line": {
              "color": "white"
             }
            },
            "header": {
             "fill": {
              "color": "#C8D4E3"
             },
             "line": {
              "color": "white"
             }
            },
            "type": "table"
           }
          ]
         },
         "layout": {
          "annotationdefaults": {
           "arrowcolor": "#2a3f5f",
           "arrowhead": 0,
           "arrowwidth": 1
          },
          "autotypenumbers": "strict",
          "coloraxis": {
           "colorbar": {
            "outlinewidth": 0,
            "ticks": ""
           }
          },
          "colorscale": {
           "diverging": [
            [
             0,
             "#8e0152"
            ],
            [
             0.1,
             "#c51b7d"
            ],
            [
             0.2,
             "#de77ae"
            ],
            [
             0.3,
             "#f1b6da"
            ],
            [
             0.4,
             "#fde0ef"
            ],
            [
             0.5,
             "#f7f7f7"
            ],
            [
             0.6,
             "#e6f5d0"
            ],
            [
             0.7,
             "#b8e186"
            ],
            [
             0.8,
             "#7fbc41"
            ],
            [
             0.9,
             "#4d9221"
            ],
            [
             1,
             "#276419"
            ]
           ],
           "sequential": [
            [
             0,
             "#0d0887"
            ],
            [
             0.1111111111111111,
             "#46039f"
            ],
            [
             0.2222222222222222,
             "#7201a8"
            ],
            [
             0.3333333333333333,
             "#9c179e"
            ],
            [
             0.4444444444444444,
             "#bd3786"
            ],
            [
             0.5555555555555556,
             "#d8576b"
            ],
            [
             0.6666666666666666,
             "#ed7953"
            ],
            [
             0.7777777777777778,
             "#fb9f3a"
            ],
            [
             0.8888888888888888,
             "#fdca26"
            ],
            [
             1,
             "#f0f921"
            ]
           ],
           "sequentialminus": [
            [
             0,
             "#0d0887"
            ],
            [
             0.1111111111111111,
             "#46039f"
            ],
            [
             0.2222222222222222,
             "#7201a8"
            ],
            [
             0.3333333333333333,
             "#9c179e"
            ],
            [
             0.4444444444444444,
             "#bd3786"
            ],
            [
             0.5555555555555556,
             "#d8576b"
            ],
            [
             0.6666666666666666,
             "#ed7953"
            ],
            [
             0.7777777777777778,
             "#fb9f3a"
            ],
            [
             0.8888888888888888,
             "#fdca26"
            ],
            [
             1,
             "#f0f921"
            ]
           ]
          },
          "colorway": [
           "#636efa",
           "#EF553B",
           "#00cc96",
           "#ab63fa",
           "#FFA15A",
           "#19d3f3",
           "#FF6692",
           "#B6E880",
           "#FF97FF",
           "#FECB52"
          ],
          "font": {
           "color": "#2a3f5f"
          },
          "geo": {
           "bgcolor": "white",
           "lakecolor": "white",
           "landcolor": "#E5ECF6",
           "showlakes": true,
           "showland": true,
           "subunitcolor": "white"
          },
          "hoverlabel": {
           "align": "left"
          },
          "hovermode": "closest",
          "mapbox": {
           "style": "light"
          },
          "paper_bgcolor": "white",
          "plot_bgcolor": "#E5ECF6",
          "polar": {
           "angularaxis": {
            "gridcolor": "white",
            "linecolor": "white",
            "ticks": ""
           },
           "bgcolor": "#E5ECF6",
           "radialaxis": {
            "gridcolor": "white",
            "linecolor": "white",
            "ticks": ""
           }
          },
          "scene": {
           "xaxis": {
            "backgroundcolor": "#E5ECF6",
            "gridcolor": "white",
            "gridwidth": 2,
            "linecolor": "white",
            "showbackground": true,
            "ticks": "",
            "zerolinecolor": "white"
           },
           "yaxis": {
            "backgroundcolor": "#E5ECF6",
            "gridcolor": "white",
            "gridwidth": 2,
            "linecolor": "white",
            "showbackground": true,
            "ticks": "",
            "zerolinecolor": "white"
           },
           "zaxis": {
            "backgroundcolor": "#E5ECF6",
            "gridcolor": "white",
            "gridwidth": 2,
            "linecolor": "white",
            "showbackground": true,
            "ticks": "",
            "zerolinecolor": "white"
           }
          },
          "shapedefaults": {
           "line": {
            "color": "#2a3f5f"
           }
          },
          "ternary": {
           "aaxis": {
            "gridcolor": "white",
            "linecolor": "white",
            "ticks": ""
           },
           "baxis": {
            "gridcolor": "white",
            "linecolor": "white",
            "ticks": ""
           },
           "bgcolor": "#E5ECF6",
           "caxis": {
            "gridcolor": "white",
            "linecolor": "white",
            "ticks": ""
           }
          },
          "title": {
           "x": 0.05
          },
          "xaxis": {
           "automargin": true,
           "gridcolor": "white",
           "linecolor": "white",
           "ticks": "",
           "title": {
            "standoff": 15
           },
           "zerolinecolor": "white",
           "zerolinewidth": 2
          },
          "yaxis": {
           "automargin": true,
           "gridcolor": "white",
           "linecolor": "white",
           "ticks": "",
           "title": {
            "standoff": 15
           },
           "zerolinecolor": "white",
           "zerolinewidth": 2
          }
         }
        },
        "title": {
         "text": "Terrain de football"
        },
        "xaxis": {
         "dtick": 20,
         "range": [
          0,
          120
         ],
         "title": {
          "text": "Longueur du terrain (m)"
         }
        },
        "yaxis": {
         "dtick": 20,
         "range": [
          0,
          80
         ],
         "title": {
          "text": "Largeur du terrain (m)"
         }
        }
       }
      }
     },
     "metadata": {},
     "output_type": "display_data"
    }
   ],
   "source": [
    "fig = create_field()\n",
    "\n",
    "\n",
    "# Define the nodes and edges of the graph\n",
    "nodes = [\n",
    "    go.Scatter(x=player_position.x, y = player_position.y, mode=\"markers\", marker=dict(size=15, color=\"blue\")),\n",
    "]\n",
    "\n",
    "edges = [\n",
    "    go.Scatter(x=[x1, x2], y=[y1, y2], mode=\"lines\", line=dict(width=2, color=\"red\"))\n",
    "    \n",
    "    for x1, y1, x2, y2 in zip(pass_events.x_y, pass_events.y_y, pass_events.x, pass_events.y)\n",
    "]\n",
    "\n",
    "fig.add_traces(nodes + edges)\n",
    "fig.update(layout_showlegend=False)\n",
    "fig.show()"
   ]
  }
 ],
 "metadata": {
  "kernelspec": {
   "display_name": "Python 3",
   "language": "python",
   "name": "python3"
  },
  "language_info": {
   "codemirror_mode": {
    "name": "ipython",
    "version": 3
   },
   "file_extension": ".py",
   "mimetype": "text/x-python",
   "name": "python",
   "nbconvert_exporter": "python",
   "pygments_lexer": "ipython3",
   "version": "3.8.9"
  },
  "orig_nbformat": 4
 },
 "nbformat": 4,
 "nbformat_minor": 2
}
