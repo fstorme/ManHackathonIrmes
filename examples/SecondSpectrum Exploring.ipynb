{
 "cells": [
  {
   "cell_type": "markdown",
   "metadata": {},
   "source": [
    "# Objectif du notebook\n",
    "\n",
    "Import des données de tracking et début de processing basique\n",
    "\n",
    "# Librairies et Données"
   ]
  },
  {
   "cell_type": "code",
   "execution_count": 45,
   "metadata": {
    "ExecuteTime": {
     "end_time": "2023-04-01T21:17:32.879986Z",
     "start_time": "2023-04-01T21:17:32.877199Z"
    }
   },
   "outputs": [],
   "source": [
    "import pandas as pd \n",
    "import os\n",
    "import sys\n",
    "import matplotlib.pyplot as plt\n",
    "import numpy as np\n",
    "\n",
    "sys.path.insert(0, '../')\n",
    "from scripts.tracking import TeamTracking "
   ]
  },
  {
   "cell_type": "code",
   "execution_count": 2,
   "metadata": {
    "ExecuteTime": {
     "end_time": "2023-04-01T20:50:12.214907Z",
     "start_time": "2023-04-01T20:50:00.425233Z"
    }
   },
   "outputs": [],
   "source": [
    "data_directory = '../data/tracking'\n",
    "file = 'g2312201_SecondSpectrum_tracking-produced.jsonl'\n",
    "match_tracking_path = os.path.join(data_directory, file)\n",
    "\n",
    "# < 20s\n",
    "df_unstructured_tracking = pd.read_json(match_tracking_path, lines = True)"
   ]
  },
  {
   "cell_type": "code",
   "execution_count": 3,
   "metadata": {
    "ExecuteTime": {
     "end_time": "2023-04-01T20:50:12.257009Z",
     "start_time": "2023-04-01T20:50:12.216497Z"
    }
   },
   "outputs": [
    {
     "data": {
      "text/html": [
       "<div>\n",
       "<style scoped>\n",
       "    .dataframe tbody tr th:only-of-type {\n",
       "        vertical-align: middle;\n",
       "    }\n",
       "\n",
       "    .dataframe tbody tr th {\n",
       "        vertical-align: top;\n",
       "    }\n",
       "\n",
       "    .dataframe thead th {\n",
       "        text-align: right;\n",
       "    }\n",
       "</style>\n",
       "<table border=\"1\" class=\"dataframe\">\n",
       "  <thead>\n",
       "    <tr style=\"text-align: right;\">\n",
       "      <th></th>\n",
       "      <th>period</th>\n",
       "      <th>frameIdx</th>\n",
       "      <th>gameClock</th>\n",
       "      <th>wallClock</th>\n",
       "      <th>homePlayers</th>\n",
       "      <th>awayPlayers</th>\n",
       "      <th>ball</th>\n",
       "      <th>live</th>\n",
       "      <th>lastTouch</th>\n",
       "    </tr>\n",
       "  </thead>\n",
       "  <tbody>\n",
       "    <tr>\n",
       "      <th>0</th>\n",
       "      <td>1</td>\n",
       "      <td>0</td>\n",
       "      <td>0.00</td>\n",
       "      <td>1674387294150</td>\n",
       "      <td>[{'playerId': '02780bab-8db4-4310-ad80-308ae2f...</td>\n",
       "      <td>[{'playerId': '25357429-779e-43bb-aa85-8c2ef9c...</td>\n",
       "      <td>{'xyz': [-0.58, 0.08, 0.34], 'speed': 8.97}</td>\n",
       "      <td>False</td>\n",
       "      <td>home</td>\n",
       "    </tr>\n",
       "    <tr>\n",
       "      <th>1</th>\n",
       "      <td>1</td>\n",
       "      <td>1</td>\n",
       "      <td>0.04</td>\n",
       "      <td>1674387294190</td>\n",
       "      <td>[{'playerId': '02780bab-8db4-4310-ad80-308ae2f...</td>\n",
       "      <td>[{'playerId': '25357429-779e-43bb-aa85-8c2ef9c...</td>\n",
       "      <td>{'xyz': [-0.89, 0.09, 0.35000000000000003], 's...</td>\n",
       "      <td>True</td>\n",
       "      <td>away</td>\n",
       "    </tr>\n",
       "    <tr>\n",
       "      <th>2</th>\n",
       "      <td>1</td>\n",
       "      <td>2</td>\n",
       "      <td>0.08</td>\n",
       "      <td>1674387294230</td>\n",
       "      <td>[{'playerId': '02780bab-8db4-4310-ad80-308ae2f...</td>\n",
       "      <td>[{'playerId': '25357429-779e-43bb-aa85-8c2ef9c...</td>\n",
       "      <td>{'xyz': [-1.2, 0.09, 0.36], 'speed': 9.11}</td>\n",
       "      <td>True</td>\n",
       "      <td>away</td>\n",
       "    </tr>\n",
       "    <tr>\n",
       "      <th>3</th>\n",
       "      <td>1</td>\n",
       "      <td>3</td>\n",
       "      <td>0.12</td>\n",
       "      <td>1674387294270</td>\n",
       "      <td>[{'playerId': '02780bab-8db4-4310-ad80-308ae2f...</td>\n",
       "      <td>[{'playerId': '25357429-779e-43bb-aa85-8c2ef9c...</td>\n",
       "      <td>{'xyz': [-1.52, 0.1, 0.37], 'speed': 9.15}</td>\n",
       "      <td>True</td>\n",
       "      <td>away</td>\n",
       "    </tr>\n",
       "    <tr>\n",
       "      <th>4</th>\n",
       "      <td>1</td>\n",
       "      <td>4</td>\n",
       "      <td>0.16</td>\n",
       "      <td>1674387294310</td>\n",
       "      <td>[{'playerId': '02780bab-8db4-4310-ad80-308ae2f...</td>\n",
       "      <td>[{'playerId': '25357429-779e-43bb-aa85-8c2ef9c...</td>\n",
       "      <td>{'xyz': [-1.85, 0.11, 0.37], 'speed': 9.15}</td>\n",
       "      <td>True</td>\n",
       "      <td>away</td>\n",
       "    </tr>\n",
       "  </tbody>\n",
       "</table>\n",
       "</div>"
      ],
      "text/plain": [
       "   period  frameIdx  gameClock      wallClock  \\\n",
       "0       1         0       0.00  1674387294150   \n",
       "1       1         1       0.04  1674387294190   \n",
       "2       1         2       0.08  1674387294230   \n",
       "3       1         3       0.12  1674387294270   \n",
       "4       1         4       0.16  1674387294310   \n",
       "\n",
       "                                         homePlayers  \\\n",
       "0  [{'playerId': '02780bab-8db4-4310-ad80-308ae2f...   \n",
       "1  [{'playerId': '02780bab-8db4-4310-ad80-308ae2f...   \n",
       "2  [{'playerId': '02780bab-8db4-4310-ad80-308ae2f...   \n",
       "3  [{'playerId': '02780bab-8db4-4310-ad80-308ae2f...   \n",
       "4  [{'playerId': '02780bab-8db4-4310-ad80-308ae2f...   \n",
       "\n",
       "                                         awayPlayers  \\\n",
       "0  [{'playerId': '25357429-779e-43bb-aa85-8c2ef9c...   \n",
       "1  [{'playerId': '25357429-779e-43bb-aa85-8c2ef9c...   \n",
       "2  [{'playerId': '25357429-779e-43bb-aa85-8c2ef9c...   \n",
       "3  [{'playerId': '25357429-779e-43bb-aa85-8c2ef9c...   \n",
       "4  [{'playerId': '25357429-779e-43bb-aa85-8c2ef9c...   \n",
       "\n",
       "                                                ball   live lastTouch  \n",
       "0        {'xyz': [-0.58, 0.08, 0.34], 'speed': 8.97}  False      home  \n",
       "1  {'xyz': [-0.89, 0.09, 0.35000000000000003], 's...   True      away  \n",
       "2         {'xyz': [-1.2, 0.09, 0.36], 'speed': 9.11}   True      away  \n",
       "3         {'xyz': [-1.52, 0.1, 0.37], 'speed': 9.15}   True      away  \n",
       "4        {'xyz': [-1.85, 0.11, 0.37], 'speed': 9.15}   True      away  "
      ]
     },
     "execution_count": 3,
     "metadata": {},
     "output_type": "execute_result"
    }
   ],
   "source": [
    "df_unstructured_tracking.head()"
   ]
  },
  {
   "cell_type": "code",
   "execution_count": 5,
   "metadata": {
    "ExecuteTime": {
     "end_time": "2023-04-01T20:51:41.446389Z",
     "start_time": "2023-04-01T20:51:40.303972Z"
    }
   },
   "outputs": [
    {
     "data": {
      "text/html": [
       "<div>\n",
       "<style scoped>\n",
       "    .dataframe tbody tr th:only-of-type {\n",
       "        vertical-align: middle;\n",
       "    }\n",
       "\n",
       "    .dataframe tbody tr th {\n",
       "        vertical-align: top;\n",
       "    }\n",
       "\n",
       "    .dataframe thead th {\n",
       "        text-align: right;\n",
       "    }\n",
       "</style>\n",
       "<table border=\"1\" class=\"dataframe\">\n",
       "  <thead>\n",
       "    <tr style=\"text-align: right;\">\n",
       "      <th></th>\n",
       "      <th>period</th>\n",
       "      <th>frameIdx</th>\n",
       "      <th>gameClock</th>\n",
       "      <th>wallClock</th>\n",
       "      <th>live</th>\n",
       "      <th>lastTouch</th>\n",
       "      <th>optaId</th>\n",
       "      <th>speed</th>\n",
       "      <th>xyz</th>\n",
       "    </tr>\n",
       "  </thead>\n",
       "  <tbody>\n",
       "    <tr>\n",
       "      <th>0</th>\n",
       "      <td>1</td>\n",
       "      <td>0</td>\n",
       "      <td>0.00</td>\n",
       "      <td>1674387294150</td>\n",
       "      <td>False</td>\n",
       "      <td>home</td>\n",
       "      <td>246319</td>\n",
       "      <td>0.00</td>\n",
       "      <td>[16.93, 16.79, 0.0]</td>\n",
       "    </tr>\n",
       "    <tr>\n",
       "      <th>0</th>\n",
       "      <td>1</td>\n",
       "      <td>0</td>\n",
       "      <td>0.00</td>\n",
       "      <td>1674387294150</td>\n",
       "      <td>False</td>\n",
       "      <td>home</td>\n",
       "      <td>192194</td>\n",
       "      <td>0.00</td>\n",
       "      <td>[13.61, 0.11, 0.0]</td>\n",
       "    </tr>\n",
       "    <tr>\n",
       "      <th>0</th>\n",
       "      <td>1</td>\n",
       "      <td>0</td>\n",
       "      <td>0.00</td>\n",
       "      <td>1674387294150</td>\n",
       "      <td>False</td>\n",
       "      <td>home</td>\n",
       "      <td>174349</td>\n",
       "      <td>0.00</td>\n",
       "      <td>[3.04, 17.82, 0.0]</td>\n",
       "    </tr>\n",
       "    <tr>\n",
       "      <th>0</th>\n",
       "      <td>1</td>\n",
       "      <td>0</td>\n",
       "      <td>0.00</td>\n",
       "      <td>1674387294150</td>\n",
       "      <td>False</td>\n",
       "      <td>home</td>\n",
       "      <td>96385</td>\n",
       "      <td>0.00</td>\n",
       "      <td>[6.94, -8.83, 0.0]</td>\n",
       "    </tr>\n",
       "    <tr>\n",
       "      <th>0</th>\n",
       "      <td>1</td>\n",
       "      <td>0</td>\n",
       "      <td>0.00</td>\n",
       "      <td>1674387294150</td>\n",
       "      <td>False</td>\n",
       "      <td>home</td>\n",
       "      <td>459038</td>\n",
       "      <td>0.00</td>\n",
       "      <td>[5.21, 9.58, 0.0]</td>\n",
       "    </tr>\n",
       "    <tr>\n",
       "      <th>...</th>\n",
       "      <td>...</td>\n",
       "      <td>...</td>\n",
       "      <td>...</td>\n",
       "      <td>...</td>\n",
       "      <td>...</td>\n",
       "      <td>...</td>\n",
       "      <td>...</td>\n",
       "      <td>...</td>\n",
       "      <td>...</td>\n",
       "    </tr>\n",
       "    <tr>\n",
       "      <th>144074</th>\n",
       "      <td>2</td>\n",
       "      <td>144074</td>\n",
       "      <td>2882.04</td>\n",
       "      <td>1674394107470</td>\n",
       "      <td>False</td>\n",
       "      <td>away</td>\n",
       "      <td>165677</td>\n",
       "      <td>0.77</td>\n",
       "      <td>[-9.2, 14.65, 0.0]</td>\n",
       "    </tr>\n",
       "    <tr>\n",
       "      <th>144074</th>\n",
       "      <td>2</td>\n",
       "      <td>144074</td>\n",
       "      <td>2882.04</td>\n",
       "      <td>1674394107470</td>\n",
       "      <td>False</td>\n",
       "      <td>away</td>\n",
       "      <td>175128</td>\n",
       "      <td>0.18</td>\n",
       "      <td>[2.95, 2.06, 0.0]</td>\n",
       "    </tr>\n",
       "    <tr>\n",
       "      <th>144074</th>\n",
       "      <td>2</td>\n",
       "      <td>144074</td>\n",
       "      <td>2882.04</td>\n",
       "      <td>1674394107470</td>\n",
       "      <td>False</td>\n",
       "      <td>away</td>\n",
       "      <td>447080</td>\n",
       "      <td>1.08</td>\n",
       "      <td>[-11.49, 7.74, 0.0]</td>\n",
       "    </tr>\n",
       "    <tr>\n",
       "      <th>144074</th>\n",
       "      <td>2</td>\n",
       "      <td>144074</td>\n",
       "      <td>2882.04</td>\n",
       "      <td>1674394107470</td>\n",
       "      <td>False</td>\n",
       "      <td>away</td>\n",
       "      <td>96535</td>\n",
       "      <td>2.00</td>\n",
       "      <td>[-8.57, 21.25, 0.0]</td>\n",
       "    </tr>\n",
       "    <tr>\n",
       "      <th>144074</th>\n",
       "      <td>2</td>\n",
       "      <td>144074</td>\n",
       "      <td>2882.04</td>\n",
       "      <td>1674394107470</td>\n",
       "      <td>False</td>\n",
       "      <td>away</td>\n",
       "      <td>186043</td>\n",
       "      <td>5.21</td>\n",
       "      <td>[5.37, 28.37, 0.0]</td>\n",
       "    </tr>\n",
       "  </tbody>\n",
       "</table>\n",
       "<p>1584825 rows × 9 columns</p>\n",
       "</div>"
      ],
      "text/plain": [
       "        period  frameIdx  gameClock      wallClock   live lastTouch  optaId  \\\n",
       "0            1         0       0.00  1674387294150  False      home  246319   \n",
       "0            1         0       0.00  1674387294150  False      home  192194   \n",
       "0            1         0       0.00  1674387294150  False      home  174349   \n",
       "0            1         0       0.00  1674387294150  False      home   96385   \n",
       "0            1         0       0.00  1674387294150  False      home  459038   \n",
       "...        ...       ...        ...            ...    ...       ...     ...   \n",
       "144074       2    144074    2882.04  1674394107470  False      away  165677   \n",
       "144074       2    144074    2882.04  1674394107470  False      away  175128   \n",
       "144074       2    144074    2882.04  1674394107470  False      away  447080   \n",
       "144074       2    144074    2882.04  1674394107470  False      away   96535   \n",
       "144074       2    144074    2882.04  1674394107470  False      away  186043   \n",
       "\n",
       "        speed                  xyz  \n",
       "0        0.00  [16.93, 16.79, 0.0]  \n",
       "0        0.00   [13.61, 0.11, 0.0]  \n",
       "0        0.00   [3.04, 17.82, 0.0]  \n",
       "0        0.00   [6.94, -8.83, 0.0]  \n",
       "0        0.00    [5.21, 9.58, 0.0]  \n",
       "...       ...                  ...  \n",
       "144074   0.77   [-9.2, 14.65, 0.0]  \n",
       "144074   0.18    [2.95, 2.06, 0.0]  \n",
       "144074   1.08  [-11.49, 7.74, 0.0]  \n",
       "144074   2.00  [-8.57, 21.25, 0.0]  \n",
       "144074   5.21   [5.37, 28.37, 0.0]  \n",
       "\n",
       "[1584825 rows x 9 columns]"
      ]
     },
     "execution_count": 5,
     "metadata": {},
     "output_type": "execute_result"
    }
   ],
   "source": [
    "# Traitement de 1,5M de lignes en < 2s\n",
    "home_tracking = TeamTracking(df_unstructured_tracking=df_unstructured_tracking)\n",
    "home_tracking.df_tracking"
   ]
  },
  {
   "cell_type": "markdown",
   "metadata": {},
   "source": [
    "# Vitesse/Accelerations distances\n",
    "\n",
    "## Vitesse\n",
    "\n",
    "Pas besoin de la recalculer"
   ]
  },
  {
   "cell_type": "code",
   "execution_count": 56,
   "metadata": {
    "ExecuteTime": {
     "end_time": "2023-04-01T21:33:01.350287Z",
     "start_time": "2023-04-01T21:33:00.804676Z"
    }
   },
   "outputs": [],
   "source": [
    "df_home = HomeTracking.df_tracking\n",
    "df_home = df_home.sort_values(['optaId','period','gameClock'])\n",
    "\n",
    "dt=0.04"
   ]
  },
  {
   "cell_type": "code",
   "execution_count": 57,
   "metadata": {
    "ExecuteTime": {
     "end_time": "2023-04-01T21:33:03.374218Z",
     "start_time": "2023-04-01T21:33:03.132825Z"
    }
   },
   "outputs": [
    {
     "data": {
      "text/plain": [
       "array(['165677', '174349', '175128', '186022', '186043', '191726',\n",
       "       '192194', '242633', '246319', '447080', '459038', '463306',\n",
       "       '96385', '96535'], dtype=object)"
      ]
     },
     "execution_count": 57,
     "metadata": {},
     "output_type": "execute_result"
    }
   ],
   "source": [
    "df_home.optaId.unique()"
   ]
  },
  {
   "cell_type": "code",
   "execution_count": 58,
   "metadata": {
    "ExecuteTime": {
     "end_time": "2023-04-01T21:33:04.343089Z",
     "start_time": "2023-04-01T21:33:03.563522Z"
    }
   },
   "outputs": [],
   "source": [
    "df_home = df_home.set_index(['optaId','period', 'gameClock'])"
   ]
  },
  {
   "cell_type": "code",
   "execution_count": 59,
   "metadata": {
    "ExecuteTime": {
     "end_time": "2023-04-01T21:33:05.113019Z",
     "start_time": "2023-04-01T21:33:04.713384Z"
    }
   },
   "outputs": [
    {
     "data": {
      "text/plain": [
       "Text(0, 0.5, 'speed (m/s)')"
      ]
     },
     "execution_count": 59,
     "metadata": {},
     "output_type": "execute_result"
    },
    {
     "data": {
      "image/png": "[encoded data removed]",
      "text/plain": [
       "<Figure size 640x480 with 1 Axes>"
      ]
     },
     "metadata": {},
     "output_type": "display_data"
    }
   ],
   "source": [
    "df_home.loc['174349', 1]['speed'].plot(xlim=[0,30])\n",
    "plt.ylabel('speed (m/s)')"
   ]
  },
  {
   "cell_type": "code",
   "execution_count": 60,
   "metadata": {
    "ExecuteTime": {
     "end_time": "2023-04-01T21:33:06.950519Z",
     "start_time": "2023-04-01T21:33:06.922411Z"
    }
   },
   "outputs": [
    {
     "data": {
      "text/html": [
       "<div>\n",
       "<style scoped>\n",
       "    .dataframe tbody tr th:only-of-type {\n",
       "        vertical-align: middle;\n",
       "    }\n",
       "\n",
       "    .dataframe tbody tr th {\n",
       "        vertical-align: top;\n",
       "    }\n",
       "\n",
       "    .dataframe thead th {\n",
       "        text-align: right;\n",
       "    }\n",
       "</style>\n",
       "<table border=\"1\" class=\"dataframe\">\n",
       "  <thead>\n",
       "    <tr style=\"text-align: right;\">\n",
       "      <th></th>\n",
       "      <th></th>\n",
       "      <th></th>\n",
       "      <th>frameIdx</th>\n",
       "      <th>wallClock</th>\n",
       "      <th>live</th>\n",
       "      <th>lastTouch</th>\n",
       "      <th>speed</th>\n",
       "      <th>xyz</th>\n",
       "    </tr>\n",
       "    <tr>\n",
       "      <th>optaId</th>\n",
       "      <th>period</th>\n",
       "      <th>gameClock</th>\n",
       "      <th></th>\n",
       "      <th></th>\n",
       "      <th></th>\n",
       "      <th></th>\n",
       "      <th></th>\n",
       "      <th></th>\n",
       "    </tr>\n",
       "  </thead>\n",
       "  <tbody>\n",
       "    <tr>\n",
       "      <th rowspan=\"5\" valign=\"top\">165677</th>\n",
       "      <th rowspan=\"5\" valign=\"top\">1</th>\n",
       "      <th>0.00</th>\n",
       "      <td>0</td>\n",
       "      <td>1674387294150</td>\n",
       "      <td>False</td>\n",
       "      <td>home</td>\n",
       "      <td>0.00</td>\n",
       "      <td>[19.6, 5.35, 0.0]</td>\n",
       "    </tr>\n",
       "    <tr>\n",
       "      <th>0.04</th>\n",
       "      <td>1</td>\n",
       "      <td>1674387294190</td>\n",
       "      <td>True</td>\n",
       "      <td>away</td>\n",
       "      <td>0.00</td>\n",
       "      <td>[19.59, 5.35, 0.0]</td>\n",
       "    </tr>\n",
       "    <tr>\n",
       "      <th>0.08</th>\n",
       "      <td>2</td>\n",
       "      <td>1674387294230</td>\n",
       "      <td>True</td>\n",
       "      <td>away</td>\n",
       "      <td>0.10</td>\n",
       "      <td>[19.59, 5.35, 0.0]</td>\n",
       "    </tr>\n",
       "    <tr>\n",
       "      <th>0.12</th>\n",
       "      <td>3</td>\n",
       "      <td>1674387294270</td>\n",
       "      <td>True</td>\n",
       "      <td>away</td>\n",
       "      <td>0.12</td>\n",
       "      <td>[19.59, 5.35, 0.0]</td>\n",
       "    </tr>\n",
       "    <tr>\n",
       "      <th>0.16</th>\n",
       "      <td>4</td>\n",
       "      <td>1674387294310</td>\n",
       "      <td>True</td>\n",
       "      <td>away</td>\n",
       "      <td>0.20</td>\n",
       "      <td>[19.58, 5.35, 0.0]</td>\n",
       "    </tr>\n",
       "    <tr>\n",
       "      <th>...</th>\n",
       "      <th>...</th>\n",
       "      <th>...</th>\n",
       "      <td>...</td>\n",
       "      <td>...</td>\n",
       "      <td>...</td>\n",
       "      <td>...</td>\n",
       "      <td>...</td>\n",
       "      <td>...</td>\n",
       "    </tr>\n",
       "    <tr>\n",
       "      <th rowspan=\"5\" valign=\"top\">96535</th>\n",
       "      <th rowspan=\"5\" valign=\"top\">2</th>\n",
       "      <th>2881.88</th>\n",
       "      <td>144070</td>\n",
       "      <td>1674394107310</td>\n",
       "      <td>False</td>\n",
       "      <td>away</td>\n",
       "      <td>2.00</td>\n",
       "      <td>[-8.59, 20.93, 0.0]</td>\n",
       "    </tr>\n",
       "    <tr>\n",
       "      <th>2881.92</th>\n",
       "      <td>144071</td>\n",
       "      <td>1674394107350</td>\n",
       "      <td>False</td>\n",
       "      <td>away</td>\n",
       "      <td>2.00</td>\n",
       "      <td>[-8.59, 21.01, 0.0]</td>\n",
       "    </tr>\n",
       "    <tr>\n",
       "      <th>2881.96</th>\n",
       "      <td>144072</td>\n",
       "      <td>1674394107390</td>\n",
       "      <td>False</td>\n",
       "      <td>away</td>\n",
       "      <td>2.00</td>\n",
       "      <td>[-8.59, 21.09, 0.0]</td>\n",
       "    </tr>\n",
       "    <tr>\n",
       "      <th>2882.00</th>\n",
       "      <td>144073</td>\n",
       "      <td>1674394107430</td>\n",
       "      <td>False</td>\n",
       "      <td>away</td>\n",
       "      <td>2.00</td>\n",
       "      <td>[-8.58, 21.17, 0.0]</td>\n",
       "    </tr>\n",
       "    <tr>\n",
       "      <th>2882.04</th>\n",
       "      <td>144074</td>\n",
       "      <td>1674394107470</td>\n",
       "      <td>False</td>\n",
       "      <td>away</td>\n",
       "      <td>2.00</td>\n",
       "      <td>[-8.57, 21.25, 0.0]</td>\n",
       "    </tr>\n",
       "  </tbody>\n",
       "</table>\n",
       "<p>1584825 rows × 6 columns</p>\n",
       "</div>"
      ],
      "text/plain": [
       "                         frameIdx      wallClock   live lastTouch  speed  \\\n",
       "optaId period gameClock                                                    \n",
       "165677 1      0.00              0  1674387294150  False      home   0.00   \n",
       "              0.04              1  1674387294190   True      away   0.00   \n",
       "              0.08              2  1674387294230   True      away   0.10   \n",
       "              0.12              3  1674387294270   True      away   0.12   \n",
       "              0.16              4  1674387294310   True      away   0.20   \n",
       "...                           ...            ...    ...       ...    ...   \n",
       "96535  2      2881.88      144070  1674394107310  False      away   2.00   \n",
       "              2881.92      144071  1674394107350  False      away   2.00   \n",
       "              2881.96      144072  1674394107390  False      away   2.00   \n",
       "              2882.00      144073  1674394107430  False      away   2.00   \n",
       "              2882.04      144074  1674394107470  False      away   2.00   \n",
       "\n",
       "                                         xyz  \n",
       "optaId period gameClock                       \n",
       "165677 1      0.00         [19.6, 5.35, 0.0]  \n",
       "              0.04        [19.59, 5.35, 0.0]  \n",
       "              0.08        [19.59, 5.35, 0.0]  \n",
       "              0.12        [19.59, 5.35, 0.0]  \n",
       "              0.16        [19.58, 5.35, 0.0]  \n",
       "...                                      ...  \n",
       "96535  2      2881.88    [-8.59, 20.93, 0.0]  \n",
       "              2881.92    [-8.59, 21.01, 0.0]  \n",
       "              2881.96    [-8.59, 21.09, 0.0]  \n",
       "              2882.00    [-8.58, 21.17, 0.0]  \n",
       "              2882.04    [-8.57, 21.25, 0.0]  \n",
       "\n",
       "[1584825 rows x 6 columns]"
      ]
     },
     "execution_count": 60,
     "metadata": {},
     "output_type": "execute_result"
    }
   ],
   "source": [
    "df_home"
   ]
  },
  {
   "cell_type": "markdown",
   "metadata": {
    "ExecuteTime": {
     "end_time": "2023-04-01T21:06:22.137578Z",
     "start_time": "2023-04-01T21:06:22.127801Z"
    }
   },
   "source": [
    "It's very similar to what is described in https://soccermatics.readthedocs.io/en/latest/gallery/lesson8/plot_AccDecRatio.html. It is even smoother.\n",
    "\n",
    "## Distance"
   ]
  },
  {
   "cell_type": "code",
   "execution_count": 61,
   "metadata": {
    "ExecuteTime": {
     "end_time": "2023-04-01T21:33:20.319411Z",
     "start_time": "2023-04-01T21:33:19.974243Z"
    }
   },
   "outputs": [
    {
     "data": {
      "text/html": [
       "<div>\n",
       "<style scoped>\n",
       "    .dataframe tbody tr th:only-of-type {\n",
       "        vertical-align: middle;\n",
       "    }\n",
       "\n",
       "    .dataframe tbody tr th {\n",
       "        vertical-align: top;\n",
       "    }\n",
       "\n",
       "    .dataframe thead th {\n",
       "        text-align: right;\n",
       "    }\n",
       "</style>\n",
       "<table border=\"1\" class=\"dataframe\">\n",
       "  <thead>\n",
       "    <tr style=\"text-align: right;\">\n",
       "      <th></th>\n",
       "      <th>distance</th>\n",
       "    </tr>\n",
       "    <tr>\n",
       "      <th>optaId</th>\n",
       "      <th></th>\n",
       "    </tr>\n",
       "  </thead>\n",
       "  <tbody>\n",
       "    <tr>\n",
       "      <th>96385</th>\n",
       "      <td>11065.1646</td>\n",
       "    </tr>\n",
       "    <tr>\n",
       "      <th>192194</th>\n",
       "      <td>11053.7438</td>\n",
       "    </tr>\n",
       "    <tr>\n",
       "      <th>242633</th>\n",
       "      <td>10264.8838</td>\n",
       "    </tr>\n",
       "    <tr>\n",
       "      <th>463306</th>\n",
       "      <td>10220.6176</td>\n",
       "    </tr>\n",
       "    <tr>\n",
       "      <th>186043</th>\n",
       "      <td>9704.6166</td>\n",
       "    </tr>\n",
       "    <tr>\n",
       "      <th>165677</th>\n",
       "      <td>9572.9538</td>\n",
       "    </tr>\n",
       "    <tr>\n",
       "      <th>96535</th>\n",
       "      <td>9484.6808</td>\n",
       "    </tr>\n",
       "    <tr>\n",
       "      <th>174349</th>\n",
       "      <td>7708.9738</td>\n",
       "    </tr>\n",
       "    <tr>\n",
       "      <th>459038</th>\n",
       "      <td>7590.1518</td>\n",
       "    </tr>\n",
       "    <tr>\n",
       "      <th>447080</th>\n",
       "      <td>5434.5108</td>\n",
       "    </tr>\n",
       "    <tr>\n",
       "      <th>246319</th>\n",
       "      <td>4675.1186</td>\n",
       "    </tr>\n",
       "    <tr>\n",
       "      <th>186022</th>\n",
       "      <td>4668.3654</td>\n",
       "    </tr>\n",
       "    <tr>\n",
       "      <th>191726</th>\n",
       "      <td>3742.1196</td>\n",
       "    </tr>\n",
       "    <tr>\n",
       "      <th>175128</th>\n",
       "      <td>2358.3248</td>\n",
       "    </tr>\n",
       "  </tbody>\n",
       "</table>\n",
       "</div>"
      ],
      "text/plain": [
       "          distance\n",
       "optaId            \n",
       "96385   11065.1646\n",
       "192194  11053.7438\n",
       "242633  10264.8838\n",
       "463306  10220.6176\n",
       "186043   9704.6166\n",
       "165677   9572.9538\n",
       "96535    9484.6808\n",
       "174349   7708.9738\n",
       "459038   7590.1518\n",
       "447080   5434.5108\n",
       "246319   4675.1186\n",
       "186022   4668.3654\n",
       "191726   3742.1196\n",
       "175128   2358.3248"
      ]
     },
     "execution_count": 61,
     "metadata": {},
     "output_type": "execute_result"
    }
   ],
   "source": [
    "(df_home.reset_index()\n",
    " .groupby(['optaId'])[['speed']]\n",
    " .agg(lambda group: np.trapz(group, dx=dt))\n",
    " .rename(columns={'speed':'distance'})\n",
    " .sort_values('distance', ascending=False)\n",
    ")"
   ]
  },
  {
   "cell_type": "markdown",
   "metadata": {},
   "source": [
    "Encore une fois c'est très similaire avec le tuto. \n",
    "\n",
    "## Accelration"
   ]
  },
  {
   "cell_type": "code",
   "execution_count": 70,
   "metadata": {
    "ExecuteTime": {
     "end_time": "2023-04-01T21:42:24.848792Z",
     "start_time": "2023-04-01T21:42:24.759199Z"
    }
   },
   "outputs": [],
   "source": [
    "df_home['acceleration'] = (df_home\n",
    "                           .groupby(level=['optaId', 'period'], group_keys=False)['speed']\n",
    "                           .diff()/dt)"
   ]
  },
  {
   "cell_type": "code",
   "execution_count": 72,
   "metadata": {
    "ExecuteTime": {
     "end_time": "2023-04-01T21:42:55.731196Z",
     "start_time": "2023-04-01T21:42:55.558997Z"
    }
   },
   "outputs": [
    {
     "data": {
      "text/plain": [
       "<Axes: xlabel='gameClock'>"
      ]
     },
     "execution_count": 72,
     "metadata": {},
     "output_type": "execute_result"
    },
    {
     "data": {
      "image/png": "[encoded data removed]",
      "text/plain": [
       "<Figure size 640x480 with 1 Axes>"
      ]
     },
     "metadata": {},
     "output_type": "display_data"
    }
   ],
   "source": [
    "df_home.loc['174349', 1][['speed', 'acceleration']].plot(xlim=[0,30])\n"
   ]
  },
  {
   "cell_type": "code",
   "execution_count": null,
   "metadata": {},
   "outputs": [],
   "source": []
  }
 ],
 "metadata": {
  "kernelspec": {
   "display_name": "mancity_env",
   "language": "python",
   "name": "mancity_env"
  },
  "language_info": {
   "codemirror_mode": {
    "name": "ipython",
    "version": 3
   },
   "file_extension": ".py",
   "mimetype": "text/x-python",
   "name": "python",
   "nbconvert_exporter": "python",
   "pygments_lexer": "ipython3",
   "version": "3.10.6"
  },
  "toc": {
   "base_numbering": 1,
   "nav_menu": {},
   "number_sections": true,
   "sideBar": true,
   "skip_h1_title": false,
   "title_cell": "Table of Contents",
   "title_sidebar": "Contents",
   "toc_cell": false,
   "toc_position": {},
   "toc_section_display": true,
   "toc_window_display": false
  }
 },
 "nbformat": 4,
 "nbformat_minor": 2
}
