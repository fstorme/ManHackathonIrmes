{
 "cells": [
  {
   "cell_type": "code",
   "execution_count": 7,
   "metadata": {},
   "outputs": [],
   "source": [
    "import pandas as pd\n",
    "import json \n",
    "import os"
   ]
  },
  {
   "cell_type": "code",
   "execution_count": 8,
   "metadata": {},
   "outputs": [],
   "source": [
    "data_directory = '../data/StatsBomb'\n",
    "df_events = list()\n",
    "\n",
    "## Concaténation de tous les matchs \n",
    "for file in os.listdir(data_directory) :\n",
    "    # Sélection des données d'évènements\n",
    "    if 'events.json' in file : \n",
    "        match_events_path = os.path.join(data_directory, file)\n",
    "    else :\n",
    "        continue\n",
    "        # Lecture du json\n",
    "    with open(match_events_path) as json_file:\n",
    "        match_events = json.load(json_file)\n",
    "    # Ajout du dataframe obtenu\n",
    "    df_events.append(pd.read_json(match_events_path))\n",
    "df_events = pd.concat(df_events)"
   ]
  },
  {
   "cell_type": "code",
   "execution_count": null,
   "metadata": {},
   "outputs": [
    {
     "data": {
      "text/plain": [
       "Index(['id', 'index', 'period', 'timestamp', 'minute', 'second', 'type',\n",
       "       'possession', 'possession_team', 'play_pattern', 'obv_for_after',\n",
       "       'obv_for_before', 'obv_for_net', 'obv_against_after',\n",
       "       'obv_against_before', 'obv_against_net', 'obv_total_net', 'team',\n",
       "       'duration', 'tactics', 'related_events', 'player', 'position',\n",
       "       'location', 'pass', 'carry', 'ball_receipt', 'shot', 'goalkeeper',\n",
       "       'under_pressure', 'counterpress', 'ball_recovery', 'dribble', 'duel',\n",
       "       'out', 'clearance', 'off_camera', 'interception', 'foul_won',\n",
       "       'foul_committed', 'block', 'substitution', 'miscontrol',\n",
       "       'injury_stoppage', '50_50', 'bad_behaviour'],\n",
       "      dtype='object')"
      ]
     },
     "execution_count": 3,
     "metadata": {},
     "output_type": "execute_result"
    }
   ],
   "source": [
    "df_events.columns"
   ]
  },
  {
   "cell_type": "code",
   "execution_count": null,
   "metadata": {},
   "outputs": [],
   "source": [
    "# Regroupement des minutes\n",
    "cluster = 1\n",
    "df_events.loc[:, 'cluster_period'] = (45 // cluster + 1) * (df_events.period - 1) + df_events.minute // cluster"
   ]
  },
  {
   "cell_type": "code",
   "execution_count": null,
   "metadata": {},
   "outputs": [
    {
     "data": {
      "text/plain": [
       "<AxesSubplot:xlabel='cluster_period'>"
      ]
     },
     "execution_count": 5,
     "metadata": {},
     "output_type": "execute_result"
    },
    {
     "data": {
      "image/png": "[encoded data removed]",
      "text/plain": [
       "<Figure size 432x288 with 1 Axes>"
      ]
     },
     "metadata": {
      "needs_background": "light"
     },
     "output_type": "display_data"
    }
   ],
   "source": [
    "# Selection des données \n",
    "df_match_events_with_obv = df_events[~df_events.obv_for_net.isna()]\n",
    "df_match_events_with_obv = df_match_events_with_obv[df_match_events_with_obv.shot.isna()]\n",
    "df_match_events_with_obv = df_match_events_with_obv[df_match_events_with_obv.goalkeeper.isna()]\n",
    "\n",
    "df_match_events_with_obv.groupby('cluster_period').obv_for_net.sum().plot.bar()"
   ]
  },
  {
   "cell_type": "code",
   "execution_count": null,
   "metadata": {},
   "outputs": [
    {
     "data": {
      "text/plain": [
       "<AxesSubplot:xlabel='cluster_period'>"
      ]
     },
     "execution_count": 6,
     "metadata": {},
     "output_type": "execute_result"
    },
    {
     "data": {
      "image/png": "[encoded data removed]",
      "text/plain": [
       "<Figure size 432x288 with 1 Axes>"
      ]
     },
     "metadata": {
      "needs_background": "light"
     },
     "output_type": "display_data"
    }
   ],
   "source": [
    "df_events.groupby('cluster_period').id.count().plot.bar()"
   ]
  }
 ],
 "metadata": {
  "kernelspec": {
   "display_name": "Python 3",
   "language": "python",
   "name": "python3"
  },
  "language_info": {
   "codemirror_mode": {
    "name": "ipython",
    "version": 3
   },
   "file_extension": ".py",
   "mimetype": "text/x-python",
   "name": "python",
   "nbconvert_exporter": "python",
   "pygments_lexer": "ipython3",
   "version": "3.8.9"
  },
  "orig_nbformat": 4
 },
 "nbformat": 4,
 "nbformat_minor": 2
}
