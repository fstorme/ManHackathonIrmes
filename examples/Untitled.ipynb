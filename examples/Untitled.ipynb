{
 "cells": [
  {
   "cell_type": "code",
   "execution_count": 1,
   "id": "9ee7e74e",
   "metadata": {},
   "outputs": [],
   "source": [
    "import os\n",
    "import sys\n",
    "import numpy as np\n",
    "import pandas as pd \n",
    "from tqdm.notebook import tqdm\n",
    "import json\n",
    "\n",
    "\n",
    "sys.path.insert(0, '../')\n",
    "from scripts.tracking import TeamTracking "
   ]
  },
  {
   "cell_type": "code",
   "execution_count": 2,
   "id": "59b39c77",
   "metadata": {},
   "outputs": [],
   "source": [
    "data_directory = '../data/SecondSpectrum'\n",
    "file = 'g2312101_SecondSpectrum_tracking-produced.jsonl'\n",
    "match_tracking_path = os.path.join(data_directory, file)\n",
    "\n",
    "# < 20s\n",
    "df_unstructured_tracking = pd.read_json(\"../data/g2312201_SecondSpectrum_tracking-produced.jsonl\", lines = True)"
   ]
  },
  {
   "cell_type": "code",
   "execution_count": 6,
   "id": "3cdb4be9",
   "metadata": {},
   "outputs": [
    {
     "data": {
      "text/plain": [
       "[{'playerId': '02780bab-8db4-4310-ad80-308ae2fa0a86',\n",
       "  'number': 14,\n",
       "  'xyz': [16.91, 16.82, 0.0],\n",
       "  'speed': 0.0,\n",
       "  'optaId': '246319'},\n",
       " {'playerId': '0746befc-a701-4b33-8faf-b3cccccf17bb',\n",
       "  'number': 25,\n",
       "  'xyz': [13.6, 0.11, 0.0],\n",
       "  'speed': 0.0,\n",
       "  'optaId': '192194'},\n",
       " {'playerId': '08d71d20-85ad-4d98-8bc0-36b8e39e517a',\n",
       "  'number': 9,\n",
       "  'xyz': [3.04, 17.82, 0.0],\n",
       "  'speed': 0.0,\n",
       "  'optaId': '174349'},\n",
       " {'playerId': '1ab5dc11-1e32-4e6b-a385-5b736ec14763',\n",
       "  'number': 7,\n",
       "  'xyz': [6.94, -8.84, 0.0],\n",
       "  'speed': 0.0,\n",
       "  'optaId': '96385'},\n",
       " {'playerId': '1b3bd37a-8d98-4834-8d8f-072e2038e7c4',\n",
       "  'number': 10,\n",
       "  'xyz': [5.19, 9.57, 0.0],\n",
       "  'speed': 0.0,\n",
       "  'optaId': '459038'},\n",
       " {'playerId': '293704f8-5331-4d70-b691-c39a763f08f8',\n",
       "  'number': 15,\n",
       "  'xyz': [16.7, -20.45, 0.0],\n",
       "  'speed': 0.0,\n",
       "  'optaId': '242633'},\n",
       " {'playerId': '3706abe8-9aba-49c6-8a8f-4f4ef2a9be70',\n",
       "  'number': 1,\n",
       "  'xyz': [49.72, -0.04, 0.0],\n",
       "  'speed': 0.0,\n",
       "  'optaId': '186022'},\n",
       " {'playerId': '724f3280-015e-440e-b9b7-0598833e9c2d',\n",
       "  'number': 21,\n",
       "  'xyz': [0.54, -9.59, 0.0],\n",
       "  'speed': 0.0,\n",
       "  'optaId': '463306'},\n",
       " {'playerId': '7379ed0c-d52a-46af-a1f6-b6312fc9bfc1',\n",
       "  'number': 33,\n",
       "  'xyz': [19.59, 5.35, 0.0],\n",
       "  'speed': 0.0,\n",
       "  'optaId': '165677'},\n",
       " {'playerId': 'a5ec6d76-4788-4894-bea2-0a165d4a36ba',\n",
       "  'number': 5,\n",
       "  'xyz': [19.2, -7.03, 0.0],\n",
       "  'speed': 0.0,\n",
       "  'optaId': '96535'},\n",
       " {'playerId': 'db47bb9a-634f-4ef6-9cd0-d6daf74164d7',\n",
       "  'number': 11,\n",
       "  'xyz': [0.23, -18.38, 0.0],\n",
       "  'speed': 0.0,\n",
       "  'optaId': '186043'}]"
      ]
     },
     "execution_count": 6,
     "metadata": {},
     "output_type": "execute_result"
    }
   ],
   "source": [
    "df_unstructured_tracking.homePlayers[1]"
   ]
  }
 ],
 "metadata": {
  "kernelspec": {
   "display_name": "Python 3 (ipykernel)",
   "language": "python",
   "name": "python3"
  },
  "language_info": {
   "codemirror_mode": {
    "name": "ipython",
    "version": 3
   },
   "file_extension": ".py",
   "mimetype": "text/x-python",
   "name": "python",
   "nbconvert_exporter": "python",
   "pygments_lexer": "ipython3",
   "version": "3.10.8"
  }
 },
 "nbformat": 4,
 "nbformat_minor": 5
}
