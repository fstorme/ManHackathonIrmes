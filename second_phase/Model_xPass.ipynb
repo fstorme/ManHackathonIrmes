{
 "cells": [
  {
   "cell_type": "code",
   "execution_count": 11,
   "metadata": {},
   "outputs": [],
   "source": [
    "import pandas as pd\n",
    "import matplotlib.pyplot as plt\n",
    "from sklearn.model_selection import train_test_split\n",
    "from sklearn.linear_model import LogisticRegression\n",
    "import xgboost as xgb\n",
    "from sklearn.metrics import roc_auc_score, accuracy_score, confusion_matrix, mean_squared_error"
   ]
  },
  {
   "cell_type": "code",
   "execution_count": 12,
   "metadata": {},
   "outputs": [
    {
     "data": {
      "text/html": [
       "<div>\n",
       "<style scoped>\n",
       "    .dataframe tbody tr th:only-of-type {\n",
       "        vertical-align: middle;\n",
       "    }\n",
       "\n",
       "    .dataframe tbody tr th {\n",
       "        vertical-align: top;\n",
       "    }\n",
       "\n",
       "    .dataframe thead th {\n",
       "        text-align: right;\n",
       "    }\n",
       "</style>\n",
       "<table border=\"1\" class=\"dataframe\">\n",
       "  <thead>\n",
       "    <tr style=\"text-align: right;\">\n",
       "      <th></th>\n",
       "      <th>x_passer</th>\n",
       "      <th>y_passer</th>\n",
       "      <th>x_recipient</th>\n",
       "      <th>y_recipient</th>\n",
       "      <th>completed</th>\n",
       "      <th>distance_sideline</th>\n",
       "      <th>distance_goal</th>\n",
       "      <th>distance_opponent</th>\n",
       "      <th>speed_passer</th>\n",
       "      <th>opponents_closer_to_goal</th>\n",
       "      <th>distance_receiver_sideline</th>\n",
       "      <th>distance_receiver_goal</th>\n",
       "      <th>distance_receiver_opponent</th>\n",
       "      <th>opponents_closer_to_goal_receiver</th>\n",
       "      <th>speed_receiver</th>\n",
       "      <th>bypassed_opponents</th>\n",
       "      <th>angle</th>\n",
       "      <th>opponents_in_path</th>\n",
       "      <th>nearest_defender_pass_line</th>\n",
       "      <th>distance_pass</th>\n",
       "    </tr>\n",
       "  </thead>\n",
       "  <tbody>\n",
       "    <tr>\n",
       "      <th>0</th>\n",
       "      <td>0.468250</td>\n",
       "      <td>-0.456581</td>\n",
       "      <td>-12.585634</td>\n",
       "      <td>1.990224</td>\n",
       "      <td>1</td>\n",
       "      <td>33.710431</td>\n",
       "      <td>52.069843</td>\n",
       "      <td>9.802146</td>\n",
       "      <td>1.21</td>\n",
       "      <td>0</td>\n",
       "      <td>32.176787</td>\n",
       "      <td>65.152130</td>\n",
       "      <td>3.535869</td>\n",
       "      <td>3</td>\n",
       "      <td>0.67</td>\n",
       "      <td>0</td>\n",
       "      <td>169.383731</td>\n",
       "      <td>0</td>\n",
       "      <td>3.483472</td>\n",
       "      <td>13.281217</td>\n",
       "    </tr>\n",
       "    <tr>\n",
       "      <th>292</th>\n",
       "      <td>-2.489717</td>\n",
       "      <td>25.076820</td>\n",
       "      <td>10.655532</td>\n",
       "      <td>21.318809</td>\n",
       "      <td>1</td>\n",
       "      <td>9.090191</td>\n",
       "      <td>60.470542</td>\n",
       "      <td>23.249690</td>\n",
       "      <td>0.61</td>\n",
       "      <td>0</td>\n",
       "      <td>12.848202</td>\n",
       "      <td>46.994392</td>\n",
       "      <td>30.407668</td>\n",
       "      <td>0</td>\n",
       "      <td>1.08</td>\n",
       "      <td>0</td>\n",
       "      <td>-15.954363</td>\n",
       "      <td>0</td>\n",
       "      <td>14.887293</td>\n",
       "      <td>13.671877</td>\n",
       "    </tr>\n",
       "    <tr>\n",
       "      <th>291</th>\n",
       "      <td>12.437164</td>\n",
       "      <td>33.786976</td>\n",
       "      <td>-1.084968</td>\n",
       "      <td>24.339267</td>\n",
       "      <td>1</td>\n",
       "      <td>0.380035</td>\n",
       "      <td>52.435519</td>\n",
       "      <td>45.374308</td>\n",
       "      <td>1.50</td>\n",
       "      <td>0</td>\n",
       "      <td>9.827745</td>\n",
       "      <td>58.886483</td>\n",
       "      <td>29.110824</td>\n",
       "      <td>0</td>\n",
       "      <td>1.37</td>\n",
       "      <td>0</td>\n",
       "      <td>-145.058583</td>\n",
       "      <td>0</td>\n",
       "      <td>0.705311</td>\n",
       "      <td>16.495675</td>\n",
       "    </tr>\n",
       "    <tr>\n",
       "      <th>289</th>\n",
       "      <td>15.612125</td>\n",
       "      <td>26.633878</td>\n",
       "      <td>25.708041</td>\n",
       "      <td>34.103071</td>\n",
       "      <td>1</td>\n",
       "      <td>7.533134</td>\n",
       "      <td>45.527384</td>\n",
       "      <td>25.038551</td>\n",
       "      <td>5.68</td>\n",
       "      <td>0</td>\n",
       "      <td>0.063941</td>\n",
       "      <td>43.390825</td>\n",
       "      <td>37.597064</td>\n",
       "      <td>0</td>\n",
       "      <td>4.58</td>\n",
       "      <td>0</td>\n",
       "      <td>36.494893</td>\n",
       "      <td>0</td>\n",
       "      <td>0.029299</td>\n",
       "      <td>12.558518</td>\n",
       "    </tr>\n",
       "    <tr>\n",
       "      <th>288</th>\n",
       "      <td>-5.219269</td>\n",
       "      <td>5.420433</td>\n",
       "      <td>6.635439</td>\n",
       "      <td>14.973508</td>\n",
       "      <td>1</td>\n",
       "      <td>28.746578</td>\n",
       "      <td>58.009161</td>\n",
       "      <td>4.647574</td>\n",
       "      <td>0.40</td>\n",
       "      <td>3</td>\n",
       "      <td>19.193504</td>\n",
       "      <td>48.281216</td>\n",
       "      <td>8.051616</td>\n",
       "      <td>0</td>\n",
       "      <td>3.02</td>\n",
       "      <td>3</td>\n",
       "      <td>38.863482</td>\n",
       "      <td>0</td>\n",
       "      <td>2.663322</td>\n",
       "      <td>15.224826</td>\n",
       "    </tr>\n",
       "  </tbody>\n",
       "</table>\n",
       "</div>"
      ],
      "text/plain": [
       "      x_passer   y_passer  x_recipient  y_recipient  completed  \\\n",
       "0     0.468250  -0.456581   -12.585634     1.990224          1   \n",
       "292  -2.489717  25.076820    10.655532    21.318809          1   \n",
       "291  12.437164  33.786976    -1.084968    24.339267          1   \n",
       "289  15.612125  26.633878    25.708041    34.103071          1   \n",
       "288  -5.219269   5.420433     6.635439    14.973508          1   \n",
       "\n",
       "     distance_sideline  distance_goal  distance_opponent  speed_passer  \\\n",
       "0            33.710431      52.069843           9.802146          1.21   \n",
       "292           9.090191      60.470542          23.249690          0.61   \n",
       "291           0.380035      52.435519          45.374308          1.50   \n",
       "289           7.533134      45.527384          25.038551          5.68   \n",
       "288          28.746578      58.009161           4.647574          0.40   \n",
       "\n",
       "     opponents_closer_to_goal  distance_receiver_sideline  \\\n",
       "0                           0                   32.176787   \n",
       "292                         0                   12.848202   \n",
       "291                         0                    9.827745   \n",
       "289                         0                    0.063941   \n",
       "288                         3                   19.193504   \n",
       "\n",
       "     distance_receiver_goal  distance_receiver_opponent  \\\n",
       "0                 65.152130                    3.535869   \n",
       "292               46.994392                   30.407668   \n",
       "291               58.886483                   29.110824   \n",
       "289               43.390825                   37.597064   \n",
       "288               48.281216                    8.051616   \n",
       "\n",
       "     opponents_closer_to_goal_receiver  speed_receiver  bypassed_opponents  \\\n",
       "0                                    3            0.67                   0   \n",
       "292                                  0            1.08                   0   \n",
       "291                                  0            1.37                   0   \n",
       "289                                  0            4.58                   0   \n",
       "288                                  0            3.02                   3   \n",
       "\n",
       "          angle  opponents_in_path  nearest_defender_pass_line  distance_pass  \n",
       "0    169.383731                  0                    3.483472      13.281217  \n",
       "292  -15.954363                  0                   14.887293      13.671877  \n",
       "291 -145.058583                  0                    0.705311      16.495675  \n",
       "289   36.494893                  0                    0.029299      12.558518  \n",
       "288   38.863482                  0                    2.663322      15.224826  "
      ]
     },
     "execution_count": 12,
     "metadata": {},
     "output_type": "execute_result"
    }
   ],
   "source": [
    "df = pd.read_csv('pass_dataset.csv', index_col=0).drop(['period','gameClock','team.name','player.jersey_nb', 'pass.recipient.jersey_nb', 'coord_all_team', 'coord_all_adversary'], axis=1)\n",
    "df.head()"
   ]
  },
  {
   "cell_type": "code",
   "execution_count": 13,
   "metadata": {},
   "outputs": [],
   "source": [
    "# Extract feature and target arrays\n",
    "X, y = df.drop('completed', axis=1), df[['completed']]"
   ]
  },
  {
   "cell_type": "code",
   "execution_count": 14,
   "metadata": {},
   "outputs": [],
   "source": [
    "params = {'base_score': 0.5,\n",
    " 'booster': 'gbtree',\n",
    " 'gamma': 1,\n",
    " 'learning_rate': 0.1,\n",
    " 'n_estimators': 200,\n",
    " 'reg_alpha': 0.5,\n",
    " 'reg_lambda': 5}"
   ]
  },
  {
   "cell_type": "code",
   "execution_count": 15,
   "metadata": {},
   "outputs": [],
   "source": [
    "# Split the data\n",
    "X_train, X_test, y_train, y_test = train_test_split(X, y, random_state=3, train_size=2500)"
   ]
  },
  {
   "cell_type": "code",
   "execution_count": 16,
   "metadata": {},
   "outputs": [
    {
     "data": {
      "text/html": [
       "<style>#sk-container-id-1 {color: black;background-color: white;}#sk-container-id-1 pre{padding: 0;}#sk-container-id-1 div.sk-toggleable {background-color: white;}#sk-container-id-1 label.sk-toggleable__label {cursor: pointer;display: block;width: 100%;margin-bottom: 0;padding: 0.3em;box-sizing: border-box;text-align: center;}#sk-container-id-1 label.sk-toggleable__label-arrow:before {content: \"▸\";float: left;margin-right: 0.25em;color: #696969;}#sk-container-id-1 label.sk-toggleable__label-arrow:hover:before {color: black;}#sk-container-id-1 div.sk-estimator:hover label.sk-toggleable__label-arrow:before {color: black;}#sk-container-id-1 div.sk-toggleable__content {max-height: 0;max-width: 0;overflow: hidden;text-align: left;background-color: #f0f8ff;}#sk-container-id-1 div.sk-toggleable__content pre {margin: 0.2em;color: black;border-radius: 0.25em;background-color: #f0f8ff;}#sk-container-id-1 input.sk-toggleable__control:checked~div.sk-toggleable__content {max-height: 200px;max-width: 100%;overflow: auto;}#sk-container-id-1 input.sk-toggleable__control:checked~label.sk-toggleable__label-arrow:before {content: \"▾\";}#sk-container-id-1 div.sk-estimator input.sk-toggleable__control:checked~label.sk-toggleable__label {background-color: #d4ebff;}#sk-container-id-1 div.sk-label input.sk-toggleable__control:checked~label.sk-toggleable__label {background-color: #d4ebff;}#sk-container-id-1 input.sk-hidden--visually {border: 0;clip: rect(1px 1px 1px 1px);clip: rect(1px, 1px, 1px, 1px);height: 1px;margin: -1px;overflow: hidden;padding: 0;position: absolute;width: 1px;}#sk-container-id-1 div.sk-estimator {font-family: monospace;background-color: #f0f8ff;border: 1px dotted black;border-radius: 0.25em;box-sizing: border-box;margin-bottom: 0.5em;}#sk-container-id-1 div.sk-estimator:hover {background-color: #d4ebff;}#sk-container-id-1 div.sk-parallel-item::after {content: \"\";width: 100%;border-bottom: 1px solid gray;flex-grow: 1;}#sk-container-id-1 div.sk-label:hover label.sk-toggleable__label {background-color: #d4ebff;}#sk-container-id-1 div.sk-serial::before {content: \"\";position: absolute;border-left: 1px solid gray;box-sizing: border-box;top: 0;bottom: 0;left: 50%;z-index: 0;}#sk-container-id-1 div.sk-serial {display: flex;flex-direction: column;align-items: center;background-color: white;padding-right: 0.2em;padding-left: 0.2em;position: relative;}#sk-container-id-1 div.sk-item {position: relative;z-index: 1;}#sk-container-id-1 div.sk-parallel {display: flex;align-items: stretch;justify-content: center;background-color: white;position: relative;}#sk-container-id-1 div.sk-item::before, #sk-container-id-1 div.sk-parallel-item::before {content: \"\";position: absolute;border-left: 1px solid gray;box-sizing: border-box;top: 0;bottom: 0;left: 50%;z-index: -1;}#sk-container-id-1 div.sk-parallel-item {display: flex;flex-direction: column;z-index: 1;position: relative;background-color: white;}#sk-container-id-1 div.sk-parallel-item:first-child::after {align-self: flex-end;width: 50%;}#sk-container-id-1 div.sk-parallel-item:last-child::after {align-self: flex-start;width: 50%;}#sk-container-id-1 div.sk-parallel-item:only-child::after {width: 0;}#sk-container-id-1 div.sk-dashed-wrapped {border: 1px dashed gray;margin: 0 0.4em 0.5em 0.4em;box-sizing: border-box;padding-bottom: 0.4em;background-color: white;}#sk-container-id-1 div.sk-label label {font-family: monospace;font-weight: bold;display: inline-block;line-height: 1.2em;}#sk-container-id-1 div.sk-label-container {text-align: center;}#sk-container-id-1 div.sk-container {/* jupyter's `normalize.less` sets `[hidden] { display: none; }` but bootstrap.min.css set `[hidden] { display: none !important; }` so we also need the `!important` here to be able to override the default hidden behavior on the sphinx rendered scikit-learn.org. See: https://github.com/scikit-learn/scikit-learn/issues/21755 */display: inline-block !important;position: relative;}#sk-container-id-1 div.sk-text-repr-fallback {display: none;}</style><div id=\"sk-container-id-1\" class=\"sk-top-container\"><div class=\"sk-text-repr-fallback\"><pre>XGBClassifier(base_score=0.5, booster=&#x27;gbtree&#x27;, callbacks=None,\n",
       "              colsample_bylevel=1, colsample_bynode=1, colsample_bytree=1,\n",
       "              early_stopping_rounds=None, enable_categorical=False,\n",
       "              eval_metric=None, gamma=1, gpu_id=-1, grow_policy=&#x27;depthwise&#x27;,\n",
       "              importance_type=None, interaction_constraints=&#x27;&#x27;,\n",
       "              learning_rate=0.1, max_bin=256, max_cat_to_onehot=4,\n",
       "              max_delta_step=0, max_depth=6, max_leaves=0, min_child_weight=1,\n",
       "              missing=nan, monotone_constraints=&#x27;()&#x27;, n_estimators=200,\n",
       "              n_jobs=0, num_parallel_tree=1, predictor=&#x27;auto&#x27;, random_state=42,\n",
       "              reg_alpha=0.5, reg_lambda=5, ...)</pre><b>In a Jupyter environment, please rerun this cell to show the HTML representation or trust the notebook. <br />On GitHub, the HTML representation is unable to render, please try loading this page with nbviewer.org.</b></div><div class=\"sk-container\" hidden><div class=\"sk-item\"><div class=\"sk-estimator sk-toggleable\"><input class=\"sk-toggleable__control sk-hidden--visually\" id=\"sk-estimator-id-1\" type=\"checkbox\" checked><label for=\"sk-estimator-id-1\" class=\"sk-toggleable__label sk-toggleable__label-arrow\">XGBClassifier</label><div class=\"sk-toggleable__content\"><pre>XGBClassifier(base_score=0.5, booster=&#x27;gbtree&#x27;, callbacks=None,\n",
       "              colsample_bylevel=1, colsample_bynode=1, colsample_bytree=1,\n",
       "              early_stopping_rounds=None, enable_categorical=False,\n",
       "              eval_metric=None, gamma=1, gpu_id=-1, grow_policy=&#x27;depthwise&#x27;,\n",
       "              importance_type=None, interaction_constraints=&#x27;&#x27;,\n",
       "              learning_rate=0.1, max_bin=256, max_cat_to_onehot=4,\n",
       "              max_delta_step=0, max_depth=6, max_leaves=0, min_child_weight=1,\n",
       "              missing=nan, monotone_constraints=&#x27;()&#x27;, n_estimators=200,\n",
       "              n_jobs=0, num_parallel_tree=1, predictor=&#x27;auto&#x27;, random_state=42,\n",
       "              reg_alpha=0.5, reg_lambda=5, ...)</pre></div></div></div></div></div>"
      ],
      "text/plain": [
       "XGBClassifier(base_score=0.5, booster='gbtree', callbacks=None,\n",
       "              colsample_bylevel=1, colsample_bynode=1, colsample_bytree=1,\n",
       "              early_stopping_rounds=None, enable_categorical=False,\n",
       "              eval_metric=None, gamma=1, gpu_id=-1, grow_policy='depthwise',\n",
       "              importance_type=None, interaction_constraints='',\n",
       "              learning_rate=0.1, max_bin=256, max_cat_to_onehot=4,\n",
       "              max_delta_step=0, max_depth=6, max_leaves=0, min_child_weight=1,\n",
       "              missing=nan, monotone_constraints='()', n_estimators=200,\n",
       "              n_jobs=0, num_parallel_tree=1, predictor='auto', random_state=42,\n",
       "              reg_alpha=0.5, reg_lambda=5, ...)"
      ]
     },
     "execution_count": 16,
     "metadata": {},
     "output_type": "execute_result"
    }
   ],
   "source": [
    "xgb_model = xgb.XGBClassifier(**params, objective=\"binary:logistic\", random_state = 42, scale_pos_weight = 0.4)\n",
    "xgb_model.fit(X_train, y_train)"
   ]
  },
  {
   "cell_type": "code",
   "execution_count": 18,
   "metadata": {},
   "outputs": [
    {
     "data": {
      "text/html": [
       "<div>\n",
       "<style scoped>\n",
       "    .dataframe tbody tr th:only-of-type {\n",
       "        vertical-align: middle;\n",
       "    }\n",
       "\n",
       "    .dataframe tbody tr th {\n",
       "        vertical-align: top;\n",
       "    }\n",
       "\n",
       "    .dataframe thead th {\n",
       "        text-align: right;\n",
       "    }\n",
       "</style>\n",
       "<table border=\"1\" class=\"dataframe\">\n",
       "  <thead>\n",
       "    <tr style=\"text-align: right;\">\n",
       "      <th></th>\n",
       "      <th>feature</th>\n",
       "      <th>importance</th>\n",
       "    </tr>\n",
       "  </thead>\n",
       "  <tbody>\n",
       "    <tr>\n",
       "      <th>7</th>\n",
       "      <td>speed_passer</td>\n",
       "      <td>0.031440</td>\n",
       "    </tr>\n",
       "    <tr>\n",
       "      <th>4</th>\n",
       "      <td>distance_sideline</td>\n",
       "      <td>0.033171</td>\n",
       "    </tr>\n",
       "    <tr>\n",
       "      <th>1</th>\n",
       "      <td>y_passer</td>\n",
       "      <td>0.035615</td>\n",
       "    </tr>\n",
       "    <tr>\n",
       "      <th>6</th>\n",
       "      <td>distance_opponent</td>\n",
       "      <td>0.036088</td>\n",
       "    </tr>\n",
       "    <tr>\n",
       "      <th>3</th>\n",
       "      <td>y_recipient</td>\n",
       "      <td>0.037173</td>\n",
       "    </tr>\n",
       "    <tr>\n",
       "      <th>9</th>\n",
       "      <td>distance_receiver_sideline</td>\n",
       "      <td>0.038727</td>\n",
       "    </tr>\n",
       "    <tr>\n",
       "      <th>12</th>\n",
       "      <td>opponents_closer_to_goal_receiver</td>\n",
       "      <td>0.039327</td>\n",
       "    </tr>\n",
       "    <tr>\n",
       "      <th>11</th>\n",
       "      <td>distance_receiver_opponent</td>\n",
       "      <td>0.039345</td>\n",
       "    </tr>\n",
       "    <tr>\n",
       "      <th>17</th>\n",
       "      <td>nearest_defender_pass_line</td>\n",
       "      <td>0.041474</td>\n",
       "    </tr>\n",
       "    <tr>\n",
       "      <th>5</th>\n",
       "      <td>distance_goal</td>\n",
       "      <td>0.042757</td>\n",
       "    </tr>\n",
       "    <tr>\n",
       "      <th>16</th>\n",
       "      <td>opponents_in_path</td>\n",
       "      <td>0.043309</td>\n",
       "    </tr>\n",
       "    <tr>\n",
       "      <th>0</th>\n",
       "      <td>x_passer</td>\n",
       "      <td>0.050745</td>\n",
       "    </tr>\n",
       "    <tr>\n",
       "      <th>14</th>\n",
       "      <td>bypassed_opponents</td>\n",
       "      <td>0.057857</td>\n",
       "    </tr>\n",
       "    <tr>\n",
       "      <th>15</th>\n",
       "      <td>angle</td>\n",
       "      <td>0.059818</td>\n",
       "    </tr>\n",
       "    <tr>\n",
       "      <th>18</th>\n",
       "      <td>distance_pass</td>\n",
       "      <td>0.064895</td>\n",
       "    </tr>\n",
       "    <tr>\n",
       "      <th>2</th>\n",
       "      <td>x_recipient</td>\n",
       "      <td>0.078499</td>\n",
       "    </tr>\n",
       "    <tr>\n",
       "      <th>8</th>\n",
       "      <td>opponents_closer_to_goal</td>\n",
       "      <td>0.078693</td>\n",
       "    </tr>\n",
       "    <tr>\n",
       "      <th>10</th>\n",
       "      <td>distance_receiver_goal</td>\n",
       "      <td>0.091128</td>\n",
       "    </tr>\n",
       "    <tr>\n",
       "      <th>13</th>\n",
       "      <td>speed_receiver</td>\n",
       "      <td>0.099942</td>\n",
       "    </tr>\n",
       "  </tbody>\n",
       "</table>\n",
       "</div>"
      ],
      "text/plain": [
       "                              feature  importance\n",
       "7                        speed_passer    0.031440\n",
       "4                   distance_sideline    0.033171\n",
       "1                            y_passer    0.035615\n",
       "6                   distance_opponent    0.036088\n",
       "3                         y_recipient    0.037173\n",
       "9          distance_receiver_sideline    0.038727\n",
       "12  opponents_closer_to_goal_receiver    0.039327\n",
       "11         distance_receiver_opponent    0.039345\n",
       "17         nearest_defender_pass_line    0.041474\n",
       "5                       distance_goal    0.042757\n",
       "16                  opponents_in_path    0.043309\n",
       "0                            x_passer    0.050745\n",
       "14                 bypassed_opponents    0.057857\n",
       "15                              angle    0.059818\n",
       "18                      distance_pass    0.064895\n",
       "2                         x_recipient    0.078499\n",
       "8            opponents_closer_to_goal    0.078693\n",
       "10             distance_receiver_goal    0.091128\n",
       "13                     speed_receiver    0.099942"
      ]
     },
     "execution_count": 18,
     "metadata": {},
     "output_type": "execute_result"
    }
   ],
   "source": [
    "fi = pd.DataFrame(data = {'feature' : X_train.columns, 'importance' : xgb_model.feature_importances_})\n",
    "fi.sort_values('importance')"
   ]
  },
  {
   "cell_type": "code",
   "execution_count": 19,
   "metadata": {},
   "outputs": [
    {
     "name": "stdout",
     "output_type": "stream",
     "text": [
      "CF trainig\n",
      "[[ 243   47]\n",
      " [  54 2156]]\n"
     ]
    }
   ],
   "source": [
    "print('CF trainig')\n",
    "y_pred = xgb_model.predict(X_train)\n",
    "print(confusion_matrix(y_train, y_pred))"
   ]
  },
  {
   "cell_type": "code",
   "execution_count": 20,
   "metadata": {},
   "outputs": [
    {
     "name": "stdout",
     "output_type": "stream",
     "text": [
      "CF test\n",
      "[[ 31  55]\n",
      " [ 58 726]]\n"
     ]
    }
   ],
   "source": [
    "print('CF test')\n",
    "y_pred = xgb_model.predict(X_test)\n",
    "print(confusion_matrix(y_test, y_pred))"
   ]
  },
  {
   "cell_type": "code",
   "execution_count": 21,
   "metadata": {},
   "outputs": [
    {
     "data": {
      "text/plain": [
       "0.9859525667030739"
      ]
     },
     "execution_count": 21,
     "metadata": {},
     "output_type": "execute_result"
    }
   ],
   "source": [
    "y_pred = xgb_model.predict_proba(X_train)\n",
    "roc_auc_score(y_train,y_pred[:,1])"
   ]
  },
  {
   "cell_type": "code",
   "execution_count": 22,
   "metadata": {},
   "outputs": [
    {
     "data": {
      "text/plain": [
       "0.8056626720455624"
      ]
     },
     "execution_count": 22,
     "metadata": {},
     "output_type": "execute_result"
    }
   ],
   "source": [
    "y_pred = xgb_model.predict_proba(X_test)\n",
    "roc_auc_score(y_test,y_pred[:,1])"
   ]
  },
  {
   "cell_type": "code",
   "execution_count": 23,
   "metadata": {},
   "outputs": [
    {
     "data": {
      "image/png": "[encoded data removed]",
      "text/plain": [
       "<Figure size 640x480 with 1 Axes>"
      ]
     },
     "metadata": {},
     "output_type": "display_data"
    }
   ],
   "source": [
    "from sklearn.calibration import CalibratedClassifierCV, calibration_curve\n",
    "pos_frac, mean_val = calibration_curve(y_test,y_pred[:,1],n_bins=9)\n",
    "plt.plot(mean_val, pos_frac)\n",
    "plt.plot([0,1],[0,1])\n",
    "plt.xlabel('Predicted probability')\n",
    "plt.ylabel('Observed probability')\n",
    "plt.show()"
   ]
  },
  {
   "cell_type": "code",
   "execution_count": 24,
   "metadata": {},
   "outputs": [
    {
     "ename": "FileNotFoundError",
     "evalue": "[Errno 2] No such file or directory: 'astonvilla_comparison.xlsx'",
     "output_type": "error",
     "traceback": [
      "\u001b[0;31m---------------------------------------------------------------------------\u001b[0m",
      "\u001b[0;31mFileNotFoundError\u001b[0m                         Traceback (most recent call last)",
      "Cell \u001b[0;32mIn[24], line 1\u001b[0m\n\u001b[0;32m----> 1\u001b[0m df_comp \u001b[39m=\u001b[39m pd\u001b[39m.\u001b[39;49mread_excel(\u001b[39m'\u001b[39;49m\u001b[39mastonvilla_comparison.xlsx\u001b[39;49m\u001b[39m'\u001b[39;49m)\n\u001b[1;32m      2\u001b[0m X_comp \u001b[39m=\u001b[39m df_comp\u001b[39m.\u001b[39mdrop(columns \u001b[39m=\u001b[39m [\u001b[39m'\u001b[39m\u001b[39mperiod\u001b[39m\u001b[39m'\u001b[39m,\u001b[39m'\u001b[39m\u001b[39mgameClock\u001b[39m\u001b[39m'\u001b[39m,\u001b[39m'\u001b[39m\u001b[39mteam.name\u001b[39m\u001b[39m'\u001b[39m,\u001b[39m'\u001b[39m\u001b[39mplayer.jersey_nb\u001b[39m\u001b[39m'\u001b[39m,\u001b[39m'\u001b[39m\u001b[39mpass.recipient.jersey_nb\u001b[39m\u001b[39m'\u001b[39m,\u001b[39m'\u001b[39m\u001b[39mcoord_all_team\u001b[39m\u001b[39m'\u001b[39m,\u001b[39m'\u001b[39m\u001b[39mcoord_all_adversary\u001b[39m\u001b[39m'\u001b[39m,\u001b[39m'\u001b[39m\u001b[39mcompleted\u001b[39m\u001b[39m'\u001b[39m,\u001b[39m'\u001b[39m\u001b[39mUnnamed: 0\u001b[39m\u001b[39m'\u001b[39m,\u001b[39m'\u001b[39m\u001b[39mplayer.id\u001b[39m\u001b[39m'\u001b[39m,\u001b[39m'\u001b[39m\u001b[39mpass.recipient.id\u001b[39m\u001b[39m'\u001b[39m])\n\u001b[1;32m      3\u001b[0m df_comp[\u001b[39m'\u001b[39m\u001b[39mxPass\u001b[39m\u001b[39m'\u001b[39m] \u001b[39m=\u001b[39m xgb_model\u001b[39m.\u001b[39mpredict_proba(X_comp)[:,\u001b[39m1\u001b[39m]\n",
      "File \u001b[0;32m~/Library/Python/3.8/lib/python/site-packages/pandas/util/_decorators.py:211\u001b[0m, in \u001b[0;36mdeprecate_kwarg.<locals>._deprecate_kwarg.<locals>.wrapper\u001b[0;34m(*args, **kwargs)\u001b[0m\n\u001b[1;32m    209\u001b[0m     \u001b[39melse\u001b[39;00m:\n\u001b[1;32m    210\u001b[0m         kwargs[new_arg_name] \u001b[39m=\u001b[39m new_arg_value\n\u001b[0;32m--> 211\u001b[0m \u001b[39mreturn\u001b[39;00m func(\u001b[39m*\u001b[39;49margs, \u001b[39m*\u001b[39;49m\u001b[39m*\u001b[39;49mkwargs)\n",
      "File \u001b[0;32m~/Library/Python/3.8/lib/python/site-packages/pandas/util/_decorators.py:331\u001b[0m, in \u001b[0;36mdeprecate_nonkeyword_arguments.<locals>.decorate.<locals>.wrapper\u001b[0;34m(*args, **kwargs)\u001b[0m\n\u001b[1;32m    325\u001b[0m \u001b[39mif\u001b[39;00m \u001b[39mlen\u001b[39m(args) \u001b[39m>\u001b[39m num_allow_args:\n\u001b[1;32m    326\u001b[0m     warnings\u001b[39m.\u001b[39mwarn(\n\u001b[1;32m    327\u001b[0m         msg\u001b[39m.\u001b[39mformat(arguments\u001b[39m=\u001b[39m_format_argument_list(allow_args)),\n\u001b[1;32m    328\u001b[0m         \u001b[39mFutureWarning\u001b[39;00m,\n\u001b[1;32m    329\u001b[0m         stacklevel\u001b[39m=\u001b[39mfind_stack_level(),\n\u001b[1;32m    330\u001b[0m     )\n\u001b[0;32m--> 331\u001b[0m \u001b[39mreturn\u001b[39;00m func(\u001b[39m*\u001b[39;49margs, \u001b[39m*\u001b[39;49m\u001b[39m*\u001b[39;49mkwargs)\n",
      "File \u001b[0;32m~/Library/Python/3.8/lib/python/site-packages/pandas/io/excel/_base.py:482\u001b[0m, in \u001b[0;36mread_excel\u001b[0;34m(io, sheet_name, header, names, index_col, usecols, squeeze, dtype, engine, converters, true_values, false_values, skiprows, nrows, na_values, keep_default_na, na_filter, verbose, parse_dates, date_parser, thousands, decimal, comment, skipfooter, convert_float, mangle_dupe_cols, storage_options)\u001b[0m\n\u001b[1;32m    480\u001b[0m \u001b[39mif\u001b[39;00m \u001b[39mnot\u001b[39;00m \u001b[39misinstance\u001b[39m(io, ExcelFile):\n\u001b[1;32m    481\u001b[0m     should_close \u001b[39m=\u001b[39m \u001b[39mTrue\u001b[39;00m\n\u001b[0;32m--> 482\u001b[0m     io \u001b[39m=\u001b[39m ExcelFile(io, storage_options\u001b[39m=\u001b[39;49mstorage_options, engine\u001b[39m=\u001b[39;49mengine)\n\u001b[1;32m    483\u001b[0m \u001b[39melif\u001b[39;00m engine \u001b[39mand\u001b[39;00m engine \u001b[39m!=\u001b[39m io\u001b[39m.\u001b[39mengine:\n\u001b[1;32m    484\u001b[0m     \u001b[39mraise\u001b[39;00m \u001b[39mValueError\u001b[39;00m(\n\u001b[1;32m    485\u001b[0m         \u001b[39m\"\u001b[39m\u001b[39mEngine should not be specified when passing \u001b[39m\u001b[39m\"\u001b[39m\n\u001b[1;32m    486\u001b[0m         \u001b[39m\"\u001b[39m\u001b[39man ExcelFile - ExcelFile already has the engine set\u001b[39m\u001b[39m\"\u001b[39m\n\u001b[1;32m    487\u001b[0m     )\n",
      "File \u001b[0;32m~/Library/Python/3.8/lib/python/site-packages/pandas/io/excel/_base.py:1652\u001b[0m, in \u001b[0;36mExcelFile.__init__\u001b[0;34m(self, path_or_buffer, engine, storage_options)\u001b[0m\n\u001b[1;32m   1650\u001b[0m     ext \u001b[39m=\u001b[39m \u001b[39m\"\u001b[39m\u001b[39mxls\u001b[39m\u001b[39m\"\u001b[39m\n\u001b[1;32m   1651\u001b[0m \u001b[39melse\u001b[39;00m:\n\u001b[0;32m-> 1652\u001b[0m     ext \u001b[39m=\u001b[39m inspect_excel_format(\n\u001b[1;32m   1653\u001b[0m         content_or_path\u001b[39m=\u001b[39;49mpath_or_buffer, storage_options\u001b[39m=\u001b[39;49mstorage_options\n\u001b[1;32m   1654\u001b[0m     )\n\u001b[1;32m   1655\u001b[0m     \u001b[39mif\u001b[39;00m ext \u001b[39mis\u001b[39;00m \u001b[39mNone\u001b[39;00m:\n\u001b[1;32m   1656\u001b[0m         \u001b[39mraise\u001b[39;00m \u001b[39mValueError\u001b[39;00m(\n\u001b[1;32m   1657\u001b[0m             \u001b[39m\"\u001b[39m\u001b[39mExcel file format cannot be determined, you must specify \u001b[39m\u001b[39m\"\u001b[39m\n\u001b[1;32m   1658\u001b[0m             \u001b[39m\"\u001b[39m\u001b[39man engine manually.\u001b[39m\u001b[39m\"\u001b[39m\n\u001b[1;32m   1659\u001b[0m         )\n",
      "File \u001b[0;32m~/Library/Python/3.8/lib/python/site-packages/pandas/io/excel/_base.py:1525\u001b[0m, in \u001b[0;36minspect_excel_format\u001b[0;34m(content_or_path, storage_options)\u001b[0m\n\u001b[1;32m   1522\u001b[0m \u001b[39mif\u001b[39;00m \u001b[39misinstance\u001b[39m(content_or_path, \u001b[39mbytes\u001b[39m):\n\u001b[1;32m   1523\u001b[0m     content_or_path \u001b[39m=\u001b[39m BytesIO(content_or_path)\n\u001b[0;32m-> 1525\u001b[0m \u001b[39mwith\u001b[39;00m get_handle(\n\u001b[1;32m   1526\u001b[0m     content_or_path, \u001b[39m\"\u001b[39;49m\u001b[39mrb\u001b[39;49m\u001b[39m\"\u001b[39;49m, storage_options\u001b[39m=\u001b[39;49mstorage_options, is_text\u001b[39m=\u001b[39;49m\u001b[39mFalse\u001b[39;49;00m\n\u001b[1;32m   1527\u001b[0m ) \u001b[39mas\u001b[39;00m handle:\n\u001b[1;32m   1528\u001b[0m     stream \u001b[39m=\u001b[39m handle\u001b[39m.\u001b[39mhandle\n\u001b[1;32m   1529\u001b[0m     stream\u001b[39m.\u001b[39mseek(\u001b[39m0\u001b[39m)\n",
      "File \u001b[0;32m~/Library/Python/3.8/lib/python/site-packages/pandas/io/common.py:865\u001b[0m, in \u001b[0;36mget_handle\u001b[0;34m(path_or_buf, mode, encoding, compression, memory_map, is_text, errors, storage_options)\u001b[0m\n\u001b[1;32m    856\u001b[0m         handle \u001b[39m=\u001b[39m \u001b[39mopen\u001b[39m(\n\u001b[1;32m    857\u001b[0m             handle,\n\u001b[1;32m    858\u001b[0m             ioargs\u001b[39m.\u001b[39mmode,\n\u001b[0;32m   (...)\u001b[0m\n\u001b[1;32m    861\u001b[0m             newline\u001b[39m=\u001b[39m\u001b[39m\"\u001b[39m\u001b[39m\"\u001b[39m,\n\u001b[1;32m    862\u001b[0m         )\n\u001b[1;32m    863\u001b[0m     \u001b[39melse\u001b[39;00m:\n\u001b[1;32m    864\u001b[0m         \u001b[39m# Binary mode\u001b[39;00m\n\u001b[0;32m--> 865\u001b[0m         handle \u001b[39m=\u001b[39m \u001b[39mopen\u001b[39;49m(handle, ioargs\u001b[39m.\u001b[39;49mmode)\n\u001b[1;32m    866\u001b[0m     handles\u001b[39m.\u001b[39mappend(handle)\n\u001b[1;32m    868\u001b[0m \u001b[39m# Convert BytesIO or file objects passed with an encoding\u001b[39;00m\n",
      "\u001b[0;31mFileNotFoundError\u001b[0m: [Errno 2] No such file or directory: 'astonvilla_comparison.xlsx'"
     ]
    }
   ],
   "source": [
    "df_comp = pd.read_excel('astonvilla_comparison.xlsx')\n",
    "X_comp = df_comp.drop(columns = ['period','gameClock','team.name','player.jersey_nb','pass.recipient.jersey_nb','coord_all_team','coord_all_adversary','completed','Unnamed: 0','player.id','pass.recipient.id'])\n",
    "df_comp['xPass'] = xgb_model.predict_proba(X_comp)[:,1]\n",
    "df_comp['xPass'] *=1.05\n",
    "df_comp = df_comp.drop(columns=['Unnamed: 0'])\n",
    "df_comp = df_comp.sort_values(['period','gameClock'])\n",
    "df_comp_2 = pd.concat([df_comp[df_comp['period']==1], df_comp[(df_comp['gameClock']<=15*60) & (df_comp['period']==2)]])\n",
    "# df_comp_2 = df_comp_2[df_comp_2['gameClock']<=15*60]\n",
    "df_comp_2['pass_nb'] = 1\n",
    "df_grouped = df_comp_2[['player.id','xPass','completed','pass_nb']].groupby('player.id').sum()\n",
    "df_grouped['xPass_mean'] = df_grouped['xPass']/df_grouped['pass_nb']\n",
    "df_grouped['perf'] = df_grouped['completed']-df_grouped['xPass']\n",
    "df_grouped"
   ]
  },
  {
   "cell_type": "code",
   "execution_count": null,
   "metadata": {},
   "outputs": [
    {
     "data": {
      "application/vnd.plotly.v1+json": {
       "config": {
        "plotlyServerURL": "https://plot.ly"
       },
       "data": [
        {
         "marker": {
          "color": "rgba(235, 254, 83, 1)"
         },
         "orientation": "h",
         "type": "bar",
         "x": [
          0.5822486877441406
         ],
         "y": [
          0
         ]
        }
       ],
       "layout": {
        "autosize": true,
        "height": 100,
        "margin": {
         "b": 20,
         "l": 20,
         "r": 20,
         "t": 20
        },
        "paper_bgcolor": "rgba(31, 29, 43, 1)",
        "plot_bgcolor": "rgba(31, 29, 43, 1)",
        "shapes": [
         {
          "layer": "below",
          "line": {
           "color": "rgba(105, 207, 249, 1)"
          },
          "type": "rect",
          "x0": -2,
          "x1": 2,
          "y0": 0.42,
          "y1": -0.42
         },
         {
          "line": {
           "color": "white",
           "width": 3
          },
          "type": "line",
          "x0": 0,
          "x1": 0,
          "xref": "x",
          "y0": 0.5,
          "y1": -0.5,
          "yref": "y"
         }
        ],
        "showlegend": false,
        "template": {
         "data": {
          "bar": [
           {
            "error_x": {
             "color": "#2a3f5f"
            },
            "error_y": {
             "color": "#2a3f5f"
            },
            "marker": {
             "line": {
              "color": "#E5ECF6",
              "width": 0.5
             },
             "pattern": {
              "fillmode": "overlay",
              "size": 10,
              "solidity": 0.2
             }
            },
            "type": "bar"
           }
          ],
          "barpolar": [
           {
            "marker": {
             "line": {
              "color": "#E5ECF6",
              "width": 0.5
             },
             "pattern": {
              "fillmode": "overlay",
              "size": 10,
              "solidity": 0.2
             }
            },
            "type": "barpolar"
           }
          ],
          "carpet": [
           {
            "aaxis": {
             "endlinecolor": "#2a3f5f",
             "gridcolor": "white",
             "linecolor": "white",
             "minorgridcolor": "white",
             "startlinecolor": "#2a3f5f"
            },
            "baxis": {
             "endlinecolor": "#2a3f5f",
             "gridcolor": "white",
             "linecolor": "white",
             "minorgridcolor": "white",
             "startlinecolor": "#2a3f5f"
            },
            "type": "carpet"
           }
          ],
          "choropleth": [
           {
            "colorbar": {
             "outlinewidth": 0,
             "ticks": ""
            },
            "type": "choropleth"
           }
          ],
          "contour": [
           {
            "colorbar": {
             "outlinewidth": 0,
             "ticks": ""
            },
            "colorscale": [
             [
              0,
              "#0d0887"
             ],
             [
              0.1111111111111111,
              "#46039f"
             ],
             [
              0.2222222222222222,
              "#7201a8"
             ],
             [
              0.3333333333333333,
              "#9c179e"
             ],
             [
              0.4444444444444444,
              "#bd3786"
             ],
             [
              0.5555555555555556,
              "#d8576b"
             ],
             [
              0.6666666666666666,
              "#ed7953"
             ],
             [
              0.7777777777777778,
              "#fb9f3a"
             ],
             [
              0.8888888888888888,
              "#fdca26"
             ],
             [
              1,
              "#f0f921"
             ]
            ],
            "type": "contour"
           }
          ],
          "contourcarpet": [
           {
            "colorbar": {
             "outlinewidth": 0,
             "ticks": ""
            },
            "type": "contourcarpet"
           }
          ],
          "heatmap": [
           {
            "colorbar": {
             "outlinewidth": 0,
             "ticks": ""
            },
            "colorscale": [
             [
              0,
              "#0d0887"
             ],
             [
              0.1111111111111111,
              "#46039f"
             ],
             [
              0.2222222222222222,
              "#7201a8"
             ],
             [
              0.3333333333333333,
              "#9c179e"
             ],
             [
              0.4444444444444444,
              "#bd3786"
             ],
             [
              0.5555555555555556,
              "#d8576b"
             ],
             [
              0.6666666666666666,
              "#ed7953"
             ],
             [
              0.7777777777777778,
              "#fb9f3a"
             ],
             [
              0.8888888888888888,
              "#fdca26"
             ],
             [
              1,
              "#f0f921"
             ]
            ],
            "type": "heatmap"
           }
          ],
          "heatmapgl": [
           {
            "colorbar": {
             "outlinewidth": 0,
             "ticks": ""
            },
            "colorscale": [
             [
              0,
              "#0d0887"
             ],
             [
              0.1111111111111111,
              "#46039f"
             ],
             [
              0.2222222222222222,
              "#7201a8"
             ],
             [
              0.3333333333333333,
              "#9c179e"
             ],
             [
              0.4444444444444444,
              "#bd3786"
             ],
             [
              0.5555555555555556,
              "#d8576b"
             ],
             [
              0.6666666666666666,
              "#ed7953"
             ],
             [
              0.7777777777777778,
              "#fb9f3a"
             ],
             [
              0.8888888888888888,
              "#fdca26"
             ],
             [
              1,
              "#f0f921"
             ]
            ],
            "type": "heatmapgl"
           }
          ],
          "histogram": [
           {
            "marker": {
             "pattern": {
              "fillmode": "overlay",
              "size": 10,
              "solidity": 0.2
             }
            },
            "type": "histogram"
           }
          ],
          "histogram2d": [
           {
            "colorbar": {
             "outlinewidth": 0,
             "ticks": ""
            },
            "colorscale": [
             [
              0,
              "#0d0887"
             ],
             [
              0.1111111111111111,
              "#46039f"
             ],
             [
              0.2222222222222222,
              "#7201a8"
             ],
             [
              0.3333333333333333,
              "#9c179e"
             ],
             [
              0.4444444444444444,
              "#bd3786"
             ],
             [
              0.5555555555555556,
              "#d8576b"
             ],
             [
              0.6666666666666666,
              "#ed7953"
             ],
             [
              0.7777777777777778,
              "#fb9f3a"
             ],
             [
              0.8888888888888888,
              "#fdca26"
             ],
             [
              1,
              "#f0f921"
             ]
            ],
            "type": "histogram2d"
           }
          ],
          "histogram2dcontour": [
           {
            "colorbar": {
             "outlinewidth": 0,
             "ticks": ""
            },
            "colorscale": [
             [
              0,
              "#0d0887"
             ],
             [
              0.1111111111111111,
              "#46039f"
             ],
             [
              0.2222222222222222,
              "#7201a8"
             ],
             [
              0.3333333333333333,
              "#9c179e"
             ],
             [
              0.4444444444444444,
              "#bd3786"
             ],
             [
              0.5555555555555556,
              "#d8576b"
             ],
             [
              0.6666666666666666,
              "#ed7953"
             ],
             [
              0.7777777777777778,
              "#fb9f3a"
             ],
             [
              0.8888888888888888,
              "#fdca26"
             ],
             [
              1,
              "#f0f921"
             ]
            ],
            "type": "histogram2dcontour"
           }
          ],
          "mesh3d": [
           {
            "colorbar": {
             "outlinewidth": 0,
             "ticks": ""
            },
            "type": "mesh3d"
           }
          ],
          "parcoords": [
           {
            "line": {
             "colorbar": {
              "outlinewidth": 0,
              "ticks": ""
             }
            },
            "type": "parcoords"
           }
          ],
          "pie": [
           {
            "automargin": true,
            "type": "pie"
           }
          ],
          "scatter": [
           {
            "marker": {
             "colorbar": {
              "outlinewidth": 0,
              "ticks": ""
             }
            },
            "type": "scatter"
           }
          ],
          "scatter3d": [
           {
            "line": {
             "colorbar": {
              "outlinewidth": 0,
              "ticks": ""
             }
            },
            "marker": {
             "colorbar": {
              "outlinewidth": 0,
              "ticks": ""
             }
            },
            "type": "scatter3d"
           }
          ],
          "scattercarpet": [
           {
            "marker": {
             "colorbar": {
              "outlinewidth": 0,
              "ticks": ""
             }
            },
            "type": "scattercarpet"
           }
          ],
          "scattergeo": [
           {
            "marker": {
             "colorbar": {
              "outlinewidth": 0,
              "ticks": ""
             }
            },
            "type": "scattergeo"
           }
          ],
          "scattergl": [
           {
            "marker": {
             "colorbar": {
              "outlinewidth": 0,
              "ticks": ""
             }
            },
            "type": "scattergl"
           }
          ],
          "scattermapbox": [
           {
            "marker": {
             "colorbar": {
              "outlinewidth": 0,
              "ticks": ""
             }
            },
            "type": "scattermapbox"
           }
          ],
          "scatterpolar": [
           {
            "marker": {
             "colorbar": {
              "outlinewidth": 0,
              "ticks": ""
             }
            },
            "type": "scatterpolar"
           }
          ],
          "scatterpolargl": [
           {
            "marker": {
             "colorbar": {
              "outlinewidth": 0,
              "ticks": ""
             }
            },
            "type": "scatterpolargl"
           }
          ],
          "scatterternary": [
           {
            "marker": {
             "colorbar": {
              "outlinewidth": 0,
              "ticks": ""
             }
            },
            "type": "scatterternary"
           }
          ],
          "surface": [
           {
            "colorbar": {
             "outlinewidth": 0,
             "ticks": ""
            },
            "colorscale": [
             [
              0,
              "#0d0887"
             ],
             [
              0.1111111111111111,
              "#46039f"
             ],
             [
              0.2222222222222222,
              "#7201a8"
             ],
             [
              0.3333333333333333,
              "#9c179e"
             ],
             [
              0.4444444444444444,
              "#bd3786"
             ],
             [
              0.5555555555555556,
              "#d8576b"
             ],
             [
              0.6666666666666666,
              "#ed7953"
             ],
             [
              0.7777777777777778,
              "#fb9f3a"
             ],
             [
              0.8888888888888888,
              "#fdca26"
             ],
             [
              1,
              "#f0f921"
             ]
            ],
            "type": "surface"
           }
          ],
          "table": [
           {
            "cells": {
             "fill": {
              "color": "#EBF0F8"
             },
             "line": {
              "color": "white"
             }
            },
            "header": {
             "fill": {
              "color": "#C8D4E3"
             },
             "line": {
              "color": "white"
             }
            },
            "type": "table"
           }
          ]
         },
         "layout": {
          "annotationdefaults": {
           "arrowcolor": "#2a3f5f",
           "arrowhead": 0,
           "arrowwidth": 1
          },
          "autotypenumbers": "strict",
          "coloraxis": {
           "colorbar": {
            "outlinewidth": 0,
            "ticks": ""
           }
          },
          "colorscale": {
           "diverging": [
            [
             0,
             "#8e0152"
            ],
            [
             0.1,
             "#c51b7d"
            ],
            [
             0.2,
             "#de77ae"
            ],
            [
             0.3,
             "#f1b6da"
            ],
            [
             0.4,
             "#fde0ef"
            ],
            [
             0.5,
             "#f7f7f7"
            ],
            [
             0.6,
             "#e6f5d0"
            ],
            [
             0.7,
             "#b8e186"
            ],
            [
             0.8,
             "#7fbc41"
            ],
            [
             0.9,
             "#4d9221"
            ],
            [
             1,
             "#276419"
            ]
           ],
           "sequential": [
            [
             0,
             "#0d0887"
            ],
            [
             0.1111111111111111,
             "#46039f"
            ],
            [
             0.2222222222222222,
             "#7201a8"
            ],
            [
             0.3333333333333333,
             "#9c179e"
            ],
            [
             0.4444444444444444,
             "#bd3786"
            ],
            [
             0.5555555555555556,
             "#d8576b"
            ],
            [
             0.6666666666666666,
             "#ed7953"
            ],
            [
             0.7777777777777778,
             "#fb9f3a"
            ],
            [
             0.8888888888888888,
             "#fdca26"
            ],
            [
             1,
             "#f0f921"
            ]
           ],
           "sequentialminus": [
            [
             0,
             "#0d0887"
            ],
            [
             0.1111111111111111,
             "#46039f"
            ],
            [
             0.2222222222222222,
             "#7201a8"
            ],
            [
             0.3333333333333333,
             "#9c179e"
            ],
            [
             0.4444444444444444,
             "#bd3786"
            ],
            [
             0.5555555555555556,
             "#d8576b"
            ],
            [
             0.6666666666666666,
             "#ed7953"
            ],
            [
             0.7777777777777778,
             "#fb9f3a"
            ],
            [
             0.8888888888888888,
             "#fdca26"
            ],
            [
             1,
             "#f0f921"
            ]
           ]
          },
          "colorway": [
           "#636efa",
           "#EF553B",
           "#00cc96",
           "#ab63fa",
           "#FFA15A",
           "#19d3f3",
           "#FF6692",
           "#B6E880",
           "#FF97FF",
           "#FECB52"
          ],
          "font": {
           "color": "#2a3f5f"
          },
          "geo": {
           "bgcolor": "white",
           "lakecolor": "white",
           "landcolor": "#E5ECF6",
           "showlakes": true,
           "showland": true,
           "subunitcolor": "white"
          },
          "hoverlabel": {
           "align": "left"
          },
          "hovermode": "closest",
          "mapbox": {
           "style": "light"
          },
          "paper_bgcolor": "white",
          "plot_bgcolor": "#E5ECF6",
          "polar": {
           "angularaxis": {
            "gridcolor": "white",
            "linecolor": "white",
            "ticks": ""
           },
           "bgcolor": "#E5ECF6",
           "radialaxis": {
            "gridcolor": "white",
            "linecolor": "white",
            "ticks": ""
           }
          },
          "scene": {
           "xaxis": {
            "backgroundcolor": "#E5ECF6",
            "gridcolor": "white",
            "gridwidth": 2,
            "linecolor": "white",
            "showbackground": true,
            "ticks": "",
            "zerolinecolor": "white"
           },
           "yaxis": {
            "backgroundcolor": "#E5ECF6",
            "gridcolor": "white",
            "gridwidth": 2,
            "linecolor": "white",
            "showbackground": true,
            "ticks": "",
            "zerolinecolor": "white"
           },
           "zaxis": {
            "backgroundcolor": "#E5ECF6",
            "gridcolor": "white",
            "gridwidth": 2,
            "linecolor": "white",
            "showbackground": true,
            "ticks": "",
            "zerolinecolor": "white"
           }
          },
          "shapedefaults": {
           "line": {
            "color": "#2a3f5f"
           }
          },
          "ternary": {
           "aaxis": {
            "gridcolor": "white",
            "linecolor": "white",
            "ticks": ""
           },
           "baxis": {
            "gridcolor": "white",
            "linecolor": "white",
            "ticks": ""
           },
           "bgcolor": "#E5ECF6",
           "caxis": {
            "gridcolor": "white",
            "linecolor": "white",
            "ticks": ""
           }
          },
          "title": {
           "x": 0.05
          },
          "xaxis": {
           "automargin": true,
           "gridcolor": "white",
           "linecolor": "white",
           "ticks": "",
           "title": {
            "standoff": 15
           },
           "zerolinecolor": "white",
           "zerolinewidth": 2
          },
          "yaxis": {
           "automargin": true,
           "gridcolor": "white",
           "linecolor": "white",
           "ticks": "",
           "title": {
            "standoff": 15
           },
           "zerolinecolor": "white",
           "zerolinewidth": 2
          }
         }
        },
        "width": 500,
        "xaxis": {
         "showgrid": false,
         "visible": false,
         "zeroline": false
        },
        "yaxis": {
         "showgrid": false,
         "visible": false,
         "zeroline": false
        }
       }
      }
     },
     "metadata": {},
     "output_type": "display_data"
    }
   ],
   "source": [
    "import plotly.graph_objects as go\n",
    "\n",
    "player = df_grouped.iloc[-2]\n",
    "\n",
    "def plot_Over_xPass(player):\n",
    "    color = 'red' if player.perf < 0 else 'green'\n",
    "    fig = go.Figure(data=[\n",
    "        go.Bar(\n",
    "            x=[player.perf], \n",
    "            y=[0],\n",
    "            orientation='h',\n",
    "            marker=dict(\n",
    "                color='rgba(235, 254, 83, 1)'\n",
    "                ),\n",
    "        )\n",
    "    ])\n",
    "\n",
    "    fig.add_shape(type=\"rect\",\n",
    "        x0=-2, y0=0.42, x1=2, y1=-0.42,\n",
    "        line=dict(color='rgba(105, 207, 249, 1)'),\n",
    "        # fillcolor = 'rgba(105, 207, 249, 1)',\n",
    "        layer = 'below'\n",
    "    )\n",
    "\n",
    "    fig.add_shape(type=\"line\",\n",
    "        xref=\"x\", yref=\"y\",\n",
    "        x0=0, y0=0.5, x1=0, y1=-0.5,\n",
    "        line=dict(\n",
    "            color=\"white\",\n",
    "            width=3,\n",
    "        ),\n",
    "    )\n",
    "\n",
    "    fig.update_layout(\n",
    "        showlegend=False,\n",
    "        autosize=True,\n",
    "        margin=dict(l=20, r=20, t=20, b=20),\n",
    "        width=500,\n",
    "        height=100,\n",
    "        plot_bgcolor = 'rgba(31, 29, 43, 1)' ,\n",
    "        paper_bgcolor = 'rgba(31, 29, 43, 1)' \n",
    "        )\n",
    "\n",
    "    fig.update_xaxes(showgrid=False, zeroline = False, visible = False)\n",
    "    fig.update_yaxes(showgrid=False, zeroline = False, visible = False)\n",
    "\n",
    "    return fig\n",
    "\n",
    "plot_Over_xPass(player)"
   ]
  },
  {
   "cell_type": "code",
   "execution_count": null,
   "metadata": {},
   "outputs": [
    {
     "data": {
      "text/html": [
       "<div>\n",
       "<style scoped>\n",
       "    .dataframe tbody tr th:only-of-type {\n",
       "        vertical-align: middle;\n",
       "    }\n",
       "\n",
       "    .dataframe tbody tr th {\n",
       "        vertical-align: top;\n",
       "    }\n",
       "\n",
       "    .dataframe thead th {\n",
       "        text-align: right;\n",
       "    }\n",
       "</style>\n",
       "<table border=\"1\" class=\"dataframe\">\n",
       "  <thead>\n",
       "    <tr style=\"text-align: right;\">\n",
       "      <th></th>\n",
       "      <th>x_passer</th>\n",
       "      <th>y_passer</th>\n",
       "      <th>x_recipient</th>\n",
       "      <th>y_recipient</th>\n",
       "      <th>distance_sideline</th>\n",
       "      <th>distance_goal</th>\n",
       "      <th>distance_opponent</th>\n",
       "      <th>speed_passer</th>\n",
       "      <th>opponents_closer_to_goal</th>\n",
       "      <th>distance_receiver_sideline</th>\n",
       "      <th>distance_receiver_goal</th>\n",
       "      <th>distance_receiver_opponent</th>\n",
       "      <th>opponents_closer_to_goal_receiver</th>\n",
       "      <th>speed_receiver</th>\n",
       "      <th>bypassed_opponents</th>\n",
       "      <th>angle</th>\n",
       "      <th>opponents_in_path</th>\n",
       "      <th>nearest_defender_pass_line</th>\n",
       "      <th>distance_pass</th>\n",
       "    </tr>\n",
       "  </thead>\n",
       "  <tbody>\n",
       "    <tr>\n",
       "      <th>0</th>\n",
       "      <td>6.92</td>\n",
       "      <td>-30.75</td>\n",
       "      <td>-0.31</td>\n",
       "      <td>-16.73</td>\n",
       "      <td>3.349804</td>\n",
       "      <td>55.147930</td>\n",
       "      <td>1.568694</td>\n",
       "      <td>3.73</td>\n",
       "      <td>7</td>\n",
       "      <td>17.369804</td>\n",
       "      <td>55.586546</td>\n",
       "      <td>7.227704</td>\n",
       "      <td>7</td>\n",
       "      <td>1.20</td>\n",
       "      <td>0</td>\n",
       "      <td>117.279790</td>\n",
       "      <td>3</td>\n",
       "      <td>0.216172</td>\n",
       "      <td>15.774451</td>\n",
       "    </tr>\n",
       "    <tr>\n",
       "      <th>1</th>\n",
       "      <td>-2.96</td>\n",
       "      <td>5.12</td>\n",
       "      <td>-14.87</td>\n",
       "      <td>-25.61</td>\n",
       "      <td>28.979804</td>\n",
       "      <td>55.894156</td>\n",
       "      <td>3.604234</td>\n",
       "      <td>2.80</td>\n",
       "      <td>1</td>\n",
       "      <td>8.489804</td>\n",
       "      <td>72.259696</td>\n",
       "      <td>11.783463</td>\n",
       "      <td>9</td>\n",
       "      <td>2.12</td>\n",
       "      <td>0</td>\n",
       "      <td>-111.184794</td>\n",
       "      <td>2</td>\n",
       "      <td>2.922725</td>\n",
       "      <td>32.957260</td>\n",
       "    </tr>\n",
       "    <tr>\n",
       "      <th>2</th>\n",
       "      <td>5.82</td>\n",
       "      <td>-26.05</td>\n",
       "      <td>13.32</td>\n",
       "      <td>-25.67</td>\n",
       "      <td>8.049804</td>\n",
       "      <td>53.630759</td>\n",
       "      <td>0.330000</td>\n",
       "      <td>0.59</td>\n",
       "      <td>8</td>\n",
       "      <td>8.429804</td>\n",
       "      <td>47.007098</td>\n",
       "      <td>2.510080</td>\n",
       "      <td>6</td>\n",
       "      <td>4.40</td>\n",
       "      <td>2</td>\n",
       "      <td>2.900506</td>\n",
       "      <td>1</td>\n",
       "      <td>0.016699</td>\n",
       "      <td>7.509620</td>\n",
       "    </tr>\n",
       "    <tr>\n",
       "      <th>3</th>\n",
       "      <td>13.82</td>\n",
       "      <td>-28.52</td>\n",
       "      <td>5.74</td>\n",
       "      <td>-25.19</td>\n",
       "      <td>5.579804</td>\n",
       "      <td>48.218042</td>\n",
       "      <td>2.822942</td>\n",
       "      <td>2.24</td>\n",
       "      <td>6</td>\n",
       "      <td>8.909804</td>\n",
       "      <td>53.288826</td>\n",
       "      <td>0.408167</td>\n",
       "      <td>8</td>\n",
       "      <td>0.70</td>\n",
       "      <td>0</td>\n",
       "      <td>157.602035</td>\n",
       "      <td>1</td>\n",
       "      <td>0.327521</td>\n",
       "      <td>8.739296</td>\n",
       "    </tr>\n",
       "    <tr>\n",
       "      <th>4</th>\n",
       "      <td>-8.15</td>\n",
       "      <td>15.82</td>\n",
       "      <td>-19.96</td>\n",
       "      <td>11.83</td>\n",
       "      <td>18.279804</td>\n",
       "      <td>62.872036</td>\n",
       "      <td>3.075142</td>\n",
       "      <td>1.10</td>\n",
       "      <td>4</td>\n",
       "      <td>22.269804</td>\n",
       "      <td>73.615913</td>\n",
       "      <td>3.203951</td>\n",
       "      <td>7</td>\n",
       "      <td>3.80</td>\n",
       "      <td>0</td>\n",
       "      <td>-161.332497</td>\n",
       "      <td>2</td>\n",
       "      <td>0.135170</td>\n",
       "      <td>12.465801</td>\n",
       "    </tr>\n",
       "    <tr>\n",
       "      <th>...</th>\n",
       "      <td>...</td>\n",
       "      <td>...</td>\n",
       "      <td>...</td>\n",
       "      <td>...</td>\n",
       "      <td>...</td>\n",
       "      <td>...</td>\n",
       "      <td>...</td>\n",
       "      <td>...</td>\n",
       "      <td>...</td>\n",
       "      <td>...</td>\n",
       "      <td>...</td>\n",
       "      <td>...</td>\n",
       "      <td>...</td>\n",
       "      <td>...</td>\n",
       "      <td>...</td>\n",
       "      <td>...</td>\n",
       "      <td>...</td>\n",
       "      <td>...</td>\n",
       "      <td>...</td>\n",
       "    </tr>\n",
       "    <tr>\n",
       "      <th>402</th>\n",
       "      <td>2.97</td>\n",
       "      <td>-4.57</td>\n",
       "      <td>5.90</td>\n",
       "      <td>22.25</td>\n",
       "      <td>29.529804</td>\n",
       "      <td>49.938706</td>\n",
       "      <td>7.947893</td>\n",
       "      <td>3.11</td>\n",
       "      <td>1</td>\n",
       "      <td>11.849804</td>\n",
       "      <td>51.819147</td>\n",
       "      <td>17.965603</td>\n",
       "      <td>1</td>\n",
       "      <td>3.41</td>\n",
       "      <td>1</td>\n",
       "      <td>83.765343</td>\n",
       "      <td>1</td>\n",
       "      <td>0.248747</td>\n",
       "      <td>26.979572</td>\n",
       "    </tr>\n",
       "    <tr>\n",
       "      <th>403</th>\n",
       "      <td>-6.76</td>\n",
       "      <td>-4.09</td>\n",
       "      <td>-4.26</td>\n",
       "      <td>0.53</td>\n",
       "      <td>30.009804</td>\n",
       "      <td>59.599664</td>\n",
       "      <td>0.772787</td>\n",
       "      <td>0.97</td>\n",
       "      <td>2</td>\n",
       "      <td>33.569804</td>\n",
       "      <td>56.961627</td>\n",
       "      <td>2.453120</td>\n",
       "      <td>1</td>\n",
       "      <td>4.57</td>\n",
       "      <td>1</td>\n",
       "      <td>61.581048</td>\n",
       "      <td>2</td>\n",
       "      <td>0.238567</td>\n",
       "      <td>5.253037</td>\n",
       "    </tr>\n",
       "    <tr>\n",
       "      <th>404</th>\n",
       "      <td>-8.95</td>\n",
       "      <td>3.94</td>\n",
       "      <td>8.29</td>\n",
       "      <td>4.90</td>\n",
       "      <td>30.159804</td>\n",
       "      <td>61.774936</td>\n",
       "      <td>0.486004</td>\n",
       "      <td>2.68</td>\n",
       "      <td>3</td>\n",
       "      <td>29.199804</td>\n",
       "      <td>44.678671</td>\n",
       "      <td>5.202125</td>\n",
       "      <td>0</td>\n",
       "      <td>0.68</td>\n",
       "      <td>4</td>\n",
       "      <td>3.187193</td>\n",
       "      <td>2</td>\n",
       "      <td>0.267868</td>\n",
       "      <td>17.266708</td>\n",
       "    </tr>\n",
       "    <tr>\n",
       "      <th>405</th>\n",
       "      <td>18.75</td>\n",
       "      <td>-20.94</td>\n",
       "      <td>6.33</td>\n",
       "      <td>8.58</td>\n",
       "      <td>13.159804</td>\n",
       "      <td>39.887707</td>\n",
       "      <td>1.094806</td>\n",
       "      <td>2.30</td>\n",
       "      <td>0</td>\n",
       "      <td>25.519804</td>\n",
       "      <td>47.156288</td>\n",
       "      <td>1.612514</td>\n",
       "      <td>3</td>\n",
       "      <td>3.68</td>\n",
       "      <td>0</td>\n",
       "      <td>112.818034</td>\n",
       "      <td>3</td>\n",
       "      <td>0.306367</td>\n",
       "      <td>32.026345</td>\n",
       "    </tr>\n",
       "    <tr>\n",
       "      <th>406</th>\n",
       "      <td>-0.27</td>\n",
       "      <td>23.07</td>\n",
       "      <td>12.06</td>\n",
       "      <td>-24.82</td>\n",
       "      <td>11.029804</td>\n",
       "      <td>57.775055</td>\n",
       "      <td>3.023789</td>\n",
       "      <td>3.08</td>\n",
       "      <td>1</td>\n",
       "      <td>9.279804</td>\n",
       "      <td>47.619049</td>\n",
       "      <td>29.982291</td>\n",
       "      <td>1</td>\n",
       "      <td>3.17</td>\n",
       "      <td>1</td>\n",
       "      <td>-75.561914</td>\n",
       "      <td>1</td>\n",
       "      <td>2.293710</td>\n",
       "      <td>49.451805</td>\n",
       "    </tr>\n",
       "  </tbody>\n",
       "</table>\n",
       "<p>407 rows × 19 columns</p>\n",
       "</div>"
      ],
      "text/plain": [
       "     x_passer  y_passer  x_recipient  y_recipient  distance_sideline  \\\n",
       "0        6.92    -30.75        -0.31       -16.73           3.349804   \n",
       "1       -2.96      5.12       -14.87       -25.61          28.979804   \n",
       "2        5.82    -26.05        13.32       -25.67           8.049804   \n",
       "3       13.82    -28.52         5.74       -25.19           5.579804   \n",
       "4       -8.15     15.82       -19.96        11.83          18.279804   \n",
       "..        ...       ...          ...          ...                ...   \n",
       "402      2.97     -4.57         5.90        22.25          29.529804   \n",
       "403     -6.76     -4.09        -4.26         0.53          30.009804   \n",
       "404     -8.95      3.94         8.29         4.90          30.159804   \n",
       "405     18.75    -20.94         6.33         8.58          13.159804   \n",
       "406     -0.27     23.07        12.06       -24.82          11.029804   \n",
       "\n",
       "     distance_goal  distance_opponent  speed_passer  opponents_closer_to_goal  \\\n",
       "0        55.147930           1.568694          3.73                         7   \n",
       "1        55.894156           3.604234          2.80                         1   \n",
       "2        53.630759           0.330000          0.59                         8   \n",
       "3        48.218042           2.822942          2.24                         6   \n",
       "4        62.872036           3.075142          1.10                         4   \n",
       "..             ...                ...           ...                       ...   \n",
       "402      49.938706           7.947893          3.11                         1   \n",
       "403      59.599664           0.772787          0.97                         2   \n",
       "404      61.774936           0.486004          2.68                         3   \n",
       "405      39.887707           1.094806          2.30                         0   \n",
       "406      57.775055           3.023789          3.08                         1   \n",
       "\n",
       "     distance_receiver_sideline  distance_receiver_goal  \\\n",
       "0                     17.369804               55.586546   \n",
       "1                      8.489804               72.259696   \n",
       "2                      8.429804               47.007098   \n",
       "3                      8.909804               53.288826   \n",
       "4                     22.269804               73.615913   \n",
       "..                          ...                     ...   \n",
       "402                   11.849804               51.819147   \n",
       "403                   33.569804               56.961627   \n",
       "404                   29.199804               44.678671   \n",
       "405                   25.519804               47.156288   \n",
       "406                    9.279804               47.619049   \n",
       "\n",
       "     distance_receiver_opponent  opponents_closer_to_goal_receiver  \\\n",
       "0                      7.227704                                  7   \n",
       "1                     11.783463                                  9   \n",
       "2                      2.510080                                  6   \n",
       "3                      0.408167                                  8   \n",
       "4                      3.203951                                  7   \n",
       "..                          ...                                ...   \n",
       "402                   17.965603                                  1   \n",
       "403                    2.453120                                  1   \n",
       "404                    5.202125                                  0   \n",
       "405                    1.612514                                  3   \n",
       "406                   29.982291                                  1   \n",
       "\n",
       "     speed_receiver  bypassed_opponents       angle  opponents_in_path  \\\n",
       "0              1.20                   0  117.279790                  3   \n",
       "1              2.12                   0 -111.184794                  2   \n",
       "2              4.40                   2    2.900506                  1   \n",
       "3              0.70                   0  157.602035                  1   \n",
       "4              3.80                   0 -161.332497                  2   \n",
       "..              ...                 ...         ...                ...   \n",
       "402            3.41                   1   83.765343                  1   \n",
       "403            4.57                   1   61.581048                  2   \n",
       "404            0.68                   4    3.187193                  2   \n",
       "405            3.68                   0  112.818034                  3   \n",
       "406            3.17                   1  -75.561914                  1   \n",
       "\n",
       "     nearest_defender_pass_line  distance_pass  \n",
       "0                      0.216172      15.774451  \n",
       "1                      2.922725      32.957260  \n",
       "2                      0.016699       7.509620  \n",
       "3                      0.327521       8.739296  \n",
       "4                      0.135170      12.465801  \n",
       "..                          ...            ...  \n",
       "402                    0.248747      26.979572  \n",
       "403                    0.238567       5.253037  \n",
       "404                    0.267868      17.266708  \n",
       "405                    0.306367      32.026345  \n",
       "406                    2.293710      49.451805  \n",
       "\n",
       "[407 rows x 19 columns]"
      ]
     },
     "execution_count": 596,
     "metadata": {},
     "output_type": "execute_result"
    }
   ],
   "source": [
    "X_comp"
   ]
  },
  {
   "cell_type": "code",
   "execution_count": null,
   "metadata": {},
   "outputs": [],
   "source": [
    "df_avl = pd.read_pickle('Passes_Manchester_vs_AVL.pkl')"
   ]
  },
  {
   "cell_type": "code",
   "execution_count": null,
   "metadata": {},
   "outputs": [
    {
     "data": {
      "text/html": [
       "<div>\n",
       "<style scoped>\n",
       "    .dataframe tbody tr th:only-of-type {\n",
       "        vertical-align: middle;\n",
       "    }\n",
       "\n",
       "    .dataframe tbody tr th {\n",
       "        vertical-align: top;\n",
       "    }\n",
       "\n",
       "    .dataframe thead th {\n",
       "        text-align: right;\n",
       "    }\n",
       "</style>\n",
       "<table border=\"1\" class=\"dataframe\">\n",
       "  <thead>\n",
       "    <tr style=\"text-align: right;\">\n",
       "      <th></th>\n",
       "      <th>x_passer</th>\n",
       "      <th>y_passer</th>\n",
       "      <th>x_recipient</th>\n",
       "      <th>y_recipient</th>\n",
       "      <th>distance_sideline</th>\n",
       "      <th>distance_goal</th>\n",
       "      <th>distance_opponent</th>\n",
       "      <th>speed_passer</th>\n",
       "      <th>opponents_closer_to_goal</th>\n",
       "      <th>distance_receiver_sideline</th>\n",
       "      <th>distance_receiver_goal</th>\n",
       "      <th>distance_receiver_opponent</th>\n",
       "      <th>opponents_closer_to_goal_receiver</th>\n",
       "      <th>speed_receiver</th>\n",
       "      <th>bypassed_opponents</th>\n",
       "      <th>angle</th>\n",
       "      <th>opponents_in_path</th>\n",
       "      <th>nearest_defender_pass_line</th>\n",
       "      <th>distance_pass</th>\n",
       "    </tr>\n",
       "  </thead>\n",
       "  <tbody>\n",
       "    <tr>\n",
       "      <th>0</th>\n",
       "      <td>0.41</td>\n",
       "      <td>-0.39</td>\n",
       "      <td>-11.02</td>\n",
       "      <td>1.70</td>\n",
       "      <td>33.777011</td>\n",
       "      <td>52.127550</td>\n",
       "      <td>9.208914</td>\n",
       "      <td>1.21</td>\n",
       "      <td>10</td>\n",
       "      <td>32.467011</td>\n",
       "      <td>63.578823</td>\n",
       "      <td>12.561676</td>\n",
       "      <td>11</td>\n",
       "      <td>0.67</td>\n",
       "      <td>0</td>\n",
       "      <td>169.637818</td>\n",
       "      <td>0</td>\n",
       "      <td>2.358155</td>\n",
       "      <td>11.619509</td>\n",
       "    </tr>\n",
       "    <tr>\n",
       "      <th>1</th>\n",
       "      <td>-2.18</td>\n",
       "      <td>21.42</td>\n",
       "      <td>9.33</td>\n",
       "      <td>18.21</td>\n",
       "      <td>12.747011</td>\n",
       "      <td>58.759399</td>\n",
       "      <td>7.627273</td>\n",
       "      <td>0.61</td>\n",
       "      <td>11</td>\n",
       "      <td>15.957011</td>\n",
       "      <td>46.886783</td>\n",
       "      <td>5.297141</td>\n",
       "      <td>9</td>\n",
       "      <td>1.08</td>\n",
       "      <td>1</td>\n",
       "      <td>-15.583144</td>\n",
       "      <td>1</td>\n",
       "      <td>0.028496</td>\n",
       "      <td>11.949234</td>\n",
       "    </tr>\n",
       "    <tr>\n",
       "      <th>2</th>\n",
       "      <td>10.89</td>\n",
       "      <td>28.86</td>\n",
       "      <td>-0.95</td>\n",
       "      <td>20.79</td>\n",
       "      <td>5.307011</td>\n",
       "      <td>50.668496</td>\n",
       "      <td>3.939975</td>\n",
       "      <td>1.50</td>\n",
       "      <td>11</td>\n",
       "      <td>13.377011</td>\n",
       "      <td>57.384545</td>\n",
       "      <td>12.844150</td>\n",
       "      <td>11</td>\n",
       "      <td>1.37</td>\n",
       "      <td>0</td>\n",
       "      <td>-145.722133</td>\n",
       "      <td>0</td>\n",
       "      <td>3.434173</td>\n",
       "      <td>14.328660</td>\n",
       "    </tr>\n",
       "    <tr>\n",
       "      <th>3</th>\n",
       "      <td>25.18</td>\n",
       "      <td>29.32</td>\n",
       "      <td>11.20</td>\n",
       "      <td>29.33</td>\n",
       "      <td>4.847011</td>\n",
       "      <td>40.100101</td>\n",
       "      <td>1.167090</td>\n",
       "      <td>1.07</td>\n",
       "      <td>10</td>\n",
       "      <td>4.837011</td>\n",
       "      <td>50.684527</td>\n",
       "      <td>13.070275</td>\n",
       "      <td>11</td>\n",
       "      <td>0.86</td>\n",
       "      <td>0</td>\n",
       "      <td>179.959016</td>\n",
       "      <td>1</td>\n",
       "      <td>1.139821</td>\n",
       "      <td>13.980004</td>\n",
       "    </tr>\n",
       "    <tr>\n",
       "      <th>4</th>\n",
       "      <td>13.67</td>\n",
       "      <td>22.75</td>\n",
       "      <td>22.51</td>\n",
       "      <td>29.13</td>\n",
       "      <td>11.417011</td>\n",
       "      <td>45.034826</td>\n",
       "      <td>3.316022</td>\n",
       "      <td>5.68</td>\n",
       "      <td>8</td>\n",
       "      <td>5.037011</td>\n",
       "      <td>41.834472</td>\n",
       "      <td>5.276381</td>\n",
       "      <td>7</td>\n",
       "      <td>4.58</td>\n",
       "      <td>4</td>\n",
       "      <td>35.818717</td>\n",
       "      <td>1</td>\n",
       "      <td>1.562856</td>\n",
       "      <td>10.901835</td>\n",
       "    </tr>\n",
       "    <tr>\n",
       "      <th>...</th>\n",
       "      <td>...</td>\n",
       "      <td>...</td>\n",
       "      <td>...</td>\n",
       "      <td>...</td>\n",
       "      <td>...</td>\n",
       "      <td>...</td>\n",
       "      <td>...</td>\n",
       "      <td>...</td>\n",
       "      <td>...</td>\n",
       "      <td>...</td>\n",
       "      <td>...</td>\n",
       "      <td>...</td>\n",
       "      <td>...</td>\n",
       "      <td>...</td>\n",
       "      <td>...</td>\n",
       "      <td>...</td>\n",
       "      <td>...</td>\n",
       "      <td>...</td>\n",
       "      <td>...</td>\n",
       "    </tr>\n",
       "    <tr>\n",
       "      <th>5067</th>\n",
       "      <td>3.01</td>\n",
       "      <td>-7.35</td>\n",
       "      <td>0.38</td>\n",
       "      <td>-15.85</td>\n",
       "      <td>26.738680</td>\n",
       "      <td>49.871191</td>\n",
       "      <td>2.252288</td>\n",
       "      <td>1.76</td>\n",
       "      <td>7</td>\n",
       "      <td>18.238680</td>\n",
       "      <td>54.320443</td>\n",
       "      <td>9.458166</td>\n",
       "      <td>8</td>\n",
       "      <td>1.72</td>\n",
       "      <td>0</td>\n",
       "      <td>-107.192683</td>\n",
       "      <td>0</td>\n",
       "      <td>2.233124</td>\n",
       "      <td>8.897578</td>\n",
       "    </tr>\n",
       "    <tr>\n",
       "      <th>5068</th>\n",
       "      <td>4.30</td>\n",
       "      <td>-17.69</td>\n",
       "      <td>14.95</td>\n",
       "      <td>-30.87</td>\n",
       "      <td>16.398680</td>\n",
       "      <td>51.190339</td>\n",
       "      <td>4.959395</td>\n",
       "      <td>2.96</td>\n",
       "      <td>8</td>\n",
       "      <td>3.218680</td>\n",
       "      <td>48.484168</td>\n",
       "      <td>8.790523</td>\n",
       "      <td>8</td>\n",
       "      <td>3.56</td>\n",
       "      <td>2</td>\n",
       "      <td>-51.060316</td>\n",
       "      <td>1</td>\n",
       "      <td>3.568510</td>\n",
       "      <td>16.945055</td>\n",
       "    </tr>\n",
       "    <tr>\n",
       "      <th>5069</th>\n",
       "      <td>26.45</td>\n",
       "      <td>-26.65</td>\n",
       "      <td>29.70</td>\n",
       "      <td>-30.27</td>\n",
       "      <td>7.438680</td>\n",
       "      <td>37.152906</td>\n",
       "      <td>1.856475</td>\n",
       "      <td>0.53</td>\n",
       "      <td>9</td>\n",
       "      <td>3.818680</td>\n",
       "      <td>37.797995</td>\n",
       "      <td>4.769927</td>\n",
       "      <td>9</td>\n",
       "      <td>4.58</td>\n",
       "      <td>2</td>\n",
       "      <td>-48.082821</td>\n",
       "      <td>1</td>\n",
       "      <td>1.801551</td>\n",
       "      <td>4.864864</td>\n",
       "    </tr>\n",
       "    <tr>\n",
       "      <th>5070</th>\n",
       "      <td>-38.12</td>\n",
       "      <td>28.59</td>\n",
       "      <td>-44.04</td>\n",
       "      <td>33.32</td>\n",
       "      <td>5.498680</td>\n",
       "      <td>94.867192</td>\n",
       "      <td>0.787718</td>\n",
       "      <td>1.31</td>\n",
       "      <td>10</td>\n",
       "      <td>0.768680</td>\n",
       "      <td>101.973874</td>\n",
       "      <td>4.176087</td>\n",
       "      <td>11</td>\n",
       "      <td>0.76</td>\n",
       "      <td>0</td>\n",
       "      <td>141.375618</td>\n",
       "      <td>2</td>\n",
       "      <td>0.125845</td>\n",
       "      <td>7.577552</td>\n",
       "    </tr>\n",
       "    <tr>\n",
       "      <th>5071</th>\n",
       "      <td>-23.45</td>\n",
       "      <td>-29.90</td>\n",
       "      <td>-4.13</td>\n",
       "      <td>-25.40</td>\n",
       "      <td>4.188680</td>\n",
       "      <td>81.471580</td>\n",
       "      <td>4.284355</td>\n",
       "      <td>3.69</td>\n",
       "      <td>11</td>\n",
       "      <td>8.688680</td>\n",
       "      <td>61.916368</td>\n",
       "      <td>1.563873</td>\n",
       "      <td>6</td>\n",
       "      <td>5.34</td>\n",
       "      <td>5</td>\n",
       "      <td>13.111520</td>\n",
       "      <td>1</td>\n",
       "      <td>0.246749</td>\n",
       "      <td>19.837147</td>\n",
       "    </tr>\n",
       "  </tbody>\n",
       "</table>\n",
       "<p>5072 rows × 19 columns</p>\n",
       "</div>"
      ],
      "text/plain": [
       "      x_passer  y_passer  x_recipient  y_recipient  distance_sideline  \\\n",
       "0         0.41     -0.39       -11.02         1.70          33.777011   \n",
       "1        -2.18     21.42         9.33        18.21          12.747011   \n",
       "2        10.89     28.86        -0.95        20.79           5.307011   \n",
       "3        25.18     29.32        11.20        29.33           4.847011   \n",
       "4        13.67     22.75        22.51        29.13          11.417011   \n",
       "...        ...       ...          ...          ...                ...   \n",
       "5067      3.01     -7.35         0.38       -15.85          26.738680   \n",
       "5068      4.30    -17.69        14.95       -30.87          16.398680   \n",
       "5069     26.45    -26.65        29.70       -30.27           7.438680   \n",
       "5070    -38.12     28.59       -44.04        33.32           5.498680   \n",
       "5071    -23.45    -29.90        -4.13       -25.40           4.188680   \n",
       "\n",
       "      distance_goal  distance_opponent  speed_passer  \\\n",
       "0         52.127550           9.208914          1.21   \n",
       "1         58.759399           7.627273          0.61   \n",
       "2         50.668496           3.939975          1.50   \n",
       "3         40.100101           1.167090          1.07   \n",
       "4         45.034826           3.316022          5.68   \n",
       "...             ...                ...           ...   \n",
       "5067      49.871191           2.252288          1.76   \n",
       "5068      51.190339           4.959395          2.96   \n",
       "5069      37.152906           1.856475          0.53   \n",
       "5070      94.867192           0.787718          1.31   \n",
       "5071      81.471580           4.284355          3.69   \n",
       "\n",
       "      opponents_closer_to_goal  distance_receiver_sideline  \\\n",
       "0                           10                   32.467011   \n",
       "1                           11                   15.957011   \n",
       "2                           11                   13.377011   \n",
       "3                           10                    4.837011   \n",
       "4                            8                    5.037011   \n",
       "...                        ...                         ...   \n",
       "5067                         7                   18.238680   \n",
       "5068                         8                    3.218680   \n",
       "5069                         9                    3.818680   \n",
       "5070                        10                    0.768680   \n",
       "5071                        11                    8.688680   \n",
       "\n",
       "      distance_receiver_goal  distance_receiver_opponent  \\\n",
       "0                  63.578823                   12.561676   \n",
       "1                  46.886783                    5.297141   \n",
       "2                  57.384545                   12.844150   \n",
       "3                  50.684527                   13.070275   \n",
       "4                  41.834472                    5.276381   \n",
       "...                      ...                         ...   \n",
       "5067               54.320443                    9.458166   \n",
       "5068               48.484168                    8.790523   \n",
       "5069               37.797995                    4.769927   \n",
       "5070              101.973874                    4.176087   \n",
       "5071               61.916368                    1.563873   \n",
       "\n",
       "      opponents_closer_to_goal_receiver  speed_receiver  bypassed_opponents  \\\n",
       "0                                    11            0.67                   0   \n",
       "1                                     9            1.08                   1   \n",
       "2                                    11            1.37                   0   \n",
       "3                                    11            0.86                   0   \n",
       "4                                     7            4.58                   4   \n",
       "...                                 ...             ...                 ...   \n",
       "5067                                  8            1.72                   0   \n",
       "5068                                  8            3.56                   2   \n",
       "5069                                  9            4.58                   2   \n",
       "5070                                 11            0.76                   0   \n",
       "5071                                  6            5.34                   5   \n",
       "\n",
       "           angle  opponents_in_path  nearest_defender_pass_line  distance_pass  \n",
       "0     169.637818                  0                    2.358155      11.619509  \n",
       "1     -15.583144                  1                    0.028496      11.949234  \n",
       "2    -145.722133                  0                    3.434173      14.328660  \n",
       "3     179.959016                  1                    1.139821      13.980004  \n",
       "4      35.818717                  1                    1.562856      10.901835  \n",
       "...          ...                ...                         ...            ...  \n",
       "5067 -107.192683                  0                    2.233124       8.897578  \n",
       "5068  -51.060316                  1                    3.568510      16.945055  \n",
       "5069  -48.082821                  1                    1.801551       4.864864  \n",
       "5070  141.375618                  2                    0.125845       7.577552  \n",
       "5071   13.111520                  1                    0.246749      19.837147  \n",
       "\n",
       "[5072 rows x 19 columns]"
      ]
     },
     "execution_count": 477,
     "metadata": {},
     "output_type": "execute_result"
    }
   ],
   "source": [
    "X"
   ]
  },
  {
   "cell_type": "code",
   "execution_count": null,
   "metadata": {},
   "outputs": [],
   "source": [
    "X_avl = df_avl.drop(columns = ['period','gameClock','team.name','player.jersey_nb','pass.recipient.jersey_nb','coord_all_team','coord_all_adversary','completed'])"
   ]
  },
  {
   "cell_type": "code",
   "execution_count": null,
   "metadata": {},
   "outputs": [],
   "source": [
    "y_pred_avl = xgb_model.predict_proba(X_avl)[:,1]"
   ]
  },
  {
   "cell_type": "code",
   "execution_count": null,
   "metadata": {},
   "outputs": [],
   "source": [
    "df_avl['xPass'] = y_pred_avl"
   ]
  },
  {
   "cell_type": "code",
   "execution_count": null,
   "metadata": {},
   "outputs": [
    {
     "ename": "NotImplementedError",
     "evalue": "",
     "output_type": "error",
     "traceback": [
      "\u001b[1;31m---------------------------------------------------------------------------\u001b[0m",
      "\u001b[1;31mNotImplementedError\u001b[0m                       Traceback (most recent call last)",
      "\u001b[1;32mc:\\Users\\MatteoBENAUD\\OneDrive - Ekimetrics\\Bureau\\hackathon City\\ManHackathonIrsem\\examples\\Model_xPass.ipynb Cell 19\u001b[0m in \u001b[0;36m<cell line: 5>\u001b[1;34m()\u001b[0m\n\u001b[0;32m      <a href='vscode-notebook-cell:/c%3A/Users/MatteoBENAUD/OneDrive%20-%20Ekimetrics/Bureau/hackathon%20City/ManHackathonIrsem/examples/Model_xPass.ipynb#Y113sZmlsZQ%3D%3D?line=2'>3</a>\u001b[0m file \u001b[39m=\u001b[39m \u001b[39m'\u001b[39m\u001b[39mManCity_AstonVilla_lineups.json\u001b[39m\u001b[39m'\u001b[39m\n\u001b[0;32m      <a href='vscode-notebook-cell:/c%3A/Users/MatteoBENAUD/OneDrive%20-%20Ekimetrics/Bureau/hackathon%20City/ManHackathonIrsem/examples/Model_xPass.ipynb#Y113sZmlsZQ%3D%3D?line=3'>4</a>\u001b[0m match_tracking_path \u001b[39m=\u001b[39m os\u001b[39m.\u001b[39mpath\u001b[39m.\u001b[39mjoin(data_directory, file)\n\u001b[1;32m----> <a href='vscode-notebook-cell:/c%3A/Users/MatteoBENAUD/OneDrive%20-%20Ekimetrics/Bureau/hackathon%20City/ManHackathonIrsem/examples/Model_xPass.ipynb#Y113sZmlsZQ%3D%3D?line=4'>5</a>\u001b[0m mapping_jersey \u001b[39m=\u001b[39m pd\u001b[39m.\u001b[39;49mjson_normalize(match_tracking_path, \u001b[39m\"\u001b[39;49m\u001b[39mlineup\u001b[39;49m\u001b[39m\"\u001b[39;49m)\n",
      "File \u001b[1;32mc:\\Users\\MatteoBENAUD\\anaconda3\\envs\\causal_inf\\lib\\site-packages\\pandas\\io\\json\\_normalize.py:443\u001b[0m, in \u001b[0;36m_json_normalize\u001b[1;34m(data, record_path, meta, meta_prefix, record_prefix, errors, sep, max_level)\u001b[0m\n\u001b[0;32m    441\u001b[0m     data \u001b[39m=\u001b[39m \u001b[39mlist\u001b[39m(data)\n\u001b[0;32m    442\u001b[0m \u001b[39melse\u001b[39;00m:\n\u001b[1;32m--> 443\u001b[0m     \u001b[39mraise\u001b[39;00m \u001b[39mNotImplementedError\u001b[39;00m\n\u001b[0;32m    445\u001b[0m \u001b[39m# check to see if a simple recursive function is possible to\u001b[39;00m\n\u001b[0;32m    446\u001b[0m \u001b[39m# improve performance (see #15621) but only for cases such\u001b[39;00m\n\u001b[0;32m    447\u001b[0m \u001b[39m# as pd.Dataframe(data) or pd.Dataframe(data, sep)\u001b[39;00m\n\u001b[0;32m    448\u001b[0m \u001b[39mif\u001b[39;00m (\n\u001b[0;32m    449\u001b[0m     record_path \u001b[39mis\u001b[39;00m \u001b[39mNone\u001b[39;00m\n\u001b[0;32m    450\u001b[0m     \u001b[39mand\u001b[39;00m meta \u001b[39mis\u001b[39;00m \u001b[39mNone\u001b[39;00m\n\u001b[1;32m   (...)\u001b[0m\n\u001b[0;32m    453\u001b[0m     \u001b[39mand\u001b[39;00m max_level \u001b[39mis\u001b[39;00m \u001b[39mNone\u001b[39;00m\n\u001b[0;32m    454\u001b[0m ):\n",
      "\u001b[1;31mNotImplementedError\u001b[0m: "
     ]
    }
   ],
   "source": [
    "import os\n",
    "data_directory = r'..\\data\\statsbomb'\n",
    "file = 'ManCity_AstonVilla_lineups.json'\n",
    "match_tracking_path = os.path.join(data_directory, file)\n",
    "mapping_jersey = pd.json_normalize(match_tracking_path, \"lineup\")\n",
    "# dict(zip(mapping_jersey.player_name, mapping_jersey.jersey_number))"
   ]
  },
  {
   "cell_type": "code",
   "execution_count": null,
   "metadata": {},
   "outputs": [],
   "source": [
    "import json\n",
    "f = open(match_tracking_path)\n",
    "data = json.load(f)\n",
    "mapping_jersey = pd.json_normalize(data[0], \"lineup\")"
   ]
  },
  {
   "cell_type": "code",
   "execution_count": null,
   "metadata": {},
   "outputs": [],
   "source": [
    "dict_mapping_jersey = dict(zip(mapping_jersey['jersey_number'],mapping_jersey['player_id']))"
   ]
  },
  {
   "cell_type": "code",
   "execution_count": null,
   "metadata": {},
   "outputs": [
    {
     "data": {
      "text/html": [
       "<div>\n",
       "<style scoped>\n",
       "    .dataframe tbody tr th:only-of-type {\n",
       "        vertical-align: middle;\n",
       "    }\n",
       "\n",
       "    .dataframe tbody tr th {\n",
       "        vertical-align: top;\n",
       "    }\n",
       "\n",
       "    .dataframe thead th {\n",
       "        text-align: right;\n",
       "    }\n",
       "</style>\n",
       "<table border=\"1\" class=\"dataframe\">\n",
       "  <thead>\n",
       "    <tr style=\"text-align: right;\">\n",
       "      <th></th>\n",
       "      <th>period</th>\n",
       "      <th>gameClock</th>\n",
       "      <th>team.name</th>\n",
       "      <th>x_passer</th>\n",
       "      <th>y_passer</th>\n",
       "      <th>x_recipient</th>\n",
       "      <th>y_recipient</th>\n",
       "      <th>player.jersey_nb</th>\n",
       "      <th>pass.recipient.jersey_nb</th>\n",
       "      <th>coord_all_team</th>\n",
       "      <th>...</th>\n",
       "      <th>distance_receiver_goal</th>\n",
       "      <th>distance_receiver_opponent</th>\n",
       "      <th>opponents_closer_to_goal_receiver</th>\n",
       "      <th>speed_receiver</th>\n",
       "      <th>bypassed_opponents</th>\n",
       "      <th>angle</th>\n",
       "      <th>opponents_in_path</th>\n",
       "      <th>nearest_defender_pass_line</th>\n",
       "      <th>distance_pass</th>\n",
       "      <th>xPass</th>\n",
       "    </tr>\n",
       "  </thead>\n",
       "  <tbody>\n",
       "    <tr>\n",
       "      <th>0</th>\n",
       "      <td>1</td>\n",
       "      <td>23.44</td>\n",
       "      <td>Manchester City WFC</td>\n",
       "      <td>12.46</td>\n",
       "      <td>-26.26</td>\n",
       "      <td>-3.68</td>\n",
       "      <td>30.25</td>\n",
       "      <td>10</td>\n",
       "      <td>14</td>\n",
       "      <td>{14: [3.68, -30.25, 0.0], 25: [8.52, -15.42, 0...</td>\n",
       "      <td>...</td>\n",
       "      <td>63.981813</td>\n",
       "      <td>16.355699</td>\n",
       "      <td>11</td>\n",
       "      <td>0.0</td>\n",
       "      <td>0</td>\n",
       "      <td>105.940039</td>\n",
       "      <td>3</td>\n",
       "      <td>0.314460</td>\n",
       "      <td>58.769718</td>\n",
       "      <td>0.819830</td>\n",
       "    </tr>\n",
       "    <tr>\n",
       "      <th>1</th>\n",
       "      <td>1</td>\n",
       "      <td>23.44</td>\n",
       "      <td>Manchester City WFC</td>\n",
       "      <td>12.46</td>\n",
       "      <td>-26.26</td>\n",
       "      <td>-8.52</td>\n",
       "      <td>15.42</td>\n",
       "      <td>10</td>\n",
       "      <td>25</td>\n",
       "      <td>{14: [3.68, -30.25, 0.0], 25: [8.52, -15.42, 0...</td>\n",
       "      <td>...</td>\n",
       "      <td>63.131309</td>\n",
       "      <td>8.658880</td>\n",
       "      <td>11</td>\n",
       "      <td>0.0</td>\n",
       "      <td>0</td>\n",
       "      <td>116.718806</td>\n",
       "      <td>2</td>\n",
       "      <td>2.737997</td>\n",
       "      <td>46.662435</td>\n",
       "      <td>0.899936</td>\n",
       "    </tr>\n",
       "    <tr>\n",
       "      <th>2</th>\n",
       "      <td>1</td>\n",
       "      <td>23.44</td>\n",
       "      <td>Manchester City WFC</td>\n",
       "      <td>12.46</td>\n",
       "      <td>-26.26</td>\n",
       "      <td>-18.13</td>\n",
       "      <td>29.64</td>\n",
       "      <td>10</td>\n",
       "      <td>9</td>\n",
       "      <td>{14: [3.68, -30.25, 0.0], 25: [8.52, -15.42, 0...</td>\n",
       "      <td>...</td>\n",
       "      <td>76.780855</td>\n",
       "      <td>23.783105</td>\n",
       "      <td>11</td>\n",
       "      <td>0.0</td>\n",
       "      <td>0</td>\n",
       "      <td>118.688678</td>\n",
       "      <td>1</td>\n",
       "      <td>2.635129</td>\n",
       "      <td>63.722509</td>\n",
       "      <td>0.820956</td>\n",
       "    </tr>\n",
       "    <tr>\n",
       "      <th>3</th>\n",
       "      <td>1</td>\n",
       "      <td>23.44</td>\n",
       "      <td>Manchester City WFC</td>\n",
       "      <td>12.46</td>\n",
       "      <td>-26.26</td>\n",
       "      <td>-18.34</td>\n",
       "      <td>2.94</td>\n",
       "      <td>10</td>\n",
       "      <td>7</td>\n",
       "      <td>{14: [3.68, -30.25, 0.0], 25: [8.52, -15.42, 0...</td>\n",
       "      <td>...</td>\n",
       "      <td>71.099972</td>\n",
       "      <td>21.648561</td>\n",
       "      <td>11</td>\n",
       "      <td>0.0</td>\n",
       "      <td>0</td>\n",
       "      <td>136.527525</td>\n",
       "      <td>2</td>\n",
       "      <td>1.577796</td>\n",
       "      <td>42.441489</td>\n",
       "      <td>0.827222</td>\n",
       "    </tr>\n",
       "    <tr>\n",
       "      <th>4</th>\n",
       "      <td>1</td>\n",
       "      <td>23.44</td>\n",
       "      <td>Manchester City WFC</td>\n",
       "      <td>12.46</td>\n",
       "      <td>-26.26</td>\n",
       "      <td>2.96</td>\n",
       "      <td>-6.39</td>\n",
       "      <td>10</td>\n",
       "      <td>15</td>\n",
       "      <td>{14: [3.68, -30.25, 0.0], 25: [8.52, -15.42, 0...</td>\n",
       "      <td>...</td>\n",
       "      <td>50.147944</td>\n",
       "      <td>7.444743</td>\n",
       "      <td>7</td>\n",
       "      <td>0.0</td>\n",
       "      <td>0</td>\n",
       "      <td>115.552822</td>\n",
       "      <td>1</td>\n",
       "      <td>2.797369</td>\n",
       "      <td>22.024234</td>\n",
       "      <td>0.871036</td>\n",
       "    </tr>\n",
       "    <tr>\n",
       "      <th>...</th>\n",
       "      <td>...</td>\n",
       "      <td>...</td>\n",
       "      <td>...</td>\n",
       "      <td>...</td>\n",
       "      <td>...</td>\n",
       "      <td>...</td>\n",
       "      <td>...</td>\n",
       "      <td>...</td>\n",
       "      <td>...</td>\n",
       "      <td>...</td>\n",
       "      <td>...</td>\n",
       "      <td>...</td>\n",
       "      <td>...</td>\n",
       "      <td>...</td>\n",
       "      <td>...</td>\n",
       "      <td>...</td>\n",
       "      <td>...</td>\n",
       "      <td>...</td>\n",
       "      <td>...</td>\n",
       "      <td>...</td>\n",
       "      <td>...</td>\n",
       "    </tr>\n",
       "    <tr>\n",
       "      <th>219613</th>\n",
       "      <td>2</td>\n",
       "      <td>2829.64</td>\n",
       "      <td>Manchester City WFC</td>\n",
       "      <td>51.00</td>\n",
       "      <td>33.62</td>\n",
       "      <td>43.61</td>\n",
       "      <td>-1.20</td>\n",
       "      <td>5</td>\n",
       "      <td>21</td>\n",
       "      <td>{25: [19.0, 3.37, 0.0], 7: [35.31, 1.44, 0.0],...</td>\n",
       "      <td>...</td>\n",
       "      <td>9.168035</td>\n",
       "      <td>0.780000</td>\n",
       "      <td>8</td>\n",
       "      <td>0.0</td>\n",
       "      <td>0</td>\n",
       "      <td>-101.982335</td>\n",
       "      <td>5</td>\n",
       "      <td>0.642029</td>\n",
       "      <td>35.595569</td>\n",
       "      <td>0.785831</td>\n",
       "    </tr>\n",
       "    <tr>\n",
       "      <th>219614</th>\n",
       "      <td>2</td>\n",
       "      <td>2829.64</td>\n",
       "      <td>Manchester City WFC</td>\n",
       "      <td>51.00</td>\n",
       "      <td>33.62</td>\n",
       "      <td>45.68</td>\n",
       "      <td>-4.64</td>\n",
       "      <td>5</td>\n",
       "      <td>33</td>\n",
       "      <td>{25: [19.0, 3.37, 0.0], 7: [35.31, 1.44, 0.0],...</td>\n",
       "      <td>...</td>\n",
       "      <td>8.414168</td>\n",
       "      <td>0.854459</td>\n",
       "      <td>7</td>\n",
       "      <td>0.0</td>\n",
       "      <td>0</td>\n",
       "      <td>-97.916141</td>\n",
       "      <td>6</td>\n",
       "      <td>0.392647</td>\n",
       "      <td>38.628099</td>\n",
       "      <td>0.829969</td>\n",
       "    </tr>\n",
       "    <tr>\n",
       "      <th>219615</th>\n",
       "      <td>2</td>\n",
       "      <td>2829.64</td>\n",
       "      <td>Manchester City WFC</td>\n",
       "      <td>51.00</td>\n",
       "      <td>33.62</td>\n",
       "      <td>37.86</td>\n",
       "      <td>22.62</td>\n",
       "      <td>5</td>\n",
       "      <td>13</td>\n",
       "      <td>{25: [19.0, 3.37, 0.0], 7: [35.31, 1.44, 0.0],...</td>\n",
       "      <td>...</td>\n",
       "      <td>27.053006</td>\n",
       "      <td>6.558910</td>\n",
       "      <td>10</td>\n",
       "      <td>0.0</td>\n",
       "      <td>0</td>\n",
       "      <td>-140.066002</td>\n",
       "      <td>0</td>\n",
       "      <td>6.472104</td>\n",
       "      <td>17.136499</td>\n",
       "      <td>0.983278</td>\n",
       "    </tr>\n",
       "    <tr>\n",
       "      <th>219616</th>\n",
       "      <td>2</td>\n",
       "      <td>2829.64</td>\n",
       "      <td>Manchester City WFC</td>\n",
       "      <td>51.00</td>\n",
       "      <td>33.62</td>\n",
       "      <td>5.11</td>\n",
       "      <td>12.36</td>\n",
       "      <td>5</td>\n",
       "      <td>2</td>\n",
       "      <td>{25: [19.0, 3.37, 0.0], 7: [35.31, 1.44, 0.0],...</td>\n",
       "      <td>...</td>\n",
       "      <td>49.168058</td>\n",
       "      <td>2.191849</td>\n",
       "      <td>11</td>\n",
       "      <td>0.0</td>\n",
       "      <td>0</td>\n",
       "      <td>-155.142571</td>\n",
       "      <td>1</td>\n",
       "      <td>0.838930</td>\n",
       "      <td>50.575485</td>\n",
       "      <td>0.906862</td>\n",
       "    </tr>\n",
       "    <tr>\n",
       "      <th>219617</th>\n",
       "      <td>2</td>\n",
       "      <td>2829.64</td>\n",
       "      <td>Manchester City WFC</td>\n",
       "      <td>51.00</td>\n",
       "      <td>33.62</td>\n",
       "      <td>46.97</td>\n",
       "      <td>3.58</td>\n",
       "      <td>5</td>\n",
       "      <td>11</td>\n",
       "      <td>{25: [19.0, 3.37, 0.0], 7: [35.31, 1.44, 0.0],...</td>\n",
       "      <td>...</td>\n",
       "      <td>6.755715</td>\n",
       "      <td>1.423376</td>\n",
       "      <td>6</td>\n",
       "      <td>0.0</td>\n",
       "      <td>0</td>\n",
       "      <td>-97.640864</td>\n",
       "      <td>0</td>\n",
       "      <td>0.443045</td>\n",
       "      <td>30.309116</td>\n",
       "      <td>0.942128</td>\n",
       "    </tr>\n",
       "  </tbody>\n",
       "</table>\n",
       "<p>215098 rows × 28 columns</p>\n",
       "</div>"
      ],
      "text/plain": [
       "        period  gameClock            team.name  x_passer  y_passer  \\\n",
       "0            1      23.44  Manchester City WFC     12.46    -26.26   \n",
       "1            1      23.44  Manchester City WFC     12.46    -26.26   \n",
       "2            1      23.44  Manchester City WFC     12.46    -26.26   \n",
       "3            1      23.44  Manchester City WFC     12.46    -26.26   \n",
       "4            1      23.44  Manchester City WFC     12.46    -26.26   \n",
       "...        ...        ...                  ...       ...       ...   \n",
       "219613       2    2829.64  Manchester City WFC     51.00     33.62   \n",
       "219614       2    2829.64  Manchester City WFC     51.00     33.62   \n",
       "219615       2    2829.64  Manchester City WFC     51.00     33.62   \n",
       "219616       2    2829.64  Manchester City WFC     51.00     33.62   \n",
       "219617       2    2829.64  Manchester City WFC     51.00     33.62   \n",
       "\n",
       "        x_recipient  y_recipient  player.jersey_nb  pass.recipient.jersey_nb  \\\n",
       "0             -3.68        30.25                10                        14   \n",
       "1             -8.52        15.42                10                        25   \n",
       "2            -18.13        29.64                10                         9   \n",
       "3            -18.34         2.94                10                         7   \n",
       "4              2.96        -6.39                10                        15   \n",
       "...             ...          ...               ...                       ...   \n",
       "219613        43.61        -1.20                 5                        21   \n",
       "219614        45.68        -4.64                 5                        33   \n",
       "219615        37.86        22.62                 5                        13   \n",
       "219616         5.11        12.36                 5                         2   \n",
       "219617        46.97         3.58                 5                        11   \n",
       "\n",
       "                                           coord_all_team  ...  \\\n",
       "0       {14: [3.68, -30.25, 0.0], 25: [8.52, -15.42, 0...  ...   \n",
       "1       {14: [3.68, -30.25, 0.0], 25: [8.52, -15.42, 0...  ...   \n",
       "2       {14: [3.68, -30.25, 0.0], 25: [8.52, -15.42, 0...  ...   \n",
       "3       {14: [3.68, -30.25, 0.0], 25: [8.52, -15.42, 0...  ...   \n",
       "4       {14: [3.68, -30.25, 0.0], 25: [8.52, -15.42, 0...  ...   \n",
       "...                                                   ...  ...   \n",
       "219613  {25: [19.0, 3.37, 0.0], 7: [35.31, 1.44, 0.0],...  ...   \n",
       "219614  {25: [19.0, 3.37, 0.0], 7: [35.31, 1.44, 0.0],...  ...   \n",
       "219615  {25: [19.0, 3.37, 0.0], 7: [35.31, 1.44, 0.0],...  ...   \n",
       "219616  {25: [19.0, 3.37, 0.0], 7: [35.31, 1.44, 0.0],...  ...   \n",
       "219617  {25: [19.0, 3.37, 0.0], 7: [35.31, 1.44, 0.0],...  ...   \n",
       "\n",
       "       distance_receiver_goal  distance_receiver_opponent  \\\n",
       "0                   63.981813                   16.355699   \n",
       "1                   63.131309                    8.658880   \n",
       "2                   76.780855                   23.783105   \n",
       "3                   71.099972                   21.648561   \n",
       "4                   50.147944                    7.444743   \n",
       "...                       ...                         ...   \n",
       "219613               9.168035                    0.780000   \n",
       "219614               8.414168                    0.854459   \n",
       "219615              27.053006                    6.558910   \n",
       "219616              49.168058                    2.191849   \n",
       "219617               6.755715                    1.423376   \n",
       "\n",
       "        opponents_closer_to_goal_receiver  speed_receiver  bypassed_opponents  \\\n",
       "0                                      11             0.0                   0   \n",
       "1                                      11             0.0                   0   \n",
       "2                                      11             0.0                   0   \n",
       "3                                      11             0.0                   0   \n",
       "4                                       7             0.0                   0   \n",
       "...                                   ...             ...                 ...   \n",
       "219613                                  8             0.0                   0   \n",
       "219614                                  7             0.0                   0   \n",
       "219615                                 10             0.0                   0   \n",
       "219616                                 11             0.0                   0   \n",
       "219617                                  6             0.0                   0   \n",
       "\n",
       "             angle  opponents_in_path  nearest_defender_pass_line  \\\n",
       "0       105.940039                  3                    0.314460   \n",
       "1       116.718806                  2                    2.737997   \n",
       "2       118.688678                  1                    2.635129   \n",
       "3       136.527525                  2                    1.577796   \n",
       "4       115.552822                  1                    2.797369   \n",
       "...            ...                ...                         ...   \n",
       "219613 -101.982335                  5                    0.642029   \n",
       "219614  -97.916141                  6                    0.392647   \n",
       "219615 -140.066002                  0                    6.472104   \n",
       "219616 -155.142571                  1                    0.838930   \n",
       "219617  -97.640864                  0                    0.443045   \n",
       "\n",
       "        distance_pass     xPass  \n",
       "0           58.769718  0.819830  \n",
       "1           46.662435  0.899936  \n",
       "2           63.722509  0.820956  \n",
       "3           42.441489  0.827222  \n",
       "4           22.024234  0.871036  \n",
       "...               ...       ...  \n",
       "219613      35.595569  0.785831  \n",
       "219614      38.628099  0.829969  \n",
       "219615      17.136499  0.983278  \n",
       "219616      50.575485  0.906862  \n",
       "219617      30.309116  0.942128  \n",
       "\n",
       "[215098 rows x 28 columns]"
      ]
     },
     "execution_count": 508,
     "metadata": {},
     "output_type": "execute_result"
    }
   ],
   "source": [
    "df_avl"
   ]
  },
  {
   "cell_type": "code",
   "execution_count": null,
   "metadata": {},
   "outputs": [],
   "source": [
    "df_avl['player.id'] = df_avl['player.jersey_nb'].map(dict_mapping_jersey)\n",
    "df_avl['pass.recipient.id'] = df_avl['pass.recipient.jersey_nb'].map(dict_mapping_jersey)"
   ]
  },
  {
   "cell_type": "code",
   "execution_count": null,
   "metadata": {},
   "outputs": [],
   "source": [
    "df_avl.to_pickle('xPass_aston_villa.pkl')"
   ]
  },
  {
   "cell_type": "code",
   "execution_count": null,
   "metadata": {},
   "outputs": [],
   "source": [
    "tmp = df_avl[(df_avl['player.jersey_nb']==10) & (df_avl['pass.recipient.jersey_nb']==1)]"
   ]
  },
  {
   "cell_type": "code",
   "execution_count": null,
   "metadata": {},
   "outputs": [
    {
     "data": {
      "text/plain": [
       "[<matplotlib.lines.Line2D at 0x22b2f83d2b0>]"
      ]
     },
     "execution_count": 521,
     "metadata": {},
     "output_type": "execute_result"
    },
    {
     "data": {
      "image/png": "[encoded data removed]",
      "text/plain": [
       "<Figure size 432x288 with 1 Axes>"
      ]
     },
     "metadata": {
      "needs_background": "light"
     },
     "output_type": "display_data"
    }
   ],
   "source": [
    "plt.plot(df_avl['xPass'])"
   ]
  },
  {
   "cell_type": "code",
   "execution_count": null,
   "metadata": {},
   "outputs": [
    {
     "name": "stderr",
     "output_type": "stream",
     "text": [
      "C:\\Users\\MatteoBENAUD\\AppData\\Local\\Temp\\ipykernel_1884\\2641979309.py:1: SettingWithCopyWarning: \n",
      "A value is trying to be set on a copy of a slice from a DataFrame.\n",
      "Try using .loc[row_indexer,col_indexer] = value instead\n",
      "\n",
      "See the caveats in the documentation: https://pandas.pydata.org/pandas-docs/stable/user_guide/indexing.html#returning-a-view-versus-a-copy\n",
      "  tmp['xPass_avg'] = tmp['xPass'].expanding().mean()\n"
     ]
    }
   ],
   "source": [
    "tmp['xPass_avg'] = tmp['xPass'].expanding().mean() \n",
    "tmp = tmp[tmp['period']==1]"
   ]
  },
  {
   "cell_type": "code",
   "execution_count": null,
   "metadata": {},
   "outputs": [
    {
     "data": {
      "text/plain": [
       "[<matplotlib.lines.Line2D at 0x22b2f89ca30>]"
      ]
     },
     "execution_count": 523,
     "metadata": {},
     "output_type": "execute_result"
    },
    {
     "data": {
      "image/png": "[encoded data removed]",
      "text/plain": [
       "<Figure size 432x288 with 1 Axes>"
      ]
     },
     "metadata": {
      "needs_background": "light"
     },
     "output_type": "display_data"
    }
   ],
   "source": [
    "plt.plot(tmp['gameClock'],tmp['xPass_avg'])"
   ]
  },
  {
   "cell_type": "code",
   "execution_count": null,
   "metadata": {},
   "outputs": [],
   "source": [
    "tmp = df_avl.loc[df_avl['gameClock']==2154.60]"
   ]
  },
  {
   "cell_type": "code",
   "execution_count": null,
   "metadata": {},
   "outputs": [
    {
     "data": {
      "text/plain": [
       "{14: [3.68, -30.25, 0.0],\n",
       " 25: [8.52, -15.42, 0.0],\n",
       " 9: [18.13, -29.64, 0.0],\n",
       " 7: [18.34, -2.94, 0.0],\n",
       " 10: [12.46, -26.26, 0.0],\n",
       " 15: [-2.96, 6.39, 0.0],\n",
       " 1: [-32.91, -3.6, 0.0],\n",
       " 21: [27.89, -21.81, 0.0],\n",
       " 33: [-5.59, -16.67, 0.0],\n",
       " 5: [-3.27, 0.36, 0.0],\n",
       " 11: [8.25, 7.64, 0.0]}"
      ]
     },
     "execution_count": 578,
     "metadata": {},
     "output_type": "execute_result"
    }
   ],
   "source": [
    "df_avl['coord_all_team'].iloc[0]"
   ]
  },
  {
   "cell_type": "code",
   "execution_count": null,
   "metadata": {},
   "outputs": [
    {
     "data": {
      "text/html": [
       "<div>\n",
       "<style scoped>\n",
       "    .dataframe tbody tr th:only-of-type {\n",
       "        vertical-align: middle;\n",
       "    }\n",
       "\n",
       "    .dataframe tbody tr th {\n",
       "        vertical-align: top;\n",
       "    }\n",
       "\n",
       "    .dataframe thead th {\n",
       "        text-align: right;\n",
       "    }\n",
       "</style>\n",
       "<table border=\"1\" class=\"dataframe\">\n",
       "  <thead>\n",
       "    <tr style=\"text-align: right;\">\n",
       "      <th></th>\n",
       "      <th>period</th>\n",
       "      <th>gameClock</th>\n",
       "      <th>team.name</th>\n",
       "      <th>x_passer</th>\n",
       "      <th>y_passer</th>\n",
       "      <th>x_recipient</th>\n",
       "      <th>y_recipient</th>\n",
       "      <th>player.jersey_nb</th>\n",
       "      <th>pass.recipient.jersey_nb</th>\n",
       "      <th>coord_all_team</th>\n",
       "      <th>...</th>\n",
       "      <th>opponents_closer_to_goal_receiver</th>\n",
       "      <th>speed_receiver</th>\n",
       "      <th>bypassed_opponents</th>\n",
       "      <th>angle</th>\n",
       "      <th>opponents_in_path</th>\n",
       "      <th>nearest_defender_pass_line</th>\n",
       "      <th>distance_pass</th>\n",
       "      <th>xPass</th>\n",
       "      <th>player.id</th>\n",
       "      <th>pass.recipient.id</th>\n",
       "    </tr>\n",
       "  </thead>\n",
       "  <tbody>\n",
       "    <tr>\n",
       "      <th>183990</th>\n",
       "      <td>2</td>\n",
       "      <td>2154.60</td>\n",
       "      <td>Manchester City WFC</td>\n",
       "      <td>6.62</td>\n",
       "      <td>-26.07</td>\n",
       "      <td>-43.53</td>\n",
       "      <td>-0.44</td>\n",
       "      <td>25</td>\n",
       "      <td>1</td>\n",
       "      <td>{25: [6.62, -26.07, 0.0], 7: [6.01, -8.42, 0.0...</td>\n",
       "      <td>...</td>\n",
       "      <td>11</td>\n",
       "      <td>0.0</td>\n",
       "      <td>0</td>\n",
       "      <td>152.929933</td>\n",
       "      <td>2</td>\n",
       "      <td>1.576522</td>\n",
       "      <td>56.319796</td>\n",
       "      <td>0.902713</td>\n",
       "      <td>25632</td>\n",
       "      <td>4637</td>\n",
       "    </tr>\n",
       "    <tr>\n",
       "      <th>183991</th>\n",
       "      <td>2</td>\n",
       "      <td>2154.60</td>\n",
       "      <td>Manchester City WFC</td>\n",
       "      <td>6.62</td>\n",
       "      <td>-26.07</td>\n",
       "      <td>-11.46</td>\n",
       "      <td>5.06</td>\n",
       "      <td>25</td>\n",
       "      <td>12</td>\n",
       "      <td>{25: [6.62, -26.07, 0.0], 7: [6.01, -8.42, 0.0...</td>\n",
       "      <td>...</td>\n",
       "      <td>7</td>\n",
       "      <td>0.0</td>\n",
       "      <td>0</td>\n",
       "      <td>120.147601</td>\n",
       "      <td>3</td>\n",
       "      <td>1.432526</td>\n",
       "      <td>35.999490</td>\n",
       "      <td>0.770352</td>\n",
       "      <td>25632</td>\n",
       "      <td>62666</td>\n",
       "    </tr>\n",
       "    <tr>\n",
       "      <th>183992</th>\n",
       "      <td>2</td>\n",
       "      <td>2154.60</td>\n",
       "      <td>Manchester City WFC</td>\n",
       "      <td>6.62</td>\n",
       "      <td>-26.07</td>\n",
       "      <td>-1.05</td>\n",
       "      <td>-16.55</td>\n",
       "      <td>25</td>\n",
       "      <td>21</td>\n",
       "      <td>{25: [6.62, -26.07, 0.0], 7: [6.01, -8.42, 0.0...</td>\n",
       "      <td>...</td>\n",
       "      <td>4</td>\n",
       "      <td>0.0</td>\n",
       "      <td>0</td>\n",
       "      <td>128.857430</td>\n",
       "      <td>1</td>\n",
       "      <td>0.105404</td>\n",
       "      <td>12.225355</td>\n",
       "      <td>0.889021</td>\n",
       "      <td>25632</td>\n",
       "      <td>25554</td>\n",
       "    </tr>\n",
       "    <tr>\n",
       "      <th>183993</th>\n",
       "      <td>2</td>\n",
       "      <td>2154.60</td>\n",
       "      <td>Manchester City WFC</td>\n",
       "      <td>6.62</td>\n",
       "      <td>-26.07</td>\n",
       "      <td>-18.66</td>\n",
       "      <td>-7.14</td>\n",
       "      <td>25</td>\n",
       "      <td>33</td>\n",
       "      <td>{25: [6.62, -26.07, 0.0], 7: [6.01, -8.42, 0.0...</td>\n",
       "      <td>...</td>\n",
       "      <td>10</td>\n",
       "      <td>0.0</td>\n",
       "      <td>0</td>\n",
       "      <td>143.173643</td>\n",
       "      <td>2</td>\n",
       "      <td>1.583930</td>\n",
       "      <td>31.582009</td>\n",
       "      <td>0.759735</td>\n",
       "      <td>25632</td>\n",
       "      <td>5078</td>\n",
       "    </tr>\n",
       "    <tr>\n",
       "      <th>183994</th>\n",
       "      <td>2</td>\n",
       "      <td>2154.60</td>\n",
       "      <td>Manchester City WFC</td>\n",
       "      <td>6.62</td>\n",
       "      <td>-26.07</td>\n",
       "      <td>-2.14</td>\n",
       "      <td>4.41</td>\n",
       "      <td>25</td>\n",
       "      <td>13</td>\n",
       "      <td>{25: [6.62, -26.07, 0.0], 7: [6.01, -8.42, 0.0...</td>\n",
       "      <td>...</td>\n",
       "      <td>4</td>\n",
       "      <td>0.0</td>\n",
       "      <td>0</td>\n",
       "      <td>106.034734</td>\n",
       "      <td>1</td>\n",
       "      <td>0.661642</td>\n",
       "      <td>31.713846</td>\n",
       "      <td>0.800464</td>\n",
       "      <td>25632</td>\n",
       "      <td>6818</td>\n",
       "    </tr>\n",
       "    <tr>\n",
       "      <th>...</th>\n",
       "      <td>...</td>\n",
       "      <td>...</td>\n",
       "      <td>...</td>\n",
       "      <td>...</td>\n",
       "      <td>...</td>\n",
       "      <td>...</td>\n",
       "      <td>...</td>\n",
       "      <td>...</td>\n",
       "      <td>...</td>\n",
       "      <td>...</td>\n",
       "      <td>...</td>\n",
       "      <td>...</td>\n",
       "      <td>...</td>\n",
       "      <td>...</td>\n",
       "      <td>...</td>\n",
       "      <td>...</td>\n",
       "      <td>...</td>\n",
       "      <td>...</td>\n",
       "      <td>...</td>\n",
       "      <td>...</td>\n",
       "      <td>...</td>\n",
       "    </tr>\n",
       "    <tr>\n",
       "      <th>219613</th>\n",
       "      <td>2</td>\n",
       "      <td>2829.64</td>\n",
       "      <td>Manchester City WFC</td>\n",
       "      <td>51.00</td>\n",
       "      <td>33.62</td>\n",
       "      <td>43.61</td>\n",
       "      <td>-1.20</td>\n",
       "      <td>5</td>\n",
       "      <td>21</td>\n",
       "      <td>{25: [19.0, 3.37, 0.0], 7: [35.31, 1.44, 0.0],...</td>\n",
       "      <td>...</td>\n",
       "      <td>8</td>\n",
       "      <td>0.0</td>\n",
       "      <td>0</td>\n",
       "      <td>-101.982335</td>\n",
       "      <td>5</td>\n",
       "      <td>0.642029</td>\n",
       "      <td>35.595569</td>\n",
       "      <td>0.785831</td>\n",
       "      <td>10252</td>\n",
       "      <td>25554</td>\n",
       "    </tr>\n",
       "    <tr>\n",
       "      <th>219614</th>\n",
       "      <td>2</td>\n",
       "      <td>2829.64</td>\n",
       "      <td>Manchester City WFC</td>\n",
       "      <td>51.00</td>\n",
       "      <td>33.62</td>\n",
       "      <td>45.68</td>\n",
       "      <td>-4.64</td>\n",
       "      <td>5</td>\n",
       "      <td>33</td>\n",
       "      <td>{25: [19.0, 3.37, 0.0], 7: [35.31, 1.44, 0.0],...</td>\n",
       "      <td>...</td>\n",
       "      <td>7</td>\n",
       "      <td>0.0</td>\n",
       "      <td>0</td>\n",
       "      <td>-97.916141</td>\n",
       "      <td>6</td>\n",
       "      <td>0.392647</td>\n",
       "      <td>38.628099</td>\n",
       "      <td>0.829969</td>\n",
       "      <td>10252</td>\n",
       "      <td>5078</td>\n",
       "    </tr>\n",
       "    <tr>\n",
       "      <th>219615</th>\n",
       "      <td>2</td>\n",
       "      <td>2829.64</td>\n",
       "      <td>Manchester City WFC</td>\n",
       "      <td>51.00</td>\n",
       "      <td>33.62</td>\n",
       "      <td>37.86</td>\n",
       "      <td>22.62</td>\n",
       "      <td>5</td>\n",
       "      <td>13</td>\n",
       "      <td>{25: [19.0, 3.37, 0.0], 7: [35.31, 1.44, 0.0],...</td>\n",
       "      <td>...</td>\n",
       "      <td>10</td>\n",
       "      <td>0.0</td>\n",
       "      <td>0</td>\n",
       "      <td>-140.066002</td>\n",
       "      <td>0</td>\n",
       "      <td>6.472104</td>\n",
       "      <td>17.136499</td>\n",
       "      <td>0.983278</td>\n",
       "      <td>10252</td>\n",
       "      <td>6818</td>\n",
       "    </tr>\n",
       "    <tr>\n",
       "      <th>219616</th>\n",
       "      <td>2</td>\n",
       "      <td>2829.64</td>\n",
       "      <td>Manchester City WFC</td>\n",
       "      <td>51.00</td>\n",
       "      <td>33.62</td>\n",
       "      <td>5.11</td>\n",
       "      <td>12.36</td>\n",
       "      <td>5</td>\n",
       "      <td>2</td>\n",
       "      <td>{25: [19.0, 3.37, 0.0], 7: [35.31, 1.44, 0.0],...</td>\n",
       "      <td>...</td>\n",
       "      <td>11</td>\n",
       "      <td>0.0</td>\n",
       "      <td>0</td>\n",
       "      <td>-155.142571</td>\n",
       "      <td>1</td>\n",
       "      <td>0.838930</td>\n",
       "      <td>50.575485</td>\n",
       "      <td>0.906862</td>\n",
       "      <td>10252</td>\n",
       "      <td>221888</td>\n",
       "    </tr>\n",
       "    <tr>\n",
       "      <th>219617</th>\n",
       "      <td>2</td>\n",
       "      <td>2829.64</td>\n",
       "      <td>Manchester City WFC</td>\n",
       "      <td>51.00</td>\n",
       "      <td>33.62</td>\n",
       "      <td>46.97</td>\n",
       "      <td>3.58</td>\n",
       "      <td>5</td>\n",
       "      <td>11</td>\n",
       "      <td>{25: [19.0, 3.37, 0.0], 7: [35.31, 1.44, 0.0],...</td>\n",
       "      <td>...</td>\n",
       "      <td>6</td>\n",
       "      <td>0.0</td>\n",
       "      <td>0</td>\n",
       "      <td>-97.640864</td>\n",
       "      <td>0</td>\n",
       "      <td>0.443045</td>\n",
       "      <td>30.309116</td>\n",
       "      <td>0.942128</td>\n",
       "      <td>10252</td>\n",
       "      <td>15555</td>\n",
       "    </tr>\n",
       "  </tbody>\n",
       "</table>\n",
       "<p>35098 rows × 30 columns</p>\n",
       "</div>"
      ],
      "text/plain": [
       "        period  gameClock            team.name  x_passer  y_passer  \\\n",
       "183990       2    2154.60  Manchester City WFC      6.62    -26.07   \n",
       "183991       2    2154.60  Manchester City WFC      6.62    -26.07   \n",
       "183992       2    2154.60  Manchester City WFC      6.62    -26.07   \n",
       "183993       2    2154.60  Manchester City WFC      6.62    -26.07   \n",
       "183994       2    2154.60  Manchester City WFC      6.62    -26.07   \n",
       "...        ...        ...                  ...       ...       ...   \n",
       "219613       2    2829.64  Manchester City WFC     51.00     33.62   \n",
       "219614       2    2829.64  Manchester City WFC     51.00     33.62   \n",
       "219615       2    2829.64  Manchester City WFC     51.00     33.62   \n",
       "219616       2    2829.64  Manchester City WFC     51.00     33.62   \n",
       "219617       2    2829.64  Manchester City WFC     51.00     33.62   \n",
       "\n",
       "        x_recipient  y_recipient  player.jersey_nb  pass.recipient.jersey_nb  \\\n",
       "183990       -43.53        -0.44                25                         1   \n",
       "183991       -11.46         5.06                25                        12   \n",
       "183992        -1.05       -16.55                25                        21   \n",
       "183993       -18.66        -7.14                25                        33   \n",
       "183994        -2.14         4.41                25                        13   \n",
       "...             ...          ...               ...                       ...   \n",
       "219613        43.61        -1.20                 5                        21   \n",
       "219614        45.68        -4.64                 5                        33   \n",
       "219615        37.86        22.62                 5                        13   \n",
       "219616         5.11        12.36                 5                         2   \n",
       "219617        46.97         3.58                 5                        11   \n",
       "\n",
       "                                           coord_all_team  ...  \\\n",
       "183990  {25: [6.62, -26.07, 0.0], 7: [6.01, -8.42, 0.0...  ...   \n",
       "183991  {25: [6.62, -26.07, 0.0], 7: [6.01, -8.42, 0.0...  ...   \n",
       "183992  {25: [6.62, -26.07, 0.0], 7: [6.01, -8.42, 0.0...  ...   \n",
       "183993  {25: [6.62, -26.07, 0.0], 7: [6.01, -8.42, 0.0...  ...   \n",
       "183994  {25: [6.62, -26.07, 0.0], 7: [6.01, -8.42, 0.0...  ...   \n",
       "...                                                   ...  ...   \n",
       "219613  {25: [19.0, 3.37, 0.0], 7: [35.31, 1.44, 0.0],...  ...   \n",
       "219614  {25: [19.0, 3.37, 0.0], 7: [35.31, 1.44, 0.0],...  ...   \n",
       "219615  {25: [19.0, 3.37, 0.0], 7: [35.31, 1.44, 0.0],...  ...   \n",
       "219616  {25: [19.0, 3.37, 0.0], 7: [35.31, 1.44, 0.0],...  ...   \n",
       "219617  {25: [19.0, 3.37, 0.0], 7: [35.31, 1.44, 0.0],...  ...   \n",
       "\n",
       "       opponents_closer_to_goal_receiver  speed_receiver  bypassed_opponents  \\\n",
       "183990                                11             0.0                   0   \n",
       "183991                                 7             0.0                   0   \n",
       "183992                                 4             0.0                   0   \n",
       "183993                                10             0.0                   0   \n",
       "183994                                 4             0.0                   0   \n",
       "...                                  ...             ...                 ...   \n",
       "219613                                 8             0.0                   0   \n",
       "219614                                 7             0.0                   0   \n",
       "219615                                10             0.0                   0   \n",
       "219616                                11             0.0                   0   \n",
       "219617                                 6             0.0                   0   \n",
       "\n",
       "             angle  opponents_in_path  nearest_defender_pass_line  \\\n",
       "183990  152.929933                  2                    1.576522   \n",
       "183991  120.147601                  3                    1.432526   \n",
       "183992  128.857430                  1                    0.105404   \n",
       "183993  143.173643                  2                    1.583930   \n",
       "183994  106.034734                  1                    0.661642   \n",
       "...            ...                ...                         ...   \n",
       "219613 -101.982335                  5                    0.642029   \n",
       "219614  -97.916141                  6                    0.392647   \n",
       "219615 -140.066002                  0                    6.472104   \n",
       "219616 -155.142571                  1                    0.838930   \n",
       "219617  -97.640864                  0                    0.443045   \n",
       "\n",
       "        distance_pass     xPass  player.id  pass.recipient.id  \n",
       "183990      56.319796  0.902713      25632               4637  \n",
       "183991      35.999490  0.770352      25632              62666  \n",
       "183992      12.225355  0.889021      25632              25554  \n",
       "183993      31.582009  0.759735      25632               5078  \n",
       "183994      31.713846  0.800464      25632               6818  \n",
       "...               ...       ...        ...                ...  \n",
       "219613      35.595569  0.785831      10252              25554  \n",
       "219614      38.628099  0.829969      10252               5078  \n",
       "219615      17.136499  0.983278      10252               6818  \n",
       "219616      50.575485  0.906862      10252             221888  \n",
       "219617      30.309116  0.942128      10252              15555  \n",
       "\n",
       "[35098 rows x 30 columns]"
      ]
     },
     "execution_count": 579,
     "metadata": {},
     "output_type": "execute_result"
    }
   ],
   "source": [
    "df_avl.iloc[180000:]"
   ]
  },
  {
   "cell_type": "code",
   "execution_count": null,
   "metadata": {},
   "outputs": [],
   "source": [
    "loc_adversary = tmp['coord_all_adversary'].iloc[0]\n",
    "loc_team = tmp['coord_all_team'].iloc[0]"
   ]
  },
  {
   "cell_type": "code",
   "execution_count": null,
   "metadata": {},
   "outputs": [],
   "source": [
    "x_adversary = [value[0] for key, value in loc_adversary.items()]\n",
    "y_adversary = [value[1] for key, value in loc_adversary.items()]\n",
    "x_team = [value[0] for key, value in loc_team.items()]\n",
    "y_team = [value[1] for key, value in loc_team.items()]"
   ]
  },
  {
   "cell_type": "code",
   "execution_count": null,
   "metadata": {},
   "outputs": [
    {
     "data": {
      "text/plain": [
       "<matplotlib.collections.PathCollection at 0x22b3a2753a0>"
      ]
     },
     "execution_count": 582,
     "metadata": {},
     "output_type": "execute_result"
    },
    {
     "data": {
      "image/png": "[encoded data removed]",
      "text/plain": [
       "<Figure size 432x288 with 1 Axes>"
      ]
     },
     "metadata": {
      "needs_background": "light"
     },
     "output_type": "display_data"
    }
   ],
   "source": [
    "plt.scatter(tmp['x_passer'],tmp['y_passer'], c = 'r')\n",
    "plt.scatter(tmp['x_recipient'],tmp['y_recipient'], c = 'orange')\n",
    "for _,row in tmp.iterrows():\n",
    "    plt.text(row['x_recipient'],row['y_recipient'],round(row['xPass'],2))\n",
    "plt.scatter(x_adversary,y_adversary, c = 'b')\n",
    "# plt.scatter(x_team,y_team, c = 'y')"
   ]
  },
  {
   "cell_type": "code",
   "execution_count": null,
   "metadata": {},
   "outputs": [],
   "source": [
    "df_avl_2 = df_avl[df_avl['period']==2]\n",
    "df_avl_2 = df_avl_2[df_avl_2['gameClock']<=15*60]"
   ]
  },
  {
   "attachments": {},
   "cell_type": "markdown",
   "metadata": {},
   "source": [
    "### "
   ]
  },
  {
   "cell_type": "code",
   "execution_count": null,
   "metadata": {},
   "outputs": [
    {
     "data": {
      "text/plain": [
       "0.7567672775182658"
      ]
     },
     "execution_count": 355,
     "metadata": {},
     "output_type": "execute_result"
    }
   ],
   "source": [
    "logisticRegr = LogisticRegression(max_iter = 1000)\n",
    "logisticRegr.fit(X_train, y_train.values.ravel())\n",
    "y_pred = logisticRegr.predict_proba(X_test)\n",
    "roc_auc_score(y_test,y_pred[:,1])"
   ]
  },
  {
   "cell_type": "code",
   "execution_count": null,
   "metadata": {},
   "outputs": [
    {
     "data": {
      "text/plain": [
       "[<matplotlib.lines.Line2D at 0x22b6d390e20>]"
      ]
     },
     "execution_count": 358,
     "metadata": {},
     "output_type": "execute_result"
    },
    {
     "data": {
      "image/png": "[encoded data removed]",
      "text/plain": [
       "<Figure size 432x288 with 1 Axes>"
      ]
     },
     "metadata": {
      "needs_background": "light"
     },
     "output_type": "display_data"
    }
   ],
   "source": [
    "from sklearn.calibration import CalibratedClassifierCV, calibration_curve\n",
    "pos_frac, mean_val = calibration_curve(y_test,y_pred[:,1],n_bins=10)\n",
    "plt.plot(mean_val, pos_frac)"
   ]
  },
  {
   "cell_type": "code",
   "execution_count": null,
   "metadata": {},
   "outputs": [
    {
     "data": {
      "text/plain": [
       "[<matplotlib.lines.Line2D at 0x22b6d29fa60>]"
      ]
     },
     "execution_count": 357,
     "metadata": {},
     "output_type": "execute_result"
    },
    {
     "data": {
      "image/png": "[encoded data removed]",
      "text/plain": [
       "<Figure size 432x288 with 1 Axes>"
      ]
     },
     "metadata": {
      "needs_background": "light"
     },
     "output_type": "display_data"
    }
   ],
   "source": [
    "plt.plot(mean_val, pos_frac)"
   ]
  },
  {
   "cell_type": "code",
   "execution_count": null,
   "metadata": {},
   "outputs": [],
   "source": []
  }
 ],
 "metadata": {
  "kernelspec": {
   "display_name": "causal_inf",
   "language": "python",
   "name": "python3"
  },
  "language_info": {
   "codemirror_mode": {
    "name": "ipython",
    "version": 3
   },
   "file_extension": ".py",
   "mimetype": "text/x-python",
   "name": "python",
   "nbconvert_exporter": "python",
   "pygments_lexer": "ipython3",
   "version": "3.8.9"
  },
  "orig_nbformat": 4
 },
 "nbformat": 4,
 "nbformat_minor": 2
}
