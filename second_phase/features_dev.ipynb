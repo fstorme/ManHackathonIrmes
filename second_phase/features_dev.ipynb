{
 "cells": [
  {
   "cell_type": "code",
   "execution_count": 7,
   "metadata": {},
   "outputs": [
    {
     "name": "stdout",
     "output_type": "stream",
     "text": [
      "The autoreload extension is already loaded. To reload it, use:\n",
      "  %reload_ext autoreload\n"
     ]
    }
   ],
   "source": [
    "import pandas as pd\n",
    "import json\n",
    "from tqdm import tqdm\n",
    "import numpy as np\n",
    "import matplotlib.pyplot as plt\n",
    "\n",
    "%load_ext autoreload\n",
    "%autoreload 2\n",
    "import sys\n",
    "import os\n",
    "sys.path.insert(0, '../')\n",
    "from scripts_second_phase.tracking import MatchTracking \n",
    "from scripts_second_phase.pass_events import PassEvents"
   ]
  },
  {
   "cell_type": "code",
   "execution_count": 8,
   "metadata": {},
   "outputs": [
    {
     "data": {
      "text/plain": [
       "{'ManCity_Arsenal': 'g2312135',\n",
       " 'ManCity_LeicesterCity': 'g2312152',\n",
       " 'ManCity_Liverpool': 'g2312166',\n",
       " 'ManCity_Brighton': 'g2312183',\n",
       " 'ManCity_Tottenham': 'g2312213'}"
      ]
     },
     "execution_count": 8,
     "metadata": {},
     "output_type": "execute_result"
    }
   ],
   "source": [
    "# Relou de toujours devoir aller chercher le nom du match correspondant dans statsbomb : création d'un mapping\n",
    "tracking_to_event  = {\n",
    "    #'g2312201' : 'ManCity_AstonVilla',\n",
    "    'g2312135' : 'ManCity_Arsenal',\n",
    "    'g2312152' : 'ManCity_LeicesterCity',\n",
    "    'g2312166' : 'ManCity_Liverpool',\n",
    "    'g2312183' : 'ManCity_Brighton',\n",
    "    'g2312213' : 'ManCity_Tottenham'\n",
    "}\n",
    "event_to_tracking = {v: k for k, v in tracking_to_event.items()}\n",
    "event_to_tracking"
   ]
  },
  {
   "cell_type": "code",
   "execution_count": 9,
   "metadata": {},
   "outputs": [],
   "source": [
    "game = 'ManCity_Liverpool'"
   ]
  },
  {
   "cell_type": "code",
   "execution_count": 10,
   "metadata": {},
   "outputs": [],
   "source": [
    "if False :  \n",
    "    # Vérification qu'on attaque bien toujours à droite dans les données de tracking\n",
    "    match_tracking = MatchTracking(tracking_file=event_to_tracking[game], event_file=game)\n",
    "\n",
    "    df_home = match_tracking.HomeTracking.df_tracking.copy()\n",
    "    df_home1 = df_home[df_home['period']==1].sample(1000)\n",
    "    plt.scatter(df_home1.x,df_home1.y)\n",
    "    plt.show()\n",
    "\n",
    "    df_home2 = df_home[df_home['period']==2].sample(1000)\n",
    "    plt.scatter(df_home2.x,df_home2.y)\n",
    "    plt.show()\n",
    "\n",
    "    df_away = match_tracking.AwayTracking.df_tracking.copy()\n",
    "    df_away1 = df_away[df_away['period']==1].sample(1000)\n",
    "    plt.scatter(df_away1.x,df_away1.y)\n",
    "    plt.show()\n",
    "\n",
    "    df_away2 = df_away[df_away['period']==2].sample(1000)\n",
    "    plt.scatter(df_away2.x,df_away2.y)\n",
    "    plt.show()"
   ]
  },
  {
   "cell_type": "code",
   "execution_count": 11,
   "metadata": {},
   "outputs": [],
   "source": [
    "if False : \n",
    "    # Vérification qu'on attaque bien toujours à droite dans les données de passes\n",
    "    pass_events = PassEvents(event_file=game)\n",
    "\n",
    "    df_home = pass_events.df_pass_home.copy()\n",
    "    df_home1 = df_home[df_home['period']==1]\n",
    "    plt.scatter(df_home1.x,df_home1.y)\n",
    "    plt.show()\n",
    "\n",
    "    df_home2 = df_home[df_home['period']==2]\n",
    "    plt.scatter(df_home2.x,df_home2.y)\n",
    "    plt.show()\n",
    "\n",
    "    df_away = pass_events.df_pass_away.copy()\n",
    "    df_away1 = df_away[df_away['period']==1]\n",
    "    plt.scatter(df_away1.x,df_away1.y)\n",
    "    plt.show()\n",
    "\n",
    "    df_away2 = df_away[df_away['period']==2]\n",
    "    plt.scatter(df_away2.x,df_away2.y)\n",
    "    plt.show()"
   ]
  },
  {
   "cell_type": "code",
   "execution_count": 12,
   "metadata": {},
   "outputs": [
    {
     "name": "stderr",
     "output_type": "stream",
     "text": [
      "  0%|          | 0/5 [00:00<?, ?it/s]../scripts_second_phase/tracking.py:134: FutureWarning: The default value of numeric_only in DataFrameGroupBy.mean is deprecated. In a future version, numeric_only will default to False. Either specify numeric_only or select only columns which should be valid for the function.\n",
      "  home_goalkeeper_diff_position = self.HomeTracking.df_tracking[\n",
      "../scripts_second_phase/tracking.py:136: FutureWarning: The default value of numeric_only in DataFrameGroupBy.mean is deprecated. In a future version, numeric_only will default to False. Either specify numeric_only or select only columns which should be valid for the function.\n",
      "  away_goalkeeper_diff_position = self.AwayTracking.df_tracking[\n",
      "../scripts_second_phase/pass_events.py:135: SettingWithCopyWarning: \n",
      "A value is trying to be set on a copy of a slice from a DataFrame.\n",
      "Try using .loc[row_indexer,col_indexer] = value instead\n",
      "\n",
      "See the caveats in the documentation: https://pandas.pydata.org/pandas-docs/stable/user_guide/indexing.html#returning-a-view-versus-a-copy\n",
      "  modelling_df_home.loc[:,'completed'] = 0\n",
      "../scripts_second_phase/pass_events.py:136: SettingWithCopyWarning: \n",
      "A value is trying to be set on a copy of a slice from a DataFrame.\n",
      "Try using .loc[row_indexer,col_indexer] = value instead\n",
      "\n",
      "See the caveats in the documentation: https://pandas.pydata.org/pandas-docs/stable/user_guide/indexing.html#returning-a-view-versus-a-copy\n",
      "  modelling_df_away.loc[:,'completed'] = 0\n",
      " 20%|██        | 1/5 [01:26<05:45, 86.45s/it]../scripts_second_phase/tracking.py:134: FutureWarning: The default value of numeric_only in DataFrameGroupBy.mean is deprecated. In a future version, numeric_only will default to False. Either specify numeric_only or select only columns which should be valid for the function.\n",
      "  home_goalkeeper_diff_position = self.HomeTracking.df_tracking[\n",
      "../scripts_second_phase/tracking.py:136: FutureWarning: The default value of numeric_only in DataFrameGroupBy.mean is deprecated. In a future version, numeric_only will default to False. Either specify numeric_only or select only columns which should be valid for the function.\n",
      "  away_goalkeeper_diff_position = self.AwayTracking.df_tracking[\n",
      "../scripts_second_phase/pass_events.py:135: SettingWithCopyWarning: \n",
      "A value is trying to be set on a copy of a slice from a DataFrame.\n",
      "Try using .loc[row_indexer,col_indexer] = value instead\n",
      "\n",
      "See the caveats in the documentation: https://pandas.pydata.org/pandas-docs/stable/user_guide/indexing.html#returning-a-view-versus-a-copy\n",
      "  modelling_df_home.loc[:,'completed'] = 0\n",
      "../scripts_second_phase/pass_events.py:136: SettingWithCopyWarning: \n",
      "A value is trying to be set on a copy of a slice from a DataFrame.\n",
      "Try using .loc[row_indexer,col_indexer] = value instead\n",
      "\n",
      "See the caveats in the documentation: https://pandas.pydata.org/pandas-docs/stable/user_guide/indexing.html#returning-a-view-versus-a-copy\n",
      "  modelling_df_away.loc[:,'completed'] = 0\n",
      " 40%|████      | 2/5 [02:46<04:08, 82.81s/it]../scripts_second_phase/tracking.py:134: FutureWarning: The default value of numeric_only in DataFrameGroupBy.mean is deprecated. In a future version, numeric_only will default to False. Either specify numeric_only or select only columns which should be valid for the function.\n",
      "  home_goalkeeper_diff_position = self.HomeTracking.df_tracking[\n",
      "../scripts_second_phase/tracking.py:136: FutureWarning: The default value of numeric_only in DataFrameGroupBy.mean is deprecated. In a future version, numeric_only will default to False. Either specify numeric_only or select only columns which should be valid for the function.\n",
      "  away_goalkeeper_diff_position = self.AwayTracking.df_tracking[\n",
      "../scripts_second_phase/pass_events.py:135: SettingWithCopyWarning: \n",
      "A value is trying to be set on a copy of a slice from a DataFrame.\n",
      "Try using .loc[row_indexer,col_indexer] = value instead\n",
      "\n",
      "See the caveats in the documentation: https://pandas.pydata.org/pandas-docs/stable/user_guide/indexing.html#returning-a-view-versus-a-copy\n",
      "  modelling_df_home.loc[:,'completed'] = 0\n",
      "../scripts_second_phase/pass_events.py:136: SettingWithCopyWarning: \n",
      "A value is trying to be set on a copy of a slice from a DataFrame.\n",
      "Try using .loc[row_indexer,col_indexer] = value instead\n",
      "\n",
      "See the caveats in the documentation: https://pandas.pydata.org/pandas-docs/stable/user_guide/indexing.html#returning-a-view-versus-a-copy\n",
      "  modelling_df_away.loc[:,'completed'] = 0\n",
      " 60%|██████    | 3/5 [04:01<02:38, 79.03s/it]../scripts_second_phase/tracking.py:134: FutureWarning: The default value of numeric_only in DataFrameGroupBy.mean is deprecated. In a future version, numeric_only will default to False. Either specify numeric_only or select only columns which should be valid for the function.\n",
      "  home_goalkeeper_diff_position = self.HomeTracking.df_tracking[\n",
      "../scripts_second_phase/tracking.py:136: FutureWarning: The default value of numeric_only in DataFrameGroupBy.mean is deprecated. In a future version, numeric_only will default to False. Either specify numeric_only or select only columns which should be valid for the function.\n",
      "  away_goalkeeper_diff_position = self.AwayTracking.df_tracking[\n",
      "../scripts_second_phase/pass_events.py:135: SettingWithCopyWarning: \n",
      "A value is trying to be set on a copy of a slice from a DataFrame.\n",
      "Try using .loc[row_indexer,col_indexer] = value instead\n",
      "\n",
      "See the caveats in the documentation: https://pandas.pydata.org/pandas-docs/stable/user_guide/indexing.html#returning-a-view-versus-a-copy\n",
      "  modelling_df_home.loc[:,'completed'] = 0\n",
      " 80%|████████  | 4/5 [05:19<01:18, 78.65s/it]../scripts_second_phase/tracking.py:134: FutureWarning: The default value of numeric_only in DataFrameGroupBy.mean is deprecated. In a future version, numeric_only will default to False. Either specify numeric_only or select only columns which should be valid for the function.\n",
      "  home_goalkeeper_diff_position = self.HomeTracking.df_tracking[\n",
      "../scripts_second_phase/tracking.py:136: FutureWarning: The default value of numeric_only in DataFrameGroupBy.mean is deprecated. In a future version, numeric_only will default to False. Either specify numeric_only or select only columns which should be valid for the function.\n",
      "  away_goalkeeper_diff_position = self.AwayTracking.df_tracking[\n",
      "../scripts_second_phase/pass_events.py:135: SettingWithCopyWarning: \n",
      "A value is trying to be set on a copy of a slice from a DataFrame.\n",
      "Try using .loc[row_indexer,col_indexer] = value instead\n",
      "\n",
      "See the caveats in the documentation: https://pandas.pydata.org/pandas-docs/stable/user_guide/indexing.html#returning-a-view-versus-a-copy\n",
      "  modelling_df_home.loc[:,'completed'] = 0\n",
      "../scripts_second_phase/pass_events.py:136: SettingWithCopyWarning: \n",
      "A value is trying to be set on a copy of a slice from a DataFrame.\n",
      "Try using .loc[row_indexer,col_indexer] = value instead\n",
      "\n",
      "See the caveats in the documentation: https://pandas.pydata.org/pandas-docs/stable/user_guide/indexing.html#returning-a-view-versus-a-copy\n",
      "  modelling_df_away.loc[:,'completed'] = 0\n",
      "100%|██████████| 5/5 [06:41<00:00, 80.38s/it]\n"
     ]
    }
   ],
   "source": [
    "train_set = list()\n",
    "for game in tqdm(event_to_tracking) :\n",
    "\n",
    "    match_tracking = MatchTracking(tracking_file=event_to_tracking[game], event_file=game)\n",
    "    pass_events = PassEvents(event_file=game)\n",
    "\n",
    "    # Synchronisation de la position du passeur et receveur \n",
    "    pass_events.update_position(match_tracking=match_tracking)\n",
    "    # Ajout de la position des autres joueurs\n",
    "    pass_events.update_dataset_with_position(match_tracking=match_tracking)\n",
    "    # Ajout dans l'objet de la dimension du terrain\n",
    "    pass_events.get_pitch_dimensions(match_tracking=match_tracking)\n",
    "    # Suprresion des passes inexploitables\n",
    "    pass_events.clean_dataset()\n",
    "    # Calcul des features\n",
    "    pass_events.set_df_for_model()\n",
    "\n",
    "    if game == 'ManCity_AstonVilla' :\n",
    "        pass_events.df_model.to_csv('astonvilla.csv')\n",
    "    else :\n",
    "        train_set.append(pass_events.df_model)\n",
    "\n",
    "train_set = pd.concat(train_set)\n",
    "train_set.to_csv('pass_dataset.csv')"
   ]
  }
 ],
 "metadata": {
  "kernelspec": {
   "display_name": "causal_inf",
   "language": "python",
   "name": "python3"
  },
  "language_info": {
   "codemirror_mode": {
    "name": "ipython",
    "version": 3
   },
   "file_extension": ".py",
   "mimetype": "text/x-python",
   "name": "python",
   "nbconvert_exporter": "python",
   "pygments_lexer": "ipython3",
   "version": "3.8.9"
  },
  "orig_nbformat": 4
 },
 "nbformat": 4,
 "nbformat_minor": 2
}
